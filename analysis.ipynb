{
 "cells": [
  {
   "cell_type": "code",
   "execution_count": 1,
   "id": "b188179e",
   "metadata": {},
   "outputs": [],
   "source": [
    "import numpy as np\n",
    "import pandas as pd\n",
    "import matplotlib.pyplot as plt\n",
    "from collections import defaultdict, Counter\n",
    "from copy import deepcopy\n",
    "\n",
    "from postprocessing import drop_similar, update_occupations, filter_rare_occupations, filter_outlier_wikidata\n",
    "from postprocessing import update_occupations, upd_single_occ\n",
    "from postprocessing import filter_irrelevant\n",
    "from postprocessing import prefered_occs\n",
    "\n",
    "from fuzzywuzzy import fuzz\n",
    "\n",
    "from os.path import join\n",
    "import json\n",
    "from figures import plot_hists\n",
    "\n",
    "DATA_PATH = 'data'\n",
    "\n",
    "df = pd.read_json(join(DATA_PATH, 'union.json'), lines=True)\n",
    "df[\"s\"] = df[\"s\"].apply(lambda x: x.lower())\n",
    "del df[\"id\"]"
   ]
  },
  {
   "cell_type": "markdown",
   "id": "c481cdac",
   "metadata": {},
   "source": [
    "> Loading some usefule files"
   ]
  },
  {
   "cell_type": "code",
   "execution_count": 2,
   "id": "1c6ffb0a",
   "metadata": {},
   "outputs": [
    {
     "name": "stdout",
     "output_type": "stream",
     "text": [
      "Number of countries: 180\n",
      "Number of occupations: 1249\n"
     ]
    }
   ],
   "source": [
    "with open(join(DATA_PATH, 'countries_vocab.json'), 'r', encoding=\"utf-8\") as f:\n",
    "    countries_dict = {k: str(v.lower().strip()) for k, v in json.loads(f.readline()).items()}\n",
    "    coun_num = len(set(countries_dict.values()))\n",
    "    print(f\"Number of countries: {coun_num}\")\n",
    "    \n",
    "with open(join(DATA_PATH, 'occupations_vocab.json'), 'r', encoding=\"utf-8\") as f:\n",
    "    occupations_dict = {k: str(v.lower().strip()) for k, v in json.loads(f.readline()).items()}\n",
    "    occ_num = len(set(occupations_dict.values()))\n",
    "    print(f\"Number of occupations: {occ_num}\")\n",
    "with open(join(\"postprocessing\", 'name2occ.json'), 'r', encoding=\"utf-8\") as f:\n",
    "    name2occ =  json.loads(f.read())"
   ]
  },
  {
   "cell_type": "markdown",
   "id": "db89a567",
   "metadata": {},
   "source": [
    ">Columns:  \n",
    "q = \"quote\"  \n",
    "d = \"date\"  \n",
    "s = \"speaker\"  \n",
    "o = \"occurancies\"  \n",
    "gender = gender of the speakers  \n",
    "birth = birth dates of the speakers  \n",
    "occupation_ids = wikidata ids of the speakers' occupancies  \n",
    "citizenship_id = wikidata ids of the speakers' citizenship\n",
    "\n"
   ]
  },
  {
   "cell_type": "code",
   "execution_count": 3,
   "id": "8196216a",
   "metadata": {},
   "outputs": [
    {
     "data": {
      "text/html": [
       "<div>\n",
       "<style scoped>\n",
       "    .dataframe tbody tr th:only-of-type {\n",
       "        vertical-align: middle;\n",
       "    }\n",
       "\n",
       "    .dataframe tbody tr th {\n",
       "        vertical-align: top;\n",
       "    }\n",
       "\n",
       "    .dataframe thead th {\n",
       "        text-align: right;\n",
       "    }\n",
       "</style>\n",
       "<table border=\"1\" class=\"dataframe\">\n",
       "  <thead>\n",
       "    <tr style=\"text-align: right;\">\n",
       "      <th></th>\n",
       "      <th>q</th>\n",
       "      <th>d</th>\n",
       "      <th>s</th>\n",
       "      <th>o</th>\n",
       "      <th>gender</th>\n",
       "      <th>birth</th>\n",
       "      <th>occupation_ids</th>\n",
       "      <th>citizenship_id</th>\n",
       "    </tr>\n",
       "  </thead>\n",
       "  <tbody>\n",
       "    <tr>\n",
       "      <th>0</th>\n",
       "      <td>will be playing a lot of the tracks from micro...</td>\n",
       "      <td>2008-12-02 17:59:33</td>\n",
       "      <td>lockett pundt</td>\n",
       "      <td>1</td>\n",
       "      <td>[male]</td>\n",
       "      <td>[+1982-10-07T00:00:00Z]</td>\n",
       "      <td>[[Q855091]]</td>\n",
       "      <td>[Q30]</td>\n",
       "    </tr>\n",
       "    <tr>\n",
       "      <th>1</th>\n",
       "      <td>the corporation looks a bit concerned there te...</td>\n",
       "      <td>2008-10-16 01:39:41</td>\n",
       "      <td>tessa martin</td>\n",
       "      <td>2</td>\n",
       "      <td>[female]</td>\n",
       "      <td>[None]</td>\n",
       "      <td>[[Q2500638]]</td>\n",
       "      <td>[None]</td>\n",
       "    </tr>\n",
       "    <tr>\n",
       "      <th>2</th>\n",
       "      <td>the broker who supposed a large shareholder ha...</td>\n",
       "      <td>2008-12-01 10:39:05</td>\n",
       "      <td>anthony anderson</td>\n",
       "      <td>1</td>\n",
       "      <td>[male, male, male, male, male]</td>\n",
       "      <td>[+1901-00-00T00:00:00Z, +1981-11-12T00:00:00Z,...</td>\n",
       "      <td>[[Q3282637], [Q3665646], [Q245068, Q10800557, ...</td>\n",
       "      <td>[None, Q30, Q30, Q30, Q145]</td>\n",
       "    </tr>\n",
       "    <tr>\n",
       "      <th>3</th>\n",
       "      <td>whining and bitching and am a sore loser</td>\n",
       "      <td>2008-11-05 07:41:00</td>\n",
       "      <td>barack obama</td>\n",
       "      <td>2</td>\n",
       "      <td>[male]</td>\n",
       "      <td>[+1961-08-04T00:00:00Z]</td>\n",
       "      <td>[[Q82955, Q40348, Q15958642, Q28532974, Q37243...</td>\n",
       "      <td>[Q30]</td>\n",
       "    </tr>\n",
       "    <tr>\n",
       "      <th>4</th>\n",
       "      <td>everybody is a bit concerned with the economy ...</td>\n",
       "      <td>2008-10-17 01:25:29</td>\n",
       "      <td>jake hansen</td>\n",
       "      <td>3</td>\n",
       "      <td>[male]</td>\n",
       "      <td>[+1989-08-21T00:00:00Z]</td>\n",
       "      <td>[[Q11774891]]</td>\n",
       "      <td>[Q30]</td>\n",
       "    </tr>\n",
       "  </tbody>\n",
       "</table>\n",
       "</div>"
      ],
      "text/plain": [
       "                                                   q                    d  \\\n",
       "0  will be playing a lot of the tracks from micro...  2008-12-02 17:59:33   \n",
       "1  the corporation looks a bit concerned there te...  2008-10-16 01:39:41   \n",
       "2  the broker who supposed a large shareholder ha...  2008-12-01 10:39:05   \n",
       "3           whining and bitching and am a sore loser  2008-11-05 07:41:00   \n",
       "4  everybody is a bit concerned with the economy ...  2008-10-17 01:25:29   \n",
       "\n",
       "                  s  o                          gender  \\\n",
       "0     lockett pundt  1                          [male]   \n",
       "1      tessa martin  2                        [female]   \n",
       "2  anthony anderson  1  [male, male, male, male, male]   \n",
       "3      barack obama  2                          [male]   \n",
       "4       jake hansen  3                          [male]   \n",
       "\n",
       "                                               birth  \\\n",
       "0                            [+1982-10-07T00:00:00Z]   \n",
       "1                                             [None]   \n",
       "2  [+1901-00-00T00:00:00Z, +1981-11-12T00:00:00Z,...   \n",
       "3                            [+1961-08-04T00:00:00Z]   \n",
       "4                            [+1989-08-21T00:00:00Z]   \n",
       "\n",
       "                                      occupation_ids  \\\n",
       "0                                        [[Q855091]]   \n",
       "1                                       [[Q2500638]]   \n",
       "2  [[Q3282637], [Q3665646], [Q245068, Q10800557, ...   \n",
       "3  [[Q82955, Q40348, Q15958642, Q28532974, Q37243...   \n",
       "4                                      [[Q11774891]]   \n",
       "\n",
       "                citizenship_id  \n",
       "0                        [Q30]  \n",
       "1                       [None]  \n",
       "2  [None, Q30, Q30, Q30, Q145]  \n",
       "3                        [Q30]  \n",
       "4                        [Q30]  "
      ]
     },
     "execution_count": 3,
     "metadata": {},
     "output_type": "execute_result"
    }
   ],
   "source": [
    "df.head()"
   ]
  },
  {
   "cell_type": "markdown",
   "id": "35410858",
   "metadata": {},
   "source": [
    "> First of all we will drop the persons, which was not found in Wikidata. This persons should have a special attention, especially those, who have a big number of quotations. However for them we will need to manually join the information about a certain person, since their QID was not found in the current version Wikidata."
   ]
  },
  {
   "cell_type": "code",
   "execution_count": 4,
   "id": "f63aafde",
   "metadata": {},
   "outputs": [],
   "source": [
    "df = df[\n",
    "    ~df.apply(\n",
    "        lambda x: not(\n",
    "            x[\"gender\"] or \\\n",
    "            x[\"birth\"] or \\\n",
    "            x[\"occupation_ids\"] or \\\n",
    "            x[\"citizenship_id\"]\n",
    "        ), axis=1)\n",
    "]"
   ]
  },
  {
   "cell_type": "markdown",
   "id": "add862d2",
   "metadata": {},
   "source": [
    "> Next we will get rid of quotes, which are not related to `bitcoin` and `crypto`. For instance quates, containing subphrases like: `little bit`, `bitching`"
   ]
  },
  {
   "cell_type": "code",
   "execution_count": 5,
   "id": "81d31bd4",
   "metadata": {},
   "outputs": [],
   "source": [
    "df = df[df[\"q\"].apply(lambda x: filter_irrelevant(x))]"
   ]
  },
  {
   "cell_type": "markdown",
   "id": "12789175",
   "metadata": {},
   "source": [
    "> Lets then preprocess the list of occupations we have. As can be observerd, there are multiple occupations containing similar words: e.g. `music teacher`, `biology teacher`, `school teacher`"
   ]
  },
  {
   "cell_type": "markdown",
   "id": "1577df32",
   "metadata": {},
   "source": [
    "> We will join all the profession containing `artist`, `player`, `video game`. Moreover we will replace `chief executive officer` with `executive director` to distingfish them from `police officer`"
   ]
  },
  {
   "cell_type": "code",
   "execution_count": 6,
   "id": "f8e98190",
   "metadata": {},
   "outputs": [],
   "source": [
    "occupations_dict = update_occupations(occupations_dict)"
   ]
  },
  {
   "cell_type": "code",
   "execution_count": 7,
   "id": "681d100b",
   "metadata": {},
   "outputs": [
    {
     "data": {
      "text/plain": [
       "[('sport', 199),\n",
       " ('media', 111),\n",
       " ('business', 81),\n",
       " ('science', 50),\n",
       " ('writer', 40)]"
      ]
     },
     "execution_count": 7,
     "metadata": {},
     "output_type": "execute_result"
    }
   ],
   "source": [
    "occupations = [word.split() for word in occupations_dict.values()]\n",
    "Counter(sum(occupations, [])).most_common()[:5]"
   ]
  },
  {
   "cell_type": "markdown",
   "id": "30e2fff4",
   "metadata": {},
   "source": [
    "> Then we filter occupations, which occured only single time in the entire dataset, for instance, `ufc lightweight fighter`."
   ]
  },
  {
   "cell_type": "code",
   "execution_count": 8,
   "id": "00d3e2f4",
   "metadata": {},
   "outputs": [],
   "source": [
    "occ_freq = defaultdict(int)\n",
    "for occ_ids in df[\"occupation_ids\"].values:\n",
    "    if occ_ids is not None:\n",
    "        for occs in occ_ids:\n",
    "            if occs is not None:\n",
    "                for o in occs:\n",
    "                    occ_freq[o] += 1\n",
    "                \n",
    "df = df.apply(lambda x: filter_rare_occupations(x, occ_freq), axis=1)"
   ]
  },
  {
   "cell_type": "code",
   "execution_count": 9,
   "id": "0c1f6955",
   "metadata": {},
   "outputs": [
    {
     "name": "stdout",
     "output_type": "stream",
     "text": [
      "Reduced number of occupations: 869\n"
     ]
    }
   ],
   "source": [
    "occ_set = set()\n",
    "for occ_lsts in df[\"occupation_ids\"].values:\n",
    "    if occ_lsts is not None:\n",
    "        for lst in occ_lsts:\n",
    "            if lst is not None:\n",
    "                occ_set.update(lst)\n",
    "print(f\"Reduced number of occupations: {len(occ_set)}\")"
   ]
  },
  {
   "cell_type": "markdown",
   "id": "8d28daed",
   "metadata": {},
   "source": [
    "> Next we will fiter Wikidata pages without `occupation` or `citizenship`. Also we will filter `genders` and `citizenship`, which does not match the `gender` and `citizenship` of majority"
   ]
  },
  {
   "cell_type": "code",
   "execution_count": 10,
   "id": "cbeb4bf1",
   "metadata": {},
   "outputs": [
    {
     "name": "stdout",
     "output_type": "stream",
     "text": [
      "Percent of quotations in dataset, where more then one QID is joined 0.1838344011828487\n"
     ]
    }
   ],
   "source": [
    "df = df.apply(lambda x: filter_outlier_wikidata(x), axis=1)\n",
    "df = df[~df.apply(lambda x: not(x[\"gender\"] or x[\"birth\"] or x[\"occupation_ids\"] or x[\"citizenship_id\"]), axis=1)]\n",
    "percent = (df[\"citizenship_id\"].apply(len) > 1).sum() / len(df)\n",
    "\n",
    "print(f\"Percent of quotations in dataset, where more then one QID is joined {percent}\")  \n",
    "\n",
    "df[\"gender\"] = df[\"gender\"].apply(lambda x: x[0])\n",
    "df[\"citizenship_id\"] = df[\"citizenship_id\"].apply(lambda x: x[0])"
   ]
  },
  {
   "cell_type": "markdown",
   "id": "20dc0ac6",
   "metadata": {},
   "source": [
    "> Next we will split the dates"
   ]
  },
  {
   "cell_type": "code",
   "execution_count": 11,
   "id": "3fe698a0",
   "metadata": {},
   "outputs": [],
   "source": [
    "df['publish_year'] = df['d'].apply(lambda x: x[:4])\n",
    "df['publish_month'] = df['d'].apply(lambda x: x[5:7])"
   ]
  },
  {
   "cell_type": "markdown",
   "id": "f78c4cfe",
   "metadata": {},
   "source": [
    "> The first plot we build to validate if everything is correct is `number of occurancies` w.r.t. `publish year` "
   ]
  },
  {
   "cell_type": "code",
   "execution_count": 12,
   "id": "6ec028cf",
   "metadata": {},
   "outputs": [
    {
     "data": {
      "image/png": "[encoded data removed]",
      "text/plain": [
       "<Figure size 720x576 with 1 Axes>"
      ]
     },
     "metadata": {
      "needs_background": "light"
     },
     "output_type": "display_data"
    }
   ],
   "source": [
    "plt.figure(figsize=(10,8))\n",
    "plt.plot(df.groupby('publish_year')['o'].count())\n",
    "plt.xlabel(\"Year\")\n",
    "plt.ylabel(\"Occurances of a bitcoin-related quotes\")\n",
    "plt.grid()\n",
    "plt.show()"
   ]
  },
  {
   "cell_type": "markdown",
   "id": "ef206bd9",
   "metadata": {},
   "source": [
    "> Seems like everything is okey, since the two main increases in popularity of bitcoin was indeed in `2014` and `2017`, according to the `Google trends`"
   ]
  },
  {
   "cell_type": "markdown",
   "id": "38ab8b24",
   "metadata": {},
   "source": [
    "> The most cited pearsons also seems reasonable"
   ]
  },
  {
   "cell_type": "code",
   "execution_count": 13,
   "id": "47efaadc",
   "metadata": {},
   "outputs": [
    {
     "data": {
      "text/plain": [
       "s\n",
       "jamie dimon        665\n",
       "mark karpeles      626\n",
       "thomas peterffy    589\n",
       "craig wright       586\n",
       "adrian lee         585\n",
       "Name: o, dtype: int64"
      ]
     },
     "execution_count": 13,
     "metadata": {},
     "output_type": "execute_result"
    }
   ],
   "source": [
    "df.groupby(['s']).sum()['o'].sort_values(ascending=False).head()"
   ]
  },
  {
   "cell_type": "markdown",
   "id": "1eba92e2",
   "metadata": {},
   "source": [
    "> Then we will reduce the number of occupations, since most of them are very simmilar. We will utilize `fuzzywuzzy` to find similar words. Then we will build a graph, where the vertices are the `occupations`, and adge between $o_i$ and $o_j$ exists if the similarity in terms of `fuzzywuzzy` metric is greater then a treshold."
   ]
  },
  {
   "cell_type": "code",
   "execution_count": 14,
   "id": "577415a9",
   "metadata": {},
   "outputs": [],
   "source": [
    "occupations_dict = drop_similar(occupations_dict)"
   ]
  },
  {
   "cell_type": "code",
   "execution_count": 15,
   "id": "bf6ee78b",
   "metadata": {},
   "outputs": [],
   "source": [
    "names1 = (df.groupby(\"s\").sum() > 10).reset_index()\n",
    "names1 = names1.loc[names1[\"o\"], \"s\"]\n",
    "names1 = set(names1.values)\n",
    "names2 = (df.groupby(\"s\").count() > 3).reset_index()\n",
    "names2 = names2.loc[names2[\"o\"], \"s\"]\n",
    "names2 = set(names2.values)\n",
    "names = names2.intersection(names1)\n",
    "\n",
    "df = df[df[\"s\"].apply(lambda x: x in names)]"
   ]
  },
  {
   "cell_type": "code",
   "execution_count": 16,
   "id": "6f41b298",
   "metadata": {},
   "outputs": [],
   "source": [
    "def select_occupation(x):\n",
    "    output = []\n",
    "    for elem in x:\n",
    "        if elem is not None:\n",
    "            output += list(occupations_dict[e] for e in elem)\n",
    "    output = [o for o in output if o != \"cryptozoologist\"]\n",
    "    result = [item for item, c in Counter(output).most_common()]\n",
    "    if not output:\n",
    "        return None\n",
    "    else:\n",
    "        for o in output:\n",
    "            if \"crypto\" in o:\n",
    "                return o\n",
    "            \n",
    "        if len(output) > 1:\n",
    "            for n in prefered_occs:\n",
    "                if n in output:\n",
    "                    return n\n",
    "            \n",
    "        first = output[0].strip()\n",
    "        if first in [\"sport\", \"writer\", \"media\"]:\n",
    "            if len(output) > 1:\n",
    "                return output[1]\n",
    "        else:\n",
    "            return output[0]"
   ]
  },
  {
   "cell_type": "code",
   "execution_count": 17,
   "id": "54fc77c2",
   "metadata": {},
   "outputs": [],
   "source": [
    "df = df[df[\"birth\"].apply(lambda x: len(x) < 2)]\n",
    "df[\"occupation\"] = df[\"occupation_ids\"].apply(lambda x: select_occupation(x))\n",
    "df[\"occupation\"] = df.apply(lambda x: name2occ[x[\"s\"]] if x[\"s\"] in name2occ else x[\"occupation\"], axis=1)\n",
    "df[\"occupation\"] = df.apply(lambda x: upd_single_occ(x[\"occupation\"]), axis=1)"
   ]
  },
  {
   "cell_type": "code",
   "execution_count": 18,
   "id": "8962635b",
   "metadata": {
    "scrolled": false
   },
   "outputs": [
    {
     "data": {
      "image/png": "[encoded data removed]",
      "text/plain": [
       "<Figure size 1440x2160 with 10 Axes>"
      ]
     },
     "metadata": {
      "needs_background": "light"
     },
     "output_type": "display_data"
    }
   ],
   "source": [
    "plot_hists(df)"
   ]
  },
  {
   "cell_type": "markdown",
   "id": "d4ff30c3",
   "metadata": {},
   "source": [
    "> It seems like the distribution over is a little varied. As we can see, people with sport `occupation` speak up about `bitcoin` and `blockchain` rather more frequent, then other people. It is an interesting observation, since most of the quotes seems to be relevant to `bitcoin`, `blockchain`, and other buzz-words"
   ]
  },
  {
   "cell_type": "code",
   "execution_count": 19,
   "id": "cb2fde9c",
   "metadata": {},
   "outputs": [],
   "source": [
    "df[['q', 'd', 's', 'o', 'gender', 'birth', 'occupation']].to_csv(\"data/preprocessed.csv\", index=False)"
   ]
  },
  {
   "cell_type": "markdown",
   "id": "14928629",
   "metadata": {},
   "source": [
    "---"
   ]
  },
  {
   "cell_type": "markdown",
   "id": "49dab46a",
   "metadata": {},
   "source": [
    "### TODO Set this to percentages"
   ]
  },
  {
   "cell_type": "code",
   "execution_count": 23,
   "id": "52dfb732",
   "metadata": {},
   "outputs": [
    {
     "data": {
      "application/vnd.plotly.v1+json": {
       "config": {
        "plotlyServerURL": "https://plot.ly"
       },
       "data": [
        {
         "alignmentgroup": "True",
         "bingroup": "x",
         "histfunc": "sum",
         "hovertemplate": "occupation=%{x}<br>publish_year=2017<br>sum of occurance_percentage=%{y}<extra></extra>",
         "legendgroup": "business",
         "marker": {
          "color": "#636efa",
          "pattern": {
           "shape": ""
          }
         },
         "name": "business",
         "offsetgroup": "business",
         "orientation": "v",
         "showlegend": true,
         "type": "histogram",
         "x": [
          "business"
         ],
         "xaxis": "x",
         "y": [
          42.01117318435754
         ],
         "yaxis": "y"
        },
        {
         "alignmentgroup": "True",
         "bingroup": "x",
         "histfunc": "sum",
         "hovertemplate": "occupation=%{x}<br>publish_year=2017<br>sum of occurance_percentage=%{y}<extra></extra>",
         "legendgroup": "economist",
         "marker": {
          "color": "#EF553B",
          "pattern": {
           "shape": ""
          }
         },
         "name": "economist",
         "offsetgroup": "economist",
         "orientation": "v",
         "showlegend": true,
         "type": "histogram",
         "x": [
          "economist"
         ],
         "xaxis": "x",
         "y": [
          22.23463687150838
         ],
         "yaxis": "y"
        },
        {
         "alignmentgroup": "True",
         "bingroup": "x",
         "histfunc": "sum",
         "hovertemplate": "occupation=%{x}<br>publish_year=2017<br>sum of occurance_percentage=%{y}<extra></extra>",
         "legendgroup": "politician",
         "marker": {
          "color": "#00cc96",
          "pattern": {
           "shape": ""
          }
         },
         "name": "politician",
         "offsetgroup": "politician",
         "orientation": "v",
         "showlegend": true,
         "type": "histogram",
         "x": [
          "politician"
         ],
         "xaxis": "x",
         "y": [
          15.123703112529927
         ],
         "yaxis": "y"
        },
        {
         "alignmentgroup": "True",
         "bingroup": "x",
         "histfunc": "sum",
         "hovertemplate": "occupation=%{x}<br>publish_year=2017<br>sum of occurance_percentage=%{y}<extra></extra>",
         "legendgroup": "programmer",
         "marker": {
          "color": "#ab63fa",
          "pattern": {
           "shape": ""
          }
         },
         "name": "programmer",
         "offsetgroup": "programmer",
         "orientation": "v",
         "showlegend": true,
         "type": "histogram",
         "x": [
          "programmer"
         ],
         "xaxis": "x",
         "y": [
          9.896249002394255
         ],
         "yaxis": "y"
        },
        {
         "alignmentgroup": "True",
         "bingroup": "x",
         "histfunc": "sum",
         "hovertemplate": "occupation=%{x}<br>publish_year=2017<br>sum of occurance_percentage=%{y}<extra></extra>",
         "legendgroup": "science",
         "marker": {
          "color": "#FFA15A",
          "pattern": {
           "shape": ""
          }
         },
         "name": "science",
         "offsetgroup": "science",
         "orientation": "v",
         "showlegend": true,
         "type": "histogram",
         "x": [
          "science"
         ],
         "xaxis": "x",
         "y": [
          6.3048683160415
         ],
         "yaxis": "y"
        },
        {
         "alignmentgroup": "True",
         "bingroup": "x",
         "histfunc": "sum",
         "hovertemplate": "occupation=%{x}<br>publish_year=2017<br>sum of occurance_percentage=%{y}<extra></extra>",
         "legendgroup": "media",
         "marker": {
          "color": "#19d3f3",
          "pattern": {
           "shape": ""
          }
         },
         "name": "media",
         "offsetgroup": "media",
         "orientation": "v",
         "showlegend": true,
         "type": "histogram",
         "x": [
          "media"
         ],
         "xaxis": "x",
         "y": [
          4.429369513168396
         ],
         "yaxis": "y"
        }
       ],
       "frames": [
        {
         "data": [
          {
           "alignmentgroup": "True",
           "bingroup": "x",
           "histfunc": "sum",
           "hovertemplate": "occupation=%{x}<br>publish_year=2017<br>sum of occurance_percentage=%{y}<extra></extra>",
           "legendgroup": "business",
           "marker": {
            "color": "#636efa",
            "pattern": {
             "shape": ""
            }
           },
           "name": "business",
           "offsetgroup": "business",
           "orientation": "v",
           "showlegend": true,
           "type": "histogram",
           "x": [
            "business"
           ],
           "xaxis": "x",
           "y": [
            42.01117318435754
           ],
           "yaxis": "y"
          },
          {
           "alignmentgroup": "True",
           "bingroup": "x",
           "histfunc": "sum",
           "hovertemplate": "occupation=%{x}<br>publish_year=2017<br>sum of occurance_percentage=%{y}<extra></extra>",
           "legendgroup": "economist",
           "marker": {
            "color": "#EF553B",
            "pattern": {
             "shape": ""
            }
           },
           "name": "economist",
           "offsetgroup": "economist",
           "orientation": "v",
           "showlegend": true,
           "type": "histogram",
           "x": [
            "economist"
           ],
           "xaxis": "x",
           "y": [
            22.23463687150838
           ],
           "yaxis": "y"
          },
          {
           "alignmentgroup": "True",
           "bingroup": "x",
           "histfunc": "sum",
           "hovertemplate": "occupation=%{x}<br>publish_year=2017<br>sum of occurance_percentage=%{y}<extra></extra>",
           "legendgroup": "politician",
           "marker": {
            "color": "#00cc96",
            "pattern": {
             "shape": ""
            }
           },
           "name": "politician",
           "offsetgroup": "politician",
           "orientation": "v",
           "showlegend": true,
           "type": "histogram",
           "x": [
            "politician"
           ],
           "xaxis": "x",
           "y": [
            15.123703112529927
           ],
           "yaxis": "y"
          },
          {
           "alignmentgroup": "True",
           "bingroup": "x",
           "histfunc": "sum",
           "hovertemplate": "occupation=%{x}<br>publish_year=2017<br>sum of occurance_percentage=%{y}<extra></extra>",
           "legendgroup": "programmer",
           "marker": {
            "color": "#ab63fa",
            "pattern": {
             "shape": ""
            }
           },
           "name": "programmer",
           "offsetgroup": "programmer",
           "orientation": "v",
           "showlegend": true,
           "type": "histogram",
           "x": [
            "programmer"
           ],
           "xaxis": "x",
           "y": [
            9.896249002394255
           ],
           "yaxis": "y"
          },
          {
           "alignmentgroup": "True",
           "bingroup": "x",
           "histfunc": "sum",
           "hovertemplate": "occupation=%{x}<br>publish_year=2017<br>sum of occurance_percentage=%{y}<extra></extra>",
           "legendgroup": "science",
           "marker": {
            "color": "#FFA15A",
            "pattern": {
             "shape": ""
            }
           },
           "name": "science",
           "offsetgroup": "science",
           "orientation": "v",
           "showlegend": true,
           "type": "histogram",
           "x": [
            "science"
           ],
           "xaxis": "x",
           "y": [
            6.3048683160415
           ],
           "yaxis": "y"
          },
          {
           "alignmentgroup": "True",
           "bingroup": "x",
           "histfunc": "sum",
           "hovertemplate": "occupation=%{x}<br>publish_year=2017<br>sum of occurance_percentage=%{y}<extra></extra>",
           "legendgroup": "media",
           "marker": {
            "color": "#19d3f3",
            "pattern": {
             "shape": ""
            }
           },
           "name": "media",
           "offsetgroup": "media",
           "orientation": "v",
           "showlegend": true,
           "type": "histogram",
           "x": [
            "media"
           ],
           "xaxis": "x",
           "y": [
            4.429369513168396
           ],
           "yaxis": "y"
          }
         ],
         "name": "2017"
        },
        {
         "data": [
          {
           "alignmentgroup": "True",
           "bingroup": "x",
           "histfunc": "sum",
           "hovertemplate": "occupation=%{x}<br>publish_year=2016<br>sum of occurance_percentage=%{y}<extra></extra>",
           "legendgroup": "business",
           "marker": {
            "color": "#636efa",
            "pattern": {
             "shape": ""
            }
           },
           "name": "business",
           "offsetgroup": "business",
           "orientation": "v",
           "showlegend": true,
           "type": "histogram",
           "x": [
            "business"
           ],
           "xaxis": "x",
           "y": [
            49.76547842401501
           ],
           "yaxis": "y"
          },
          {
           "alignmentgroup": "True",
           "bingroup": "x",
           "histfunc": "sum",
           "hovertemplate": "occupation=%{x}<br>publish_year=2016<br>sum of occurance_percentage=%{y}<extra></extra>",
           "legendgroup": "economist",
           "marker": {
            "color": "#EF553B",
            "pattern": {
             "shape": ""
            }
           },
           "name": "economist",
           "offsetgroup": "economist",
           "orientation": "v",
           "showlegend": true,
           "type": "histogram",
           "x": [
            "economist"
           ],
           "xaxis": "x",
           "y": [
            5.534709193245779
           ],
           "yaxis": "y"
          },
          {
           "alignmentgroup": "True",
           "bingroup": "x",
           "histfunc": "sum",
           "hovertemplate": "occupation=%{x}<br>publish_year=2016<br>sum of occurance_percentage=%{y}<extra></extra>",
           "legendgroup": "politician",
           "marker": {
            "color": "#00cc96",
            "pattern": {
             "shape": ""
            }
           },
           "name": "politician",
           "offsetgroup": "politician",
           "orientation": "v",
           "showlegend": true,
           "type": "histogram",
           "x": [
            "politician"
           ],
           "xaxis": "x",
           "y": [
            5.769230769230769
           ],
           "yaxis": "y"
          },
          {
           "alignmentgroup": "True",
           "bingroup": "x",
           "histfunc": "sum",
           "hovertemplate": "occupation=%{x}<br>publish_year=2016<br>sum of occurance_percentage=%{y}<extra></extra>",
           "legendgroup": "programmer",
           "marker": {
            "color": "#ab63fa",
            "pattern": {
             "shape": ""
            }
           },
           "name": "programmer",
           "offsetgroup": "programmer",
           "orientation": "v",
           "showlegend": true,
           "type": "histogram",
           "x": [
            "programmer"
           ],
           "xaxis": "x",
           "y": [
            25.56285178236398
           ],
           "yaxis": "y"
          },
          {
           "alignmentgroup": "True",
           "bingroup": "x",
           "histfunc": "sum",
           "hovertemplate": "occupation=%{x}<br>publish_year=2016<br>sum of occurance_percentage=%{y}<extra></extra>",
           "legendgroup": "media",
           "marker": {
            "color": "#19d3f3",
            "pattern": {
             "shape": ""
            }
           },
           "name": "media",
           "offsetgroup": "media",
           "orientation": "v",
           "showlegend": true,
           "type": "histogram",
           "x": [
            "media"
           ],
           "xaxis": "x",
           "y": [
            8.72420262664165
           ],
           "yaxis": "y"
          },
          {
           "alignmentgroup": "True",
           "bingroup": "x",
           "histfunc": "sum",
           "hovertemplate": "occupation=%{x}<br>publish_year=2016<br>sum of occurance_percentage=%{y}<extra></extra>",
           "legendgroup": "crypto",
           "marker": {
            "color": "#FF6692",
            "pattern": {
             "shape": ""
            }
           },
           "name": "crypto",
           "offsetgroup": "crypto",
           "orientation": "v",
           "showlegend": true,
           "type": "histogram",
           "x": [
            "crypto"
           ],
           "xaxis": "x",
           "y": [
            4.643527204502814
           ],
           "yaxis": "y"
          }
         ],
         "name": "2016"
        },
        {
         "data": [
          {
           "alignmentgroup": "True",
           "bingroup": "x",
           "histfunc": "sum",
           "hovertemplate": "occupation=%{x}<br>publish_year=2015<br>sum of occurance_percentage=%{y}<extra></extra>",
           "legendgroup": "business",
           "marker": {
            "color": "#636efa",
            "pattern": {
             "shape": ""
            }
           },
           "name": "business",
           "offsetgroup": "business",
           "orientation": "v",
           "showlegend": true,
           "type": "histogram",
           "x": [
            "business"
           ],
           "xaxis": "x",
           "y": [
            38.95216400911162
           ],
           "yaxis": "y"
          },
          {
           "alignmentgroup": "True",
           "bingroup": "x",
           "histfunc": "sum",
           "hovertemplate": "occupation=%{x}<br>publish_year=2015<br>sum of occurance_percentage=%{y}<extra></extra>",
           "legendgroup": "economist",
           "marker": {
            "color": "#EF553B",
            "pattern": {
             "shape": ""
            }
           },
           "name": "economist",
           "offsetgroup": "economist",
           "orientation": "v",
           "showlegend": true,
           "type": "histogram",
           "x": [
            "economist"
           ],
           "xaxis": "x",
           "y": [
            4.783599088838269
           ],
           "yaxis": "y"
          },
          {
           "alignmentgroup": "True",
           "bingroup": "x",
           "histfunc": "sum",
           "hovertemplate": "occupation=%{x}<br>publish_year=2015<br>sum of occurance_percentage=%{y}<extra></extra>",
           "legendgroup": "programmer",
           "marker": {
            "color": "#ab63fa",
            "pattern": {
             "shape": ""
            }
           },
           "name": "programmer",
           "offsetgroup": "programmer",
           "orientation": "v",
           "showlegend": true,
           "type": "histogram",
           "x": [
            "programmer"
           ],
           "xaxis": "x",
           "y": [
            8.018223234624147
           ],
           "yaxis": "y"
          },
          {
           "alignmentgroup": "True",
           "bingroup": "x",
           "histfunc": "sum",
           "hovertemplate": "occupation=%{x}<br>publish_year=2015<br>sum of occurance_percentage=%{y}<extra></extra>",
           "legendgroup": "science",
           "marker": {
            "color": "#FFA15A",
            "pattern": {
             "shape": ""
            }
           },
           "name": "science",
           "offsetgroup": "science",
           "orientation": "v",
           "showlegend": true,
           "type": "histogram",
           "x": [
            "science"
           ],
           "xaxis": "x",
           "y": [
            9.339407744874716
           ],
           "yaxis": "y"
          },
          {
           "alignmentgroup": "True",
           "bingroup": "x",
           "histfunc": "sum",
           "hovertemplate": "occupation=%{x}<br>publish_year=2015<br>sum of occurance_percentage=%{y}<extra></extra>",
           "legendgroup": "media",
           "marker": {
            "color": "#19d3f3",
            "pattern": {
             "shape": ""
            }
           },
           "name": "media",
           "offsetgroup": "media",
           "orientation": "v",
           "showlegend": true,
           "type": "histogram",
           "x": [
            "media"
           ],
           "xaxis": "x",
           "y": [
            35.945330296127565
           ],
           "yaxis": "y"
          },
          {
           "alignmentgroup": "True",
           "bingroup": "x",
           "histfunc": "sum",
           "hovertemplate": "occupation=%{x}<br>publish_year=2015<br>sum of occurance_percentage=%{y}<extra></extra>",
           "legendgroup": "crypto",
           "marker": {
            "color": "#FF6692",
            "pattern": {
             "shape": ""
            }
           },
           "name": "crypto",
           "offsetgroup": "crypto",
           "orientation": "v",
           "showlegend": true,
           "type": "histogram",
           "x": [
            "crypto"
           ],
           "xaxis": "x",
           "y": [
            2.9612756264236904
           ],
           "yaxis": "y"
          }
         ],
         "name": "2015"
        },
        {
         "data": [
          {
           "alignmentgroup": "True",
           "bingroup": "x",
           "histfunc": "sum",
           "hovertemplate": "occupation=%{x}<br>publish_year=2014<br>sum of occurance_percentage=%{y}<extra></extra>",
           "legendgroup": "business",
           "marker": {
            "color": "#636efa",
            "pattern": {
             "shape": ""
            }
           },
           "name": "business",
           "offsetgroup": "business",
           "orientation": "v",
           "showlegend": true,
           "type": "histogram",
           "x": [
            "business"
           ],
           "xaxis": "x",
           "y": [
            37.94277929155314
           ],
           "yaxis": "y"
          },
          {
           "alignmentgroup": "True",
           "bingroup": "x",
           "histfunc": "sum",
           "hovertemplate": "occupation=%{x}<br>publish_year=2014<br>sum of occurance_percentage=%{y}<extra></extra>",
           "legendgroup": "economist",
           "marker": {
            "color": "#EF553B",
            "pattern": {
             "shape": ""
            }
           },
           "name": "economist",
           "offsetgroup": "economist",
           "orientation": "v",
           "showlegend": true,
           "type": "histogram",
           "x": [
            "economist"
           ],
           "xaxis": "x",
           "y": [
            6.6984559491371485
           ],
           "yaxis": "y"
          },
          {
           "alignmentgroup": "True",
           "bingroup": "x",
           "histfunc": "sum",
           "hovertemplate": "occupation=%{x}<br>publish_year=2014<br>sum of occurance_percentage=%{y}<extra></extra>",
           "legendgroup": "politician",
           "marker": {
            "color": "#00cc96",
            "pattern": {
             "shape": ""
            }
           },
           "name": "politician",
           "offsetgroup": "politician",
           "orientation": "v",
           "showlegend": true,
           "type": "histogram",
           "x": [
            "politician"
           ],
           "xaxis": "x",
           "y": [
            8.878292461398729
           ],
           "yaxis": "y"
          },
          {
           "alignmentgroup": "True",
           "bingroup": "x",
           "histfunc": "sum",
           "hovertemplate": "occupation=%{x}<br>publish_year=2014<br>sum of occurance_percentage=%{y}<extra></extra>",
           "legendgroup": "programmer",
           "marker": {
            "color": "#ab63fa",
            "pattern": {
             "shape": ""
            }
           },
           "name": "programmer",
           "offsetgroup": "programmer",
           "orientation": "v",
           "showlegend": true,
           "type": "histogram",
           "x": [
            "programmer"
           ],
           "xaxis": "x",
           "y": [
            24.069028156221616
           ],
           "yaxis": "y"
          },
          {
           "alignmentgroup": "True",
           "bingroup": "x",
           "histfunc": "sum",
           "hovertemplate": "occupation=%{x}<br>publish_year=2014<br>sum of occurance_percentage=%{y}<extra></extra>",
           "legendgroup": "science",
           "marker": {
            "color": "#FFA15A",
            "pattern": {
             "shape": ""
            }
           },
           "name": "science",
           "offsetgroup": "science",
           "orientation": "v",
           "showlegend": true,
           "type": "histogram",
           "x": [
            "science"
           ],
           "xaxis": "x",
           "y": [
            19.277929155313352
           ],
           "yaxis": "y"
          },
          {
           "alignmentgroup": "True",
           "bingroup": "x",
           "histfunc": "sum",
           "hovertemplate": "occupation=%{x}<br>publish_year=2014<br>sum of occurance_percentage=%{y}<extra></extra>",
           "legendgroup": "crypto",
           "marker": {
            "color": "#FF6692",
            "pattern": {
             "shape": ""
            }
           },
           "name": "crypto",
           "offsetgroup": "crypto",
           "orientation": "v",
           "showlegend": true,
           "type": "histogram",
           "x": [
            "crypto"
           ],
           "xaxis": "x",
           "y": [
            3.1335149863760217
           ],
           "yaxis": "y"
          }
         ],
         "name": "2014"
        },
        {
         "data": [
          {
           "alignmentgroup": "True",
           "bingroup": "x",
           "histfunc": "sum",
           "hovertemplate": "occupation=%{x}<br>publish_year=2013<br>sum of occurance_percentage=%{y}<extra></extra>",
           "legendgroup": "business",
           "marker": {
            "color": "#636efa",
            "pattern": {
             "shape": ""
            }
           },
           "name": "business",
           "offsetgroup": "business",
           "orientation": "v",
           "showlegend": true,
           "type": "histogram",
           "x": [
            "business"
           ],
           "xaxis": "x",
           "y": [
            29.731589814177564
           ],
           "yaxis": "y"
          },
          {
           "alignmentgroup": "True",
           "bingroup": "x",
           "histfunc": "sum",
           "hovertemplate": "occupation=%{x}<br>publish_year=2013<br>sum of occurance_percentage=%{y}<extra></extra>",
           "legendgroup": "economist",
           "marker": {
            "color": "#EF553B",
            "pattern": {
             "shape": ""
            }
           },
           "name": "economist",
           "offsetgroup": "economist",
           "orientation": "v",
           "showlegend": true,
           "type": "histogram",
           "x": [
            "economist"
           ],
           "xaxis": "x",
           "y": [
            8.258774948382657
           ],
           "yaxis": "y"
          },
          {
           "alignmentgroup": "True",
           "bingroup": "x",
           "histfunc": "sum",
           "hovertemplate": "occupation=%{x}<br>publish_year=2013<br>sum of occurance_percentage=%{y}<extra></extra>",
           "legendgroup": "politician",
           "marker": {
            "color": "#00cc96",
            "pattern": {
             "shape": ""
            }
           },
           "name": "politician",
           "offsetgroup": "politician",
           "orientation": "v",
           "showlegend": true,
           "type": "histogram",
           "x": [
            "politician"
           ],
           "xaxis": "x",
           "y": [
            11.906400550584996
           ],
           "yaxis": "y"
          },
          {
           "alignmentgroup": "True",
           "bingroup": "x",
           "histfunc": "sum",
           "hovertemplate": "occupation=%{x}<br>publish_year=2013<br>sum of occurance_percentage=%{y}<extra></extra>",
           "legendgroup": "programmer",
           "marker": {
            "color": "#ab63fa",
            "pattern": {
             "shape": ""
            }
           },
           "name": "programmer",
           "offsetgroup": "programmer",
           "orientation": "v",
           "showlegend": true,
           "type": "histogram",
           "x": [
            "programmer"
           ],
           "xaxis": "x",
           "y": [
            13.489332415691672
           ],
           "yaxis": "y"
          },
          {
           "alignmentgroup": "True",
           "bingroup": "x",
           "histfunc": "sum",
           "hovertemplate": "occupation=%{x}<br>publish_year=2013<br>sum of occurance_percentage=%{y}<extra></extra>",
           "legendgroup": "science",
           "marker": {
            "color": "#FFA15A",
            "pattern": {
             "shape": ""
            }
           },
           "name": "science",
           "offsetgroup": "science",
           "orientation": "v",
           "showlegend": true,
           "type": "histogram",
           "x": [
            "science"
           ],
           "xaxis": "x",
           "y": [
            20.646937370956643
           ],
           "yaxis": "y"
          },
          {
           "alignmentgroup": "True",
           "bingroup": "x",
           "histfunc": "sum",
           "hovertemplate": "occupation=%{x}<br>publish_year=2013<br>sum of occurance_percentage=%{y}<extra></extra>",
           "legendgroup": "lawyer",
           "marker": {
            "color": "#B6E880",
            "pattern": {
             "shape": ""
            }
           },
           "name": "lawyer",
           "offsetgroup": "lawyer",
           "orientation": "v",
           "showlegend": true,
           "type": "histogram",
           "x": [
            "lawyer"
           ],
           "xaxis": "x",
           "y": [
            15.96696490020647
           ],
           "yaxis": "y"
          }
         ],
         "name": "2013"
        },
        {
         "data": [
          {
           "alignmentgroup": "True",
           "bingroup": "x",
           "histfunc": "sum",
           "hovertemplate": "occupation=%{x}<br>publish_year=2012<br>sum of occurance_percentage=%{y}<extra></extra>",
           "legendgroup": "business",
           "marker": {
            "color": "#636efa",
            "pattern": {
             "shape": ""
            }
           },
           "name": "business",
           "offsetgroup": "business",
           "orientation": "v",
           "showlegend": true,
           "type": "histogram",
           "x": [
            "business"
           ],
           "xaxis": "x",
           "y": [
            14.333333333333334
           ],
           "yaxis": "y"
          },
          {
           "alignmentgroup": "True",
           "bingroup": "x",
           "histfunc": "sum",
           "hovertemplate": "occupation=%{x}<br>publish_year=2012<br>sum of occurance_percentage=%{y}<extra></extra>",
           "legendgroup": "economist",
           "marker": {
            "color": "#EF553B",
            "pattern": {
             "shape": ""
            }
           },
           "name": "economist",
           "offsetgroup": "economist",
           "orientation": "v",
           "showlegend": true,
           "type": "histogram",
           "x": [
            "economist"
           ],
           "xaxis": "x",
           "y": [
            6
           ],
           "yaxis": "y"
          },
          {
           "alignmentgroup": "True",
           "bingroup": "x",
           "histfunc": "sum",
           "hovertemplate": "occupation=%{x}<br>publish_year=2012<br>sum of occurance_percentage=%{y}<extra></extra>",
           "legendgroup": "politician",
           "marker": {
            "color": "#00cc96",
            "pattern": {
             "shape": ""
            }
           },
           "name": "politician",
           "offsetgroup": "politician",
           "orientation": "v",
           "showlegend": true,
           "type": "histogram",
           "x": [
            "politician"
           ],
           "xaxis": "x",
           "y": [
            15.666666666666666
           ],
           "yaxis": "y"
          },
          {
           "alignmentgroup": "True",
           "bingroup": "x",
           "histfunc": "sum",
           "hovertemplate": "occupation=%{x}<br>publish_year=2012<br>sum of occurance_percentage=%{y}<extra></extra>",
           "legendgroup": "programmer",
           "marker": {
            "color": "#ab63fa",
            "pattern": {
             "shape": ""
            }
           },
           "name": "programmer",
           "offsetgroup": "programmer",
           "orientation": "v",
           "showlegend": true,
           "type": "histogram",
           "x": [
            "programmer"
           ],
           "xaxis": "x",
           "y": [
            25.666666666666668
           ],
           "yaxis": "y"
          },
          {
           "alignmentgroup": "True",
           "bingroup": "x",
           "histfunc": "sum",
           "hovertemplate": "occupation=%{x}<br>publish_year=2012<br>sum of occurance_percentage=%{y}<extra></extra>",
           "legendgroup": "science",
           "marker": {
            "color": "#FFA15A",
            "pattern": {
             "shape": ""
            }
           },
           "name": "science",
           "offsetgroup": "science",
           "orientation": "v",
           "showlegend": true,
           "type": "histogram",
           "x": [
            "science"
           ],
           "xaxis": "x",
           "y": [
            15.666666666666666
           ],
           "yaxis": "y"
          },
          {
           "alignmentgroup": "True",
           "bingroup": "x",
           "histfunc": "sum",
           "hovertemplate": "occupation=%{x}<br>publish_year=2012<br>sum of occurance_percentage=%{y}<extra></extra>",
           "legendgroup": "crypto",
           "marker": {
            "color": "#FF6692",
            "pattern": {
             "shape": ""
            }
           },
           "name": "crypto",
           "offsetgroup": "crypto",
           "orientation": "v",
           "showlegend": true,
           "type": "histogram",
           "x": [
            "crypto"
           ],
           "xaxis": "x",
           "y": [
            22.666666666666668
           ],
           "yaxis": "y"
          }
         ],
         "name": "2012"
        },
        {
         "data": [
          {
           "alignmentgroup": "True",
           "bingroup": "x",
           "histfunc": "sum",
           "hovertemplate": "occupation=%{x}<br>publish_year=2011<br>sum of occurance_percentage=%{y}<extra></extra>",
           "legendgroup": "business",
           "marker": {
            "color": "#636efa",
            "pattern": {
             "shape": ""
            }
           },
           "name": "business",
           "offsetgroup": "business",
           "orientation": "v",
           "showlegend": true,
           "type": "histogram",
           "x": [
            "business"
           ],
           "xaxis": "x",
           "y": [
            2.6548672566371683
           ],
           "yaxis": "y"
          },
          {
           "alignmentgroup": "True",
           "bingroup": "x",
           "histfunc": "sum",
           "hovertemplate": "occupation=%{x}<br>publish_year=2011<br>sum of occurance_percentage=%{y}<extra></extra>",
           "legendgroup": "economist",
           "marker": {
            "color": "#EF553B",
            "pattern": {
             "shape": ""
            }
           },
           "name": "economist",
           "offsetgroup": "economist",
           "orientation": "v",
           "showlegend": true,
           "type": "histogram",
           "x": [
            "economist"
           ],
           "xaxis": "x",
           "y": [
            23.893805309734514
           ],
           "yaxis": "y"
          },
          {
           "alignmentgroup": "True",
           "bingroup": "x",
           "histfunc": "sum",
           "hovertemplate": "occupation=%{x}<br>publish_year=2011<br>sum of occurance_percentage=%{y}<extra></extra>",
           "legendgroup": "politician",
           "marker": {
            "color": "#00cc96",
            "pattern": {
             "shape": ""
            }
           },
           "name": "politician",
           "offsetgroup": "politician",
           "orientation": "v",
           "showlegend": true,
           "type": "histogram",
           "x": [
            "politician"
           ],
           "xaxis": "x",
           "y": [
            17.699115044247787
           ],
           "yaxis": "y"
          },
          {
           "alignmentgroup": "True",
           "bingroup": "x",
           "histfunc": "sum",
           "hovertemplate": "occupation=%{x}<br>publish_year=2011<br>sum of occurance_percentage=%{y}<extra></extra>",
           "legendgroup": "programmer",
           "marker": {
            "color": "#ab63fa",
            "pattern": {
             "shape": ""
            }
           },
           "name": "programmer",
           "offsetgroup": "programmer",
           "orientation": "v",
           "showlegend": true,
           "type": "histogram",
           "x": [
            "programmer"
           ],
           "xaxis": "x",
           "y": [
            38.05309734513274
           ],
           "yaxis": "y"
          },
          {
           "alignmentgroup": "True",
           "bingroup": "x",
           "histfunc": "sum",
           "hovertemplate": "occupation=%{x}<br>publish_year=2011<br>sum of occurance_percentage=%{y}<extra></extra>",
           "legendgroup": "science",
           "marker": {
            "color": "#FFA15A",
            "pattern": {
             "shape": ""
            }
           },
           "name": "science",
           "offsetgroup": "science",
           "orientation": "v",
           "showlegend": true,
           "type": "histogram",
           "x": [
            "science"
           ],
           "xaxis": "x",
           "y": [
            7.079646017699115
           ],
           "yaxis": "y"
          },
          {
           "alignmentgroup": "True",
           "bingroup": "x",
           "histfunc": "sum",
           "hovertemplate": "occupation=%{x}<br>publish_year=2011<br>sum of occurance_percentage=%{y}<extra></extra>",
           "legendgroup": "crypto",
           "marker": {
            "color": "#FF6692",
            "pattern": {
             "shape": ""
            }
           },
           "name": "crypto",
           "offsetgroup": "crypto",
           "orientation": "v",
           "showlegend": true,
           "type": "histogram",
           "x": [
            "crypto"
           ],
           "xaxis": "x",
           "y": [
            10.619469026548673
           ],
           "yaxis": "y"
          }
         ],
         "name": "2011"
        },
        {
         "data": [
          {
           "alignmentgroup": "True",
           "bingroup": "x",
           "histfunc": "sum",
           "hovertemplate": "occupation=%{x}<br>publish_year=2010<br>sum of occurance_percentage=%{y}<extra></extra>",
           "legendgroup": "economist",
           "marker": {
            "color": "#EF553B",
            "pattern": {
             "shape": ""
            }
           },
           "name": "economist",
           "offsetgroup": "economist",
           "orientation": "v",
           "showlegend": true,
           "type": "histogram",
           "x": [
            "economist"
           ],
           "xaxis": "x",
           "y": [
            0.7874015748031497
           ],
           "yaxis": "y"
          },
          {
           "alignmentgroup": "True",
           "bingroup": "x",
           "histfunc": "sum",
           "hovertemplate": "occupation=%{x}<br>publish_year=2010<br>sum of occurance_percentage=%{y}<extra></extra>",
           "legendgroup": "politician",
           "marker": {
            "color": "#00cc96",
            "pattern": {
             "shape": ""
            }
           },
           "name": "politician",
           "offsetgroup": "politician",
           "orientation": "v",
           "showlegend": true,
           "type": "histogram",
           "x": [
            "politician"
           ],
           "xaxis": "x",
           "y": [
            43.30708661417323
           ],
           "yaxis": "y"
          },
          {
           "alignmentgroup": "True",
           "bingroup": "x",
           "histfunc": "sum",
           "hovertemplate": "occupation=%{x}<br>publish_year=2010<br>sum of occurance_percentage=%{y}<extra></extra>",
           "legendgroup": "programmer",
           "marker": {
            "color": "#ab63fa",
            "pattern": {
             "shape": ""
            }
           },
           "name": "programmer",
           "offsetgroup": "programmer",
           "orientation": "v",
           "showlegend": true,
           "type": "histogram",
           "x": [
            "programmer"
           ],
           "xaxis": "x",
           "y": [
            25.19685039370079
           ],
           "yaxis": "y"
          },
          {
           "alignmentgroup": "True",
           "bingroup": "x",
           "histfunc": "sum",
           "hovertemplate": "occupation=%{x}<br>publish_year=2010<br>sum of occurance_percentage=%{y}<extra></extra>",
           "legendgroup": "science",
           "marker": {
            "color": "#FFA15A",
            "pattern": {
             "shape": ""
            }
           },
           "name": "science",
           "offsetgroup": "science",
           "orientation": "v",
           "showlegend": true,
           "type": "histogram",
           "x": [
            "science"
           ],
           "xaxis": "x",
           "y": [
            13.385826771653543
           ],
           "yaxis": "y"
          },
          {
           "alignmentgroup": "True",
           "bingroup": "x",
           "histfunc": "sum",
           "hovertemplate": "occupation=%{x}<br>publish_year=2010<br>sum of occurance_percentage=%{y}<extra></extra>",
           "legendgroup": "media",
           "marker": {
            "color": "#19d3f3",
            "pattern": {
             "shape": ""
            }
           },
           "name": "media",
           "offsetgroup": "media",
           "orientation": "v",
           "showlegend": true,
           "type": "histogram",
           "x": [
            "media"
           ],
           "xaxis": "x",
           "y": [
            0.7874015748031497
           ],
           "yaxis": "y"
          },
          {
           "alignmentgroup": "True",
           "bingroup": "x",
           "histfunc": "sum",
           "hovertemplate": "occupation=%{x}<br>publish_year=2010<br>sum of occurance_percentage=%{y}<extra></extra>",
           "legendgroup": "crypto",
           "marker": {
            "color": "#FF6692",
            "pattern": {
             "shape": ""
            }
           },
           "name": "crypto",
           "offsetgroup": "crypto",
           "orientation": "v",
           "showlegend": true,
           "type": "histogram",
           "x": [
            "crypto"
           ],
           "xaxis": "x",
           "y": [
            16.53543307086614
           ],
           "yaxis": "y"
          }
         ],
         "name": "2010"
        },
        {
         "data": [
          {
           "alignmentgroup": "True",
           "bingroup": "x",
           "histfunc": "sum",
           "hovertemplate": "occupation=%{x}<br>publish_year=2009<br>sum of occurance_percentage=%{y}<extra></extra>",
           "legendgroup": "business",
           "marker": {
            "color": "#636efa",
            "pattern": {
             "shape": ""
            }
           },
           "name": "business",
           "offsetgroup": "business",
           "orientation": "v",
           "showlegend": true,
           "type": "histogram",
           "x": [
            "business"
           ],
           "xaxis": "x",
           "y": [
            1.3157894736842106
           ],
           "yaxis": "y"
          },
          {
           "alignmentgroup": "True",
           "bingroup": "x",
           "histfunc": "sum",
           "hovertemplate": "occupation=%{x}<br>publish_year=2009<br>sum of occurance_percentage=%{y}<extra></extra>",
           "legendgroup": "politician",
           "marker": {
            "color": "#00cc96",
            "pattern": {
             "shape": ""
            }
           },
           "name": "politician",
           "offsetgroup": "politician",
           "orientation": "v",
           "showlegend": true,
           "type": "histogram",
           "x": [
            "politician"
           ],
           "xaxis": "x",
           "y": [
            40.78947368421053
           ],
           "yaxis": "y"
          },
          {
           "alignmentgroup": "True",
           "bingroup": "x",
           "histfunc": "sum",
           "hovertemplate": "occupation=%{x}<br>publish_year=2009<br>sum of occurance_percentage=%{y}<extra></extra>",
           "legendgroup": "programmer",
           "marker": {
            "color": "#ab63fa",
            "pattern": {
             "shape": ""
            }
           },
           "name": "programmer",
           "offsetgroup": "programmer",
           "orientation": "v",
           "showlegend": true,
           "type": "histogram",
           "x": [
            "programmer"
           ],
           "xaxis": "x",
           "y": [
            30.263157894736842
           ],
           "yaxis": "y"
          },
          {
           "alignmentgroup": "True",
           "bingroup": "x",
           "histfunc": "sum",
           "hovertemplate": "occupation=%{x}<br>publish_year=2009<br>sum of occurance_percentage=%{y}<extra></extra>",
           "legendgroup": "science",
           "marker": {
            "color": "#FFA15A",
            "pattern": {
             "shape": ""
            }
           },
           "name": "science",
           "offsetgroup": "science",
           "orientation": "v",
           "showlegend": true,
           "type": "histogram",
           "x": [
            "science"
           ],
           "xaxis": "x",
           "y": [
            10.526315789473685
           ],
           "yaxis": "y"
          },
          {
           "alignmentgroup": "True",
           "bingroup": "x",
           "histfunc": "sum",
           "hovertemplate": "occupation=%{x}<br>publish_year=2009<br>sum of occurance_percentage=%{y}<extra></extra>",
           "legendgroup": "crypto",
           "marker": {
            "color": "#FF6692",
            "pattern": {
             "shape": ""
            }
           },
           "name": "crypto",
           "offsetgroup": "crypto",
           "orientation": "v",
           "showlegend": true,
           "type": "histogram",
           "x": [
            "crypto"
           ],
           "xaxis": "x",
           "y": [
            17.105263157894736
           ],
           "yaxis": "y"
          }
         ],
         "name": "2009"
        },
        {
         "data": [
          {
           "alignmentgroup": "True",
           "bingroup": "x",
           "histfunc": "sum",
           "hovertemplate": "occupation=%{x}<br>publish_year=2008<br>sum of occurance_percentage=%{y}<extra></extra>",
           "legendgroup": "business",
           "marker": {
            "color": "#636efa",
            "pattern": {
             "shape": ""
            }
           },
           "name": "business",
           "offsetgroup": "business",
           "orientation": "v",
           "showlegend": true,
           "type": "histogram",
           "x": [
            "business"
           ],
           "xaxis": "x",
           "y": [
            7.142857142857143
           ],
           "yaxis": "y"
          },
          {
           "alignmentgroup": "True",
           "bingroup": "x",
           "histfunc": "sum",
           "hovertemplate": "occupation=%{x}<br>publish_year=2008<br>sum of occurance_percentage=%{y}<extra></extra>",
           "legendgroup": "politician",
           "marker": {
            "color": "#00cc96",
            "pattern": {
             "shape": ""
            }
           },
           "name": "politician",
           "offsetgroup": "politician",
           "orientation": "v",
           "showlegend": true,
           "type": "histogram",
           "x": [
            "politician"
           ],
           "xaxis": "x",
           "y": [
            39.285714285714285
           ],
           "yaxis": "y"
          },
          {
           "alignmentgroup": "True",
           "bingroup": "x",
           "histfunc": "sum",
           "hovertemplate": "occupation=%{x}<br>publish_year=2008<br>sum of occurance_percentage=%{y}<extra></extra>",
           "legendgroup": "programmer",
           "marker": {
            "color": "#ab63fa",
            "pattern": {
             "shape": ""
            }
           },
           "name": "programmer",
           "offsetgroup": "programmer",
           "orientation": "v",
           "showlegend": true,
           "type": "histogram",
           "x": [
            "programmer"
           ],
           "xaxis": "x",
           "y": [
            21.428571428571427
           ],
           "yaxis": "y"
          },
          {
           "alignmentgroup": "True",
           "bingroup": "x",
           "histfunc": "sum",
           "hovertemplate": "occupation=%{x}<br>publish_year=2008<br>sum of occurance_percentage=%{y}<extra></extra>",
           "legendgroup": "crypto",
           "marker": {
            "color": "#FF6692",
            "pattern": {
             "shape": ""
            }
           },
           "name": "crypto",
           "offsetgroup": "crypto",
           "orientation": "v",
           "showlegend": true,
           "type": "histogram",
           "x": [
            "crypto"
           ],
           "xaxis": "x",
           "y": [
            32.142857142857146
           ],
           "yaxis": "y"
          }
         ],
         "name": "2008"
        }
       ],
       "layout": {
        "barmode": "relative",
        "legend": {
         "title": {
          "text": "occupation"
         },
         "tracegroupgap": 0
        },
        "margin": {
         "t": 60
        },
        "sliders": [
         {
          "active": 0,
          "currentvalue": {
           "prefix": "publish_year="
          },
          "len": 0.9,
          "pad": {
           "b": 10,
           "t": 60
          },
          "steps": [
           {
            "args": [
             [
              "2017"
             ],
             {
              "frame": {
               "duration": 0,
               "redraw": true
              },
              "fromcurrent": true,
              "mode": "immediate",
              "transition": {
               "duration": 0,
               "easing": "linear"
              }
             }
            ],
            "label": "2017",
            "method": "animate"
           },
           {
            "args": [
             [
              "2016"
             ],
             {
              "frame": {
               "duration": 0,
               "redraw": true
              },
              "fromcurrent": true,
              "mode": "immediate",
              "transition": {
               "duration": 0,
               "easing": "linear"
              }
             }
            ],
            "label": "2016",
            "method": "animate"
           },
           {
            "args": [
             [
              "2015"
             ],
             {
              "frame": {
               "duration": 0,
               "redraw": true
              },
              "fromcurrent": true,
              "mode": "immediate",
              "transition": {
               "duration": 0,
               "easing": "linear"
              }
             }
            ],
            "label": "2015",
            "method": "animate"
           },
           {
            "args": [
             [
              "2014"
             ],
             {
              "frame": {
               "duration": 0,
               "redraw": true
              },
              "fromcurrent": true,
              "mode": "immediate",
              "transition": {
               "duration": 0,
               "easing": "linear"
              }
             }
            ],
            "label": "2014",
            "method": "animate"
           },
           {
            "args": [
             [
              "2013"
             ],
             {
              "frame": {
               "duration": 0,
               "redraw": true
              },
              "fromcurrent": true,
              "mode": "immediate",
              "transition": {
               "duration": 0,
               "easing": "linear"
              }
             }
            ],
            "label": "2013",
            "method": "animate"
           },
           {
            "args": [
             [
              "2012"
             ],
             {
              "frame": {
               "duration": 0,
               "redraw": true
              },
              "fromcurrent": true,
              "mode": "immediate",
              "transition": {
               "duration": 0,
               "easing": "linear"
              }
             }
            ],
            "label": "2012",
            "method": "animate"
           },
           {
            "args": [
             [
              "2011"
             ],
             {
              "frame": {
               "duration": 0,
               "redraw": true
              },
              "fromcurrent": true,
              "mode": "immediate",
              "transition": {
               "duration": 0,
               "easing": "linear"
              }
             }
            ],
            "label": "2011",
            "method": "animate"
           },
           {
            "args": [
             [
              "2010"
             ],
             {
              "frame": {
               "duration": 0,
               "redraw": true
              },
              "fromcurrent": true,
              "mode": "immediate",
              "transition": {
               "duration": 0,
               "easing": "linear"
              }
             }
            ],
            "label": "2010",
            "method": "animate"
           },
           {
            "args": [
             [
              "2009"
             ],
             {
              "frame": {
               "duration": 0,
               "redraw": true
              },
              "fromcurrent": true,
              "mode": "immediate",
              "transition": {
               "duration": 0,
               "easing": "linear"
              }
             }
            ],
            "label": "2009",
            "method": "animate"
           },
           {
            "args": [
             [
              "2008"
             ],
             {
              "frame": {
               "duration": 0,
               "redraw": true
              },
              "fromcurrent": true,
              "mode": "immediate",
              "transition": {
               "duration": 0,
               "easing": "linear"
              }
             }
            ],
            "label": "2008",
            "method": "animate"
           }
          ],
          "x": 0.1,
          "xanchor": "left",
          "y": 0,
          "yanchor": "top"
         }
        ],
        "template": {
         "data": {
          "bar": [
           {
            "error_x": {
             "color": "#2a3f5f"
            },
            "error_y": {
             "color": "#2a3f5f"
            },
            "marker": {
             "line": {
              "color": "#E5ECF6",
              "width": 0.5
             },
             "pattern": {
              "fillmode": "overlay",
              "size": 10,
              "solidity": 0.2
             }
            },
            "type": "bar"
           }
          ],
          "barpolar": [
           {
            "marker": {
             "line": {
              "color": "#E5ECF6",
              "width": 0.5
             },
             "pattern": {
              "fillmode": "overlay",
              "size": 10,
              "solidity": 0.2
             }
            },
            "type": "barpolar"
           }
          ],
          "carpet": [
           {
            "aaxis": {
             "endlinecolor": "#2a3f5f",
             "gridcolor": "white",
             "linecolor": "white",
             "minorgridcolor": "white",
             "startlinecolor": "#2a3f5f"
            },
            "baxis": {
             "endlinecolor": "#2a3f5f",
             "gridcolor": "white",
             "linecolor": "white",
             "minorgridcolor": "white",
             "startlinecolor": "#2a3f5f"
            },
            "type": "carpet"
           }
          ],
          "choropleth": [
           {
            "colorbar": {
             "outlinewidth": 0,
             "ticks": ""
            },
            "type": "choropleth"
           }
          ],
          "contour": [
           {
            "colorbar": {
             "outlinewidth": 0,
             "ticks": ""
            },
            "colorscale": [
             [
              0,
              "#0d0887"
             ],
             [
              0.1111111111111111,
              "#46039f"
             ],
             [
              0.2222222222222222,
              "#7201a8"
             ],
             [
              0.3333333333333333,
              "#9c179e"
             ],
             [
              0.4444444444444444,
              "#bd3786"
             ],
             [
              0.5555555555555556,
              "#d8576b"
             ],
             [
              0.6666666666666666,
              "#ed7953"
             ],
             [
              0.7777777777777778,
              "#fb9f3a"
             ],
             [
              0.8888888888888888,
              "#fdca26"
             ],
             [
              1,
              "#f0f921"
             ]
            ],
            "type": "contour"
           }
          ],
          "contourcarpet": [
           {
            "colorbar": {
             "outlinewidth": 0,
             "ticks": ""
            },
            "type": "contourcarpet"
           }
          ],
          "heatmap": [
           {
            "colorbar": {
             "outlinewidth": 0,
             "ticks": ""
            },
            "colorscale": [
             [
              0,
              "#0d0887"
             ],
             [
              0.1111111111111111,
              "#46039f"
             ],
             [
              0.2222222222222222,
              "#7201a8"
             ],
             [
              0.3333333333333333,
              "#9c179e"
             ],
             [
              0.4444444444444444,
              "#bd3786"
             ],
             [
              0.5555555555555556,
              "#d8576b"
             ],
             [
              0.6666666666666666,
              "#ed7953"
             ],
             [
              0.7777777777777778,
              "#fb9f3a"
             ],
             [
              0.8888888888888888,
              "#fdca26"
             ],
             [
              1,
              "#f0f921"
             ]
            ],
            "type": "heatmap"
           }
          ],
          "heatmapgl": [
           {
            "colorbar": {
             "outlinewidth": 0,
             "ticks": ""
            },
            "colorscale": [
             [
              0,
              "#0d0887"
             ],
             [
              0.1111111111111111,
              "#46039f"
             ],
             [
              0.2222222222222222,
              "#7201a8"
             ],
             [
              0.3333333333333333,
              "#9c179e"
             ],
             [
              0.4444444444444444,
              "#bd3786"
             ],
             [
              0.5555555555555556,
              "#d8576b"
             ],
             [
              0.6666666666666666,
              "#ed7953"
             ],
             [
              0.7777777777777778,
              "#fb9f3a"
             ],
             [
              0.8888888888888888,
              "#fdca26"
             ],
             [
              1,
              "#f0f921"
             ]
            ],
            "type": "heatmapgl"
           }
          ],
          "histogram": [
           {
            "marker": {
             "pattern": {
              "fillmode": "overlay",
              "size": 10,
              "solidity": 0.2
             }
            },
            "type": "histogram"
           }
          ],
          "histogram2d": [
           {
            "colorbar": {
             "outlinewidth": 0,
             "ticks": ""
            },
            "colorscale": [
             [
              0,
              "#0d0887"
             ],
             [
              0.1111111111111111,
              "#46039f"
             ],
             [
              0.2222222222222222,
              "#7201a8"
             ],
             [
              0.3333333333333333,
              "#9c179e"
             ],
             [
              0.4444444444444444,
              "#bd3786"
             ],
             [
              0.5555555555555556,
              "#d8576b"
             ],
             [
              0.6666666666666666,
              "#ed7953"
             ],
             [
              0.7777777777777778,
              "#fb9f3a"
             ],
             [
              0.8888888888888888,
              "#fdca26"
             ],
             [
              1,
              "#f0f921"
             ]
            ],
            "type": "histogram2d"
           }
          ],
          "histogram2dcontour": [
           {
            "colorbar": {
             "outlinewidth": 0,
             "ticks": ""
            },
            "colorscale": [
             [
              0,
              "#0d0887"
             ],
             [
              0.1111111111111111,
              "#46039f"
             ],
             [
              0.2222222222222222,
              "#7201a8"
             ],
             [
              0.3333333333333333,
              "#9c179e"
             ],
             [
              0.4444444444444444,
              "#bd3786"
             ],
             [
              0.5555555555555556,
              "#d8576b"
             ],
             [
              0.6666666666666666,
              "#ed7953"
             ],
             [
              0.7777777777777778,
              "#fb9f3a"
             ],
             [
              0.8888888888888888,
              "#fdca26"
             ],
             [
              1,
              "#f0f921"
             ]
            ],
            "type": "histogram2dcontour"
           }
          ],
          "mesh3d": [
           {
            "colorbar": {
             "outlinewidth": 0,
             "ticks": ""
            },
            "type": "mesh3d"
           }
          ],
          "parcoords": [
           {
            "line": {
             "colorbar": {
              "outlinewidth": 0,
              "ticks": ""
             }
            },
            "type": "parcoords"
           }
          ],
          "pie": [
           {
            "automargin": true,
            "type": "pie"
           }
          ],
          "scatter": [
           {
            "marker": {
             "colorbar": {
              "outlinewidth": 0,
              "ticks": ""
             }
            },
            "type": "scatter"
           }
          ],
          "scatter3d": [
           {
            "line": {
             "colorbar": {
              "outlinewidth": 0,
              "ticks": ""
             }
            },
            "marker": {
             "colorbar": {
              "outlinewidth": 0,
              "ticks": ""
             }
            },
            "type": "scatter3d"
           }
          ],
          "scattercarpet": [
           {
            "marker": {
             "colorbar": {
              "outlinewidth": 0,
              "ticks": ""
             }
            },
            "type": "scattercarpet"
           }
          ],
          "scattergeo": [
           {
            "marker": {
             "colorbar": {
              "outlinewidth": 0,
              "ticks": ""
             }
            },
            "type": "scattergeo"
           }
          ],
          "scattergl": [
           {
            "marker": {
             "colorbar": {
              "outlinewidth": 0,
              "ticks": ""
             }
            },
            "type": "scattergl"
           }
          ],
          "scattermapbox": [
           {
            "marker": {
             "colorbar": {
              "outlinewidth": 0,
              "ticks": ""
             }
            },
            "type": "scattermapbox"
           }
          ],
          "scatterpolar": [
           {
            "marker": {
             "colorbar": {
              "outlinewidth": 0,
              "ticks": ""
             }
            },
            "type": "scatterpolar"
           }
          ],
          "scatterpolargl": [
           {
            "marker": {
             "colorbar": {
              "outlinewidth": 0,
              "ticks": ""
             }
            },
            "type": "scatterpolargl"
           }
          ],
          "scatterternary": [
           {
            "marker": {
             "colorbar": {
              "outlinewidth": 0,
              "ticks": ""
             }
            },
            "type": "scatterternary"
           }
          ],
          "surface": [
           {
            "colorbar": {
             "outlinewidth": 0,
             "ticks": ""
            },
            "colorscale": [
             [
              0,
              "#0d0887"
             ],
             [
              0.1111111111111111,
              "#46039f"
             ],
             [
              0.2222222222222222,
              "#7201a8"
             ],
             [
              0.3333333333333333,
              "#9c179e"
             ],
             [
              0.4444444444444444,
              "#bd3786"
             ],
             [
              0.5555555555555556,
              "#d8576b"
             ],
             [
              0.6666666666666666,
              "#ed7953"
             ],
             [
              0.7777777777777778,
              "#fb9f3a"
             ],
             [
              0.8888888888888888,
              "#fdca26"
             ],
             [
              1,
              "#f0f921"
             ]
            ],
            "type": "surface"
           }
          ],
          "table": [
           {
            "cells": {
             "fill": {
              "color": "#EBF0F8"
             },
             "line": {
              "color": "white"
             }
            },
            "header": {
             "fill": {
              "color": "#C8D4E3"
             },
             "line": {
              "color": "white"
             }
            },
            "type": "table"
           }
          ]
         },
         "layout": {
          "annotationdefaults": {
           "arrowcolor": "#2a3f5f",
           "arrowhead": 0,
           "arrowwidth": 1
          },
          "autotypenumbers": "strict",
          "coloraxis": {
           "colorbar": {
            "outlinewidth": 0,
            "ticks": ""
           }
          },
          "colorscale": {
           "diverging": [
            [
             0,
             "#8e0152"
            ],
            [
             0.1,
             "#c51b7d"
            ],
            [
             0.2,
             "#de77ae"
            ],
            [
             0.3,
             "#f1b6da"
            ],
            [
             0.4,
             "#fde0ef"
            ],
            [
             0.5,
             "#f7f7f7"
            ],
            [
             0.6,
             "#e6f5d0"
            ],
            [
             0.7,
             "#b8e186"
            ],
            [
             0.8,
             "#7fbc41"
            ],
            [
             0.9,
             "#4d9221"
            ],
            [
             1,
             "#276419"
            ]
           ],
           "sequential": [
            [
             0,
             "#0d0887"
            ],
            [
             0.1111111111111111,
             "#46039f"
            ],
            [
             0.2222222222222222,
             "#7201a8"
            ],
            [
             0.3333333333333333,
             "#9c179e"
            ],
            [
             0.4444444444444444,
             "#bd3786"
            ],
            [
             0.5555555555555556,
             "#d8576b"
            ],
            [
             0.6666666666666666,
             "#ed7953"
            ],
            [
             0.7777777777777778,
             "#fb9f3a"
            ],
            [
             0.8888888888888888,
             "#fdca26"
            ],
            [
             1,
             "#f0f921"
            ]
           ],
           "sequentialminus": [
            [
             0,
             "#0d0887"
            ],
            [
             0.1111111111111111,
             "#46039f"
            ],
            [
             0.2222222222222222,
             "#7201a8"
            ],
            [
             0.3333333333333333,
             "#9c179e"
            ],
            [
             0.4444444444444444,
             "#bd3786"
            ],
            [
             0.5555555555555556,
             "#d8576b"
            ],
            [
             0.6666666666666666,
             "#ed7953"
            ],
            [
             0.7777777777777778,
             "#fb9f3a"
            ],
            [
             0.8888888888888888,
             "#fdca26"
            ],
            [
             1,
             "#f0f921"
            ]
           ]
          },
          "colorway": [
           "#636efa",
           "#EF553B",
           "#00cc96",
           "#ab63fa",
           "#FFA15A",
           "#19d3f3",
           "#FF6692",
           "#B6E880",
           "#FF97FF",
           "#FECB52"
          ],
          "font": {
           "color": "#2a3f5f"
          },
          "geo": {
           "bgcolor": "white",
           "lakecolor": "white",
           "landcolor": "#E5ECF6",
           "showlakes": true,
           "showland": true,
           "subunitcolor": "white"
          },
          "hoverlabel": {
           "align": "left"
          },
          "hovermode": "closest",
          "mapbox": {
           "style": "light"
          },
          "paper_bgcolor": "white",
          "plot_bgcolor": "#E5ECF6",
          "polar": {
           "angularaxis": {
            "gridcolor": "white",
            "linecolor": "white",
            "ticks": ""
           },
           "bgcolor": "#E5ECF6",
           "radialaxis": {
            "gridcolor": "white",
            "linecolor": "white",
            "ticks": ""
           }
          },
          "scene": {
           "xaxis": {
            "backgroundcolor": "#E5ECF6",
            "gridcolor": "white",
            "gridwidth": 2,
            "linecolor": "white",
            "showbackground": true,
            "ticks": "",
            "zerolinecolor": "white"
           },
           "yaxis": {
            "backgroundcolor": "#E5ECF6",
            "gridcolor": "white",
            "gridwidth": 2,
            "linecolor": "white",
            "showbackground": true,
            "ticks": "",
            "zerolinecolor": "white"
           },
           "zaxis": {
            "backgroundcolor": "#E5ECF6",
            "gridcolor": "white",
            "gridwidth": 2,
            "linecolor": "white",
            "showbackground": true,
            "ticks": "",
            "zerolinecolor": "white"
           }
          },
          "shapedefaults": {
           "line": {
            "color": "#2a3f5f"
           }
          },
          "ternary": {
           "aaxis": {
            "gridcolor": "white",
            "linecolor": "white",
            "ticks": ""
           },
           "baxis": {
            "gridcolor": "white",
            "linecolor": "white",
            "ticks": ""
           },
           "bgcolor": "#E5ECF6",
           "caxis": {
            "gridcolor": "white",
            "linecolor": "white",
            "ticks": ""
           }
          },
          "title": {
           "x": 0.05
          },
          "xaxis": {
           "automargin": true,
           "gridcolor": "white",
           "linecolor": "white",
           "ticks": "",
           "title": {
            "standoff": 15
           },
           "zerolinecolor": "white",
           "zerolinewidth": 2
          },
          "yaxis": {
           "automargin": true,
           "gridcolor": "white",
           "linecolor": "white",
           "ticks": "",
           "title": {
            "standoff": 15
           },
           "zerolinecolor": "white",
           "zerolinewidth": 2
          }
         }
        },
        "xaxis": {
         "anchor": "y",
         "autorange": true,
         "categoryarray": [
          "business",
          "economist",
          "politician",
          "programmer",
          "science",
          "media",
          "crypto",
          "lawyer"
         ],
         "categoryorder": "total descending",
         "domain": [
          0,
          1
         ],
         "fixedrange": false,
         "title": {
          "text": "occupation"
         }
        },
        "yaxis": {
         "anchor": "x",
         "domain": [
          0,
          1
         ],
         "range": [
          0,
          100
         ],
         "title": {
          "text": "sum of occurance_percentage"
         }
        }
       }
      },
      "text/html": [
       "<div>                            <div id=\"1ab3a3a1-3936-477a-9a64-7dbc1942df3f\" class=\"plotly-graph-div\" style=\"height:525px; width:100%;\"></div>            <script type=\"text/javascript\">                require([\"plotly\"], function(Plotly) {                    window.PLOTLYENV=window.PLOTLYENV || {};                                    if (document.getElementById(\"1ab3a3a1-3936-477a-9a64-7dbc1942df3f\")) {                    Plotly.newPlot(                        \"1ab3a3a1-3936-477a-9a64-7dbc1942df3f\",                        [{\"alignmentgroup\":\"True\",\"bingroup\":\"x\",\"histfunc\":\"sum\",\"hovertemplate\":\"occupation=%{x}<br>publish_year=2017<br>sum of occurance_percentage=%{y}<extra></extra>\",\"legendgroup\":\"business\",\"marker\":{\"color\":\"#636efa\",\"pattern\":{\"shape\":\"\"}},\"name\":\"business\",\"offsetgroup\":\"business\",\"orientation\":\"v\",\"showlegend\":true,\"type\":\"histogram\",\"x\":[\"business\"],\"xaxis\":\"x\",\"y\":[42.01117318435754],\"yaxis\":\"y\"},{\"alignmentgroup\":\"True\",\"bingroup\":\"x\",\"histfunc\":\"sum\",\"hovertemplate\":\"occupation=%{x}<br>publish_year=2017<br>sum of occurance_percentage=%{y}<extra></extra>\",\"legendgroup\":\"economist\",\"marker\":{\"color\":\"#EF553B\",\"pattern\":{\"shape\":\"\"}},\"name\":\"economist\",\"offsetgroup\":\"economist\",\"orientation\":\"v\",\"showlegend\":true,\"type\":\"histogram\",\"x\":[\"economist\"],\"xaxis\":\"x\",\"y\":[22.23463687150838],\"yaxis\":\"y\"},{\"alignmentgroup\":\"True\",\"bingroup\":\"x\",\"histfunc\":\"sum\",\"hovertemplate\":\"occupation=%{x}<br>publish_year=2017<br>sum of occurance_percentage=%{y}<extra></extra>\",\"legendgroup\":\"politician\",\"marker\":{\"color\":\"#00cc96\",\"pattern\":{\"shape\":\"\"}},\"name\":\"politician\",\"offsetgroup\":\"politician\",\"orientation\":\"v\",\"showlegend\":true,\"type\":\"histogram\",\"x\":[\"politician\"],\"xaxis\":\"x\",\"y\":[15.123703112529927],\"yaxis\":\"y\"},{\"alignmentgroup\":\"True\",\"bingroup\":\"x\",\"histfunc\":\"sum\",\"hovertemplate\":\"occupation=%{x}<br>publish_year=2017<br>sum of occurance_percentage=%{y}<extra></extra>\",\"legendgroup\":\"programmer\",\"marker\":{\"color\":\"#ab63fa\",\"pattern\":{\"shape\":\"\"}},\"name\":\"programmer\",\"offsetgroup\":\"programmer\",\"orientation\":\"v\",\"showlegend\":true,\"type\":\"histogram\",\"x\":[\"programmer\"],\"xaxis\":\"x\",\"y\":[9.896249002394255],\"yaxis\":\"y\"},{\"alignmentgroup\":\"True\",\"bingroup\":\"x\",\"histfunc\":\"sum\",\"hovertemplate\":\"occupation=%{x}<br>publish_year=2017<br>sum of occurance_percentage=%{y}<extra></extra>\",\"legendgroup\":\"science\",\"marker\":{\"color\":\"#FFA15A\",\"pattern\":{\"shape\":\"\"}},\"name\":\"science\",\"offsetgroup\":\"science\",\"orientation\":\"v\",\"showlegend\":true,\"type\":\"histogram\",\"x\":[\"science\"],\"xaxis\":\"x\",\"y\":[6.3048683160415],\"yaxis\":\"y\"},{\"alignmentgroup\":\"True\",\"bingroup\":\"x\",\"histfunc\":\"sum\",\"hovertemplate\":\"occupation=%{x}<br>publish_year=2017<br>sum of occurance_percentage=%{y}<extra></extra>\",\"legendgroup\":\"media\",\"marker\":{\"color\":\"#19d3f3\",\"pattern\":{\"shape\":\"\"}},\"name\":\"media\",\"offsetgroup\":\"media\",\"orientation\":\"v\",\"showlegend\":true,\"type\":\"histogram\",\"x\":[\"media\"],\"xaxis\":\"x\",\"y\":[4.429369513168396],\"yaxis\":\"y\"}],                        {\"barmode\":\"relative\",\"legend\":{\"title\":{\"text\":\"occupation\"},\"tracegroupgap\":0},\"margin\":{\"t\":60},\"sliders\":[{\"active\":0,\"currentvalue\":{\"prefix\":\"publish_year=\"},\"len\":0.9,\"pad\":{\"b\":10,\"t\":60},\"steps\":[{\"args\":[[\"2017\"],{\"frame\":{\"duration\":0,\"redraw\":true},\"fromcurrent\":true,\"mode\":\"immediate\",\"transition\":{\"duration\":0,\"easing\":\"linear\"}}],\"label\":\"2017\",\"method\":\"animate\"},{\"args\":[[\"2016\"],{\"frame\":{\"duration\":0,\"redraw\":true},\"fromcurrent\":true,\"mode\":\"immediate\",\"transition\":{\"duration\":0,\"easing\":\"linear\"}}],\"label\":\"2016\",\"method\":\"animate\"},{\"args\":[[\"2015\"],{\"frame\":{\"duration\":0,\"redraw\":true},\"fromcurrent\":true,\"mode\":\"immediate\",\"transition\":{\"duration\":0,\"easing\":\"linear\"}}],\"label\":\"2015\",\"method\":\"animate\"},{\"args\":[[\"2014\"],{\"frame\":{\"duration\":0,\"redraw\":true},\"fromcurrent\":true,\"mode\":\"immediate\",\"transition\":{\"duration\":0,\"easing\":\"linear\"}}],\"label\":\"2014\",\"method\":\"animate\"},{\"args\":[[\"2013\"],{\"frame\":{\"duration\":0,\"redraw\":true},\"fromcurrent\":true,\"mode\":\"immediate\",\"transition\":{\"duration\":0,\"easing\":\"linear\"}}],\"label\":\"2013\",\"method\":\"animate\"},{\"args\":[[\"2012\"],{\"frame\":{\"duration\":0,\"redraw\":true},\"fromcurrent\":true,\"mode\":\"immediate\",\"transition\":{\"duration\":0,\"easing\":\"linear\"}}],\"label\":\"2012\",\"method\":\"animate\"},{\"args\":[[\"2011\"],{\"frame\":{\"duration\":0,\"redraw\":true},\"fromcurrent\":true,\"mode\":\"immediate\",\"transition\":{\"duration\":0,\"easing\":\"linear\"}}],\"label\":\"2011\",\"method\":\"animate\"},{\"args\":[[\"2010\"],{\"frame\":{\"duration\":0,\"redraw\":true},\"fromcurrent\":true,\"mode\":\"immediate\",\"transition\":{\"duration\":0,\"easing\":\"linear\"}}],\"label\":\"2010\",\"method\":\"animate\"},{\"args\":[[\"2009\"],{\"frame\":{\"duration\":0,\"redraw\":true},\"fromcurrent\":true,\"mode\":\"immediate\",\"transition\":{\"duration\":0,\"easing\":\"linear\"}}],\"label\":\"2009\",\"method\":\"animate\"},{\"args\":[[\"2008\"],{\"frame\":{\"duration\":0,\"redraw\":true},\"fromcurrent\":true,\"mode\":\"immediate\",\"transition\":{\"duration\":0,\"easing\":\"linear\"}}],\"label\":\"2008\",\"method\":\"animate\"}],\"x\":0.1,\"xanchor\":\"left\",\"y\":0,\"yanchor\":\"top\"}],\"template\":{\"data\":{\"bar\":[{\"error_x\":{\"color\":\"#2a3f5f\"},\"error_y\":{\"color\":\"#2a3f5f\"},\"marker\":{\"line\":{\"color\":\"#E5ECF6\",\"width\":0.5},\"pattern\":{\"fillmode\":\"overlay\",\"size\":10,\"solidity\":0.2}},\"type\":\"bar\"}],\"barpolar\":[{\"marker\":{\"line\":{\"color\":\"#E5ECF6\",\"width\":0.5},\"pattern\":{\"fillmode\":\"overlay\",\"size\":10,\"solidity\":0.2}},\"type\":\"barpolar\"}],\"carpet\":[{\"aaxis\":{\"endlinecolor\":\"#2a3f5f\",\"gridcolor\":\"white\",\"linecolor\":\"white\",\"minorgridcolor\":\"white\",\"startlinecolor\":\"#2a3f5f\"},\"baxis\":{\"endlinecolor\":\"#2a3f5f\",\"gridcolor\":\"white\",\"linecolor\":\"white\",\"minorgridcolor\":\"white\",\"startlinecolor\":\"#2a3f5f\"},\"type\":\"carpet\"}],\"choropleth\":[{\"colorbar\":{\"outlinewidth\":0,\"ticks\":\"\"},\"type\":\"choropleth\"}],\"contour\":[{\"colorbar\":{\"outlinewidth\":0,\"ticks\":\"\"},\"colorscale\":[[0.0,\"#0d0887\"],[0.1111111111111111,\"#46039f\"],[0.2222222222222222,\"#7201a8\"],[0.3333333333333333,\"#9c179e\"],[0.4444444444444444,\"#bd3786\"],[0.5555555555555556,\"#d8576b\"],[0.6666666666666666,\"#ed7953\"],[0.7777777777777778,\"#fb9f3a\"],[0.8888888888888888,\"#fdca26\"],[1.0,\"#f0f921\"]],\"type\":\"contour\"}],\"contourcarpet\":[{\"colorbar\":{\"outlinewidth\":0,\"ticks\":\"\"},\"type\":\"contourcarpet\"}],\"heatmap\":[{\"colorbar\":{\"outlinewidth\":0,\"ticks\":\"\"},\"colorscale\":[[0.0,\"#0d0887\"],[0.1111111111111111,\"#46039f\"],[0.2222222222222222,\"#7201a8\"],[0.3333333333333333,\"#9c179e\"],[0.4444444444444444,\"#bd3786\"],[0.5555555555555556,\"#d8576b\"],[0.6666666666666666,\"#ed7953\"],[0.7777777777777778,\"#fb9f3a\"],[0.8888888888888888,\"#fdca26\"],[1.0,\"#f0f921\"]],\"type\":\"heatmap\"}],\"heatmapgl\":[{\"colorbar\":{\"outlinewidth\":0,\"ticks\":\"\"},\"colorscale\":[[0.0,\"#0d0887\"],[0.1111111111111111,\"#46039f\"],[0.2222222222222222,\"#7201a8\"],[0.3333333333333333,\"#9c179e\"],[0.4444444444444444,\"#bd3786\"],[0.5555555555555556,\"#d8576b\"],[0.6666666666666666,\"#ed7953\"],[0.7777777777777778,\"#fb9f3a\"],[0.8888888888888888,\"#fdca26\"],[1.0,\"#f0f921\"]],\"type\":\"heatmapgl\"}],\"histogram\":[{\"marker\":{\"pattern\":{\"fillmode\":\"overlay\",\"size\":10,\"solidity\":0.2}},\"type\":\"histogram\"}],\"histogram2d\":[{\"colorbar\":{\"outlinewidth\":0,\"ticks\":\"\"},\"colorscale\":[[0.0,\"#0d0887\"],[0.1111111111111111,\"#46039f\"],[0.2222222222222222,\"#7201a8\"],[0.3333333333333333,\"#9c179e\"],[0.4444444444444444,\"#bd3786\"],[0.5555555555555556,\"#d8576b\"],[0.6666666666666666,\"#ed7953\"],[0.7777777777777778,\"#fb9f3a\"],[0.8888888888888888,\"#fdca26\"],[1.0,\"#f0f921\"]],\"type\":\"histogram2d\"}],\"histogram2dcontour\":[{\"colorbar\":{\"outlinewidth\":0,\"ticks\":\"\"},\"colorscale\":[[0.0,\"#0d0887\"],[0.1111111111111111,\"#46039f\"],[0.2222222222222222,\"#7201a8\"],[0.3333333333333333,\"#9c179e\"],[0.4444444444444444,\"#bd3786\"],[0.5555555555555556,\"#d8576b\"],[0.6666666666666666,\"#ed7953\"],[0.7777777777777778,\"#fb9f3a\"],[0.8888888888888888,\"#fdca26\"],[1.0,\"#f0f921\"]],\"type\":\"histogram2dcontour\"}],\"mesh3d\":[{\"colorbar\":{\"outlinewidth\":0,\"ticks\":\"\"},\"type\":\"mesh3d\"}],\"parcoords\":[{\"line\":{\"colorbar\":{\"outlinewidth\":0,\"ticks\":\"\"}},\"type\":\"parcoords\"}],\"pie\":[{\"automargin\":true,\"type\":\"pie\"}],\"scatter\":[{\"marker\":{\"colorbar\":{\"outlinewidth\":0,\"ticks\":\"\"}},\"type\":\"scatter\"}],\"scatter3d\":[{\"line\":{\"colorbar\":{\"outlinewidth\":0,\"ticks\":\"\"}},\"marker\":{\"colorbar\":{\"outlinewidth\":0,\"ticks\":\"\"}},\"type\":\"scatter3d\"}],\"scattercarpet\":[{\"marker\":{\"colorbar\":{\"outlinewidth\":0,\"ticks\":\"\"}},\"type\":\"scattercarpet\"}],\"scattergeo\":[{\"marker\":{\"colorbar\":{\"outlinewidth\":0,\"ticks\":\"\"}},\"type\":\"scattergeo\"}],\"scattergl\":[{\"marker\":{\"colorbar\":{\"outlinewidth\":0,\"ticks\":\"\"}},\"type\":\"scattergl\"}],\"scattermapbox\":[{\"marker\":{\"colorbar\":{\"outlinewidth\":0,\"ticks\":\"\"}},\"type\":\"scattermapbox\"}],\"scatterpolar\":[{\"marker\":{\"colorbar\":{\"outlinewidth\":0,\"ticks\":\"\"}},\"type\":\"scatterpolar\"}],\"scatterpolargl\":[{\"marker\":{\"colorbar\":{\"outlinewidth\":0,\"ticks\":\"\"}},\"type\":\"scatterpolargl\"}],\"scatterternary\":[{\"marker\":{\"colorbar\":{\"outlinewidth\":0,\"ticks\":\"\"}},\"type\":\"scatterternary\"}],\"surface\":[{\"colorbar\":{\"outlinewidth\":0,\"ticks\":\"\"},\"colorscale\":[[0.0,\"#0d0887\"],[0.1111111111111111,\"#46039f\"],[0.2222222222222222,\"#7201a8\"],[0.3333333333333333,\"#9c179e\"],[0.4444444444444444,\"#bd3786\"],[0.5555555555555556,\"#d8576b\"],[0.6666666666666666,\"#ed7953\"],[0.7777777777777778,\"#fb9f3a\"],[0.8888888888888888,\"#fdca26\"],[1.0,\"#f0f921\"]],\"type\":\"surface\"}],\"table\":[{\"cells\":{\"fill\":{\"color\":\"#EBF0F8\"},\"line\":{\"color\":\"white\"}},\"header\":{\"fill\":{\"color\":\"#C8D4E3\"},\"line\":{\"color\":\"white\"}},\"type\":\"table\"}]},\"layout\":{\"annotationdefaults\":{\"arrowcolor\":\"#2a3f5f\",\"arrowhead\":0,\"arrowwidth\":1},\"autotypenumbers\":\"strict\",\"coloraxis\":{\"colorbar\":{\"outlinewidth\":0,\"ticks\":\"\"}},\"colorscale\":{\"diverging\":[[0,\"#8e0152\"],[0.1,\"#c51b7d\"],[0.2,\"#de77ae\"],[0.3,\"#f1b6da\"],[0.4,\"#fde0ef\"],[0.5,\"#f7f7f7\"],[0.6,\"#e6f5d0\"],[0.7,\"#b8e186\"],[0.8,\"#7fbc41\"],[0.9,\"#4d9221\"],[1,\"#276419\"]],\"sequential\":[[0.0,\"#0d0887\"],[0.1111111111111111,\"#46039f\"],[0.2222222222222222,\"#7201a8\"],[0.3333333333333333,\"#9c179e\"],[0.4444444444444444,\"#bd3786\"],[0.5555555555555556,\"#d8576b\"],[0.6666666666666666,\"#ed7953\"],[0.7777777777777778,\"#fb9f3a\"],[0.8888888888888888,\"#fdca26\"],[1.0,\"#f0f921\"]],\"sequentialminus\":[[0.0,\"#0d0887\"],[0.1111111111111111,\"#46039f\"],[0.2222222222222222,\"#7201a8\"],[0.3333333333333333,\"#9c179e\"],[0.4444444444444444,\"#bd3786\"],[0.5555555555555556,\"#d8576b\"],[0.6666666666666666,\"#ed7953\"],[0.7777777777777778,\"#fb9f3a\"],[0.8888888888888888,\"#fdca26\"],[1.0,\"#f0f921\"]]},\"colorway\":[\"#636efa\",\"#EF553B\",\"#00cc96\",\"#ab63fa\",\"#FFA15A\",\"#19d3f3\",\"#FF6692\",\"#B6E880\",\"#FF97FF\",\"#FECB52\"],\"font\":{\"color\":\"#2a3f5f\"},\"geo\":{\"bgcolor\":\"white\",\"lakecolor\":\"white\",\"landcolor\":\"#E5ECF6\",\"showlakes\":true,\"showland\":true,\"subunitcolor\":\"white\"},\"hoverlabel\":{\"align\":\"left\"},\"hovermode\":\"closest\",\"mapbox\":{\"style\":\"light\"},\"paper_bgcolor\":\"white\",\"plot_bgcolor\":\"#E5ECF6\",\"polar\":{\"angularaxis\":{\"gridcolor\":\"white\",\"linecolor\":\"white\",\"ticks\":\"\"},\"bgcolor\":\"#E5ECF6\",\"radialaxis\":{\"gridcolor\":\"white\",\"linecolor\":\"white\",\"ticks\":\"\"}},\"scene\":{\"xaxis\":{\"backgroundcolor\":\"#E5ECF6\",\"gridcolor\":\"white\",\"gridwidth\":2,\"linecolor\":\"white\",\"showbackground\":true,\"ticks\":\"\",\"zerolinecolor\":\"white\"},\"yaxis\":{\"backgroundcolor\":\"#E5ECF6\",\"gridcolor\":\"white\",\"gridwidth\":2,\"linecolor\":\"white\",\"showbackground\":true,\"ticks\":\"\",\"zerolinecolor\":\"white\"},\"zaxis\":{\"backgroundcolor\":\"#E5ECF6\",\"gridcolor\":\"white\",\"gridwidth\":2,\"linecolor\":\"white\",\"showbackground\":true,\"ticks\":\"\",\"zerolinecolor\":\"white\"}},\"shapedefaults\":{\"line\":{\"color\":\"#2a3f5f\"}},\"ternary\":{\"aaxis\":{\"gridcolor\":\"white\",\"linecolor\":\"white\",\"ticks\":\"\"},\"baxis\":{\"gridcolor\":\"white\",\"linecolor\":\"white\",\"ticks\":\"\"},\"bgcolor\":\"#E5ECF6\",\"caxis\":{\"gridcolor\":\"white\",\"linecolor\":\"white\",\"ticks\":\"\"}},\"title\":{\"x\":0.05},\"xaxis\":{\"automargin\":true,\"gridcolor\":\"white\",\"linecolor\":\"white\",\"ticks\":\"\",\"title\":{\"standoff\":15},\"zerolinecolor\":\"white\",\"zerolinewidth\":2},\"yaxis\":{\"automargin\":true,\"gridcolor\":\"white\",\"linecolor\":\"white\",\"ticks\":\"\",\"title\":{\"standoff\":15},\"zerolinecolor\":\"white\",\"zerolinewidth\":2}}},\"xaxis\":{\"anchor\":\"y\",\"autorange\":true,\"categoryarray\":[\"business\",\"economist\",\"politician\",\"programmer\",\"science\",\"media\",\"crypto\",\"lawyer\"],\"categoryorder\":\"total descending\",\"domain\":[0.0,1.0],\"fixedrange\":false,\"title\":{\"text\":\"occupation\"}},\"yaxis\":{\"anchor\":\"x\",\"domain\":[0.0,1.0],\"range\":[0,100],\"title\":{\"text\":\"sum of occurance_percentage\"}}},                        {\"responsive\": true}                    ).then(function(){\n",
       "                            Plotly.addFrames('1ab3a3a1-3936-477a-9a64-7dbc1942df3f', [{\"data\":[{\"alignmentgroup\":\"True\",\"bingroup\":\"x\",\"histfunc\":\"sum\",\"hovertemplate\":\"occupation=%{x}<br>publish_year=2017<br>sum of occurance_percentage=%{y}<extra></extra>\",\"legendgroup\":\"business\",\"marker\":{\"color\":\"#636efa\",\"pattern\":{\"shape\":\"\"}},\"name\":\"business\",\"offsetgroup\":\"business\",\"orientation\":\"v\",\"showlegend\":true,\"type\":\"histogram\",\"x\":[\"business\"],\"xaxis\":\"x\",\"y\":[42.01117318435754],\"yaxis\":\"y\"},{\"alignmentgroup\":\"True\",\"bingroup\":\"x\",\"histfunc\":\"sum\",\"hovertemplate\":\"occupation=%{x}<br>publish_year=2017<br>sum of occurance_percentage=%{y}<extra></extra>\",\"legendgroup\":\"economist\",\"marker\":{\"color\":\"#EF553B\",\"pattern\":{\"shape\":\"\"}},\"name\":\"economist\",\"offsetgroup\":\"economist\",\"orientation\":\"v\",\"showlegend\":true,\"type\":\"histogram\",\"x\":[\"economist\"],\"xaxis\":\"x\",\"y\":[22.23463687150838],\"yaxis\":\"y\"},{\"alignmentgroup\":\"True\",\"bingroup\":\"x\",\"histfunc\":\"sum\",\"hovertemplate\":\"occupation=%{x}<br>publish_year=2017<br>sum of occurance_percentage=%{y}<extra></extra>\",\"legendgroup\":\"politician\",\"marker\":{\"color\":\"#00cc96\",\"pattern\":{\"shape\":\"\"}},\"name\":\"politician\",\"offsetgroup\":\"politician\",\"orientation\":\"v\",\"showlegend\":true,\"type\":\"histogram\",\"x\":[\"politician\"],\"xaxis\":\"x\",\"y\":[15.123703112529927],\"yaxis\":\"y\"},{\"alignmentgroup\":\"True\",\"bingroup\":\"x\",\"histfunc\":\"sum\",\"hovertemplate\":\"occupation=%{x}<br>publish_year=2017<br>sum of occurance_percentage=%{y}<extra></extra>\",\"legendgroup\":\"programmer\",\"marker\":{\"color\":\"#ab63fa\",\"pattern\":{\"shape\":\"\"}},\"name\":\"programmer\",\"offsetgroup\":\"programmer\",\"orientation\":\"v\",\"showlegend\":true,\"type\":\"histogram\",\"x\":[\"programmer\"],\"xaxis\":\"x\",\"y\":[9.896249002394255],\"yaxis\":\"y\"},{\"alignmentgroup\":\"True\",\"bingroup\":\"x\",\"histfunc\":\"sum\",\"hovertemplate\":\"occupation=%{x}<br>publish_year=2017<br>sum of occurance_percentage=%{y}<extra></extra>\",\"legendgroup\":\"science\",\"marker\":{\"color\":\"#FFA15A\",\"pattern\":{\"shape\":\"\"}},\"name\":\"science\",\"offsetgroup\":\"science\",\"orientation\":\"v\",\"showlegend\":true,\"type\":\"histogram\",\"x\":[\"science\"],\"xaxis\":\"x\",\"y\":[6.3048683160415],\"yaxis\":\"y\"},{\"alignmentgroup\":\"True\",\"bingroup\":\"x\",\"histfunc\":\"sum\",\"hovertemplate\":\"occupation=%{x}<br>publish_year=2017<br>sum of occurance_percentage=%{y}<extra></extra>\",\"legendgroup\":\"media\",\"marker\":{\"color\":\"#19d3f3\",\"pattern\":{\"shape\":\"\"}},\"name\":\"media\",\"offsetgroup\":\"media\",\"orientation\":\"v\",\"showlegend\":true,\"type\":\"histogram\",\"x\":[\"media\"],\"xaxis\":\"x\",\"y\":[4.429369513168396],\"yaxis\":\"y\"}],\"name\":\"2017\"},{\"data\":[{\"alignmentgroup\":\"True\",\"bingroup\":\"x\",\"histfunc\":\"sum\",\"hovertemplate\":\"occupation=%{x}<br>publish_year=2016<br>sum of occurance_percentage=%{y}<extra></extra>\",\"legendgroup\":\"business\",\"marker\":{\"color\":\"#636efa\",\"pattern\":{\"shape\":\"\"}},\"name\":\"business\",\"offsetgroup\":\"business\",\"orientation\":\"v\",\"showlegend\":true,\"type\":\"histogram\",\"x\":[\"business\"],\"xaxis\":\"x\",\"y\":[49.76547842401501],\"yaxis\":\"y\"},{\"alignmentgroup\":\"True\",\"bingroup\":\"x\",\"histfunc\":\"sum\",\"hovertemplate\":\"occupation=%{x}<br>publish_year=2016<br>sum of occurance_percentage=%{y}<extra></extra>\",\"legendgroup\":\"economist\",\"marker\":{\"color\":\"#EF553B\",\"pattern\":{\"shape\":\"\"}},\"name\":\"economist\",\"offsetgroup\":\"economist\",\"orientation\":\"v\",\"showlegend\":true,\"type\":\"histogram\",\"x\":[\"economist\"],\"xaxis\":\"x\",\"y\":[5.534709193245779],\"yaxis\":\"y\"},{\"alignmentgroup\":\"True\",\"bingroup\":\"x\",\"histfunc\":\"sum\",\"hovertemplate\":\"occupation=%{x}<br>publish_year=2016<br>sum of occurance_percentage=%{y}<extra></extra>\",\"legendgroup\":\"politician\",\"marker\":{\"color\":\"#00cc96\",\"pattern\":{\"shape\":\"\"}},\"name\":\"politician\",\"offsetgroup\":\"politician\",\"orientation\":\"v\",\"showlegend\":true,\"type\":\"histogram\",\"x\":[\"politician\"],\"xaxis\":\"x\",\"y\":[5.769230769230769],\"yaxis\":\"y\"},{\"alignmentgroup\":\"True\",\"bingroup\":\"x\",\"histfunc\":\"sum\",\"hovertemplate\":\"occupation=%{x}<br>publish_year=2016<br>sum of occurance_percentage=%{y}<extra></extra>\",\"legendgroup\":\"programmer\",\"marker\":{\"color\":\"#ab63fa\",\"pattern\":{\"shape\":\"\"}},\"name\":\"programmer\",\"offsetgroup\":\"programmer\",\"orientation\":\"v\",\"showlegend\":true,\"type\":\"histogram\",\"x\":[\"programmer\"],\"xaxis\":\"x\",\"y\":[25.56285178236398],\"yaxis\":\"y\"},{\"alignmentgroup\":\"True\",\"bingroup\":\"x\",\"histfunc\":\"sum\",\"hovertemplate\":\"occupation=%{x}<br>publish_year=2016<br>sum of occurance_percentage=%{y}<extra></extra>\",\"legendgroup\":\"media\",\"marker\":{\"color\":\"#19d3f3\",\"pattern\":{\"shape\":\"\"}},\"name\":\"media\",\"offsetgroup\":\"media\",\"orientation\":\"v\",\"showlegend\":true,\"type\":\"histogram\",\"x\":[\"media\"],\"xaxis\":\"x\",\"y\":[8.72420262664165],\"yaxis\":\"y\"},{\"alignmentgroup\":\"True\",\"bingroup\":\"x\",\"histfunc\":\"sum\",\"hovertemplate\":\"occupation=%{x}<br>publish_year=2016<br>sum of occurance_percentage=%{y}<extra></extra>\",\"legendgroup\":\"crypto\",\"marker\":{\"color\":\"#FF6692\",\"pattern\":{\"shape\":\"\"}},\"name\":\"crypto\",\"offsetgroup\":\"crypto\",\"orientation\":\"v\",\"showlegend\":true,\"type\":\"histogram\",\"x\":[\"crypto\"],\"xaxis\":\"x\",\"y\":[4.643527204502814],\"yaxis\":\"y\"}],\"name\":\"2016\"},{\"data\":[{\"alignmentgroup\":\"True\",\"bingroup\":\"x\",\"histfunc\":\"sum\",\"hovertemplate\":\"occupation=%{x}<br>publish_year=2015<br>sum of occurance_percentage=%{y}<extra></extra>\",\"legendgroup\":\"business\",\"marker\":{\"color\":\"#636efa\",\"pattern\":{\"shape\":\"\"}},\"name\":\"business\",\"offsetgroup\":\"business\",\"orientation\":\"v\",\"showlegend\":true,\"type\":\"histogram\",\"x\":[\"business\"],\"xaxis\":\"x\",\"y\":[38.95216400911162],\"yaxis\":\"y\"},{\"alignmentgroup\":\"True\",\"bingroup\":\"x\",\"histfunc\":\"sum\",\"hovertemplate\":\"occupation=%{x}<br>publish_year=2015<br>sum of occurance_percentage=%{y}<extra></extra>\",\"legendgroup\":\"economist\",\"marker\":{\"color\":\"#EF553B\",\"pattern\":{\"shape\":\"\"}},\"name\":\"economist\",\"offsetgroup\":\"economist\",\"orientation\":\"v\",\"showlegend\":true,\"type\":\"histogram\",\"x\":[\"economist\"],\"xaxis\":\"x\",\"y\":[4.783599088838269],\"yaxis\":\"y\"},{\"alignmentgroup\":\"True\",\"bingroup\":\"x\",\"histfunc\":\"sum\",\"hovertemplate\":\"occupation=%{x}<br>publish_year=2015<br>sum of occurance_percentage=%{y}<extra></extra>\",\"legendgroup\":\"programmer\",\"marker\":{\"color\":\"#ab63fa\",\"pattern\":{\"shape\":\"\"}},\"name\":\"programmer\",\"offsetgroup\":\"programmer\",\"orientation\":\"v\",\"showlegend\":true,\"type\":\"histogram\",\"x\":[\"programmer\"],\"xaxis\":\"x\",\"y\":[8.018223234624147],\"yaxis\":\"y\"},{\"alignmentgroup\":\"True\",\"bingroup\":\"x\",\"histfunc\":\"sum\",\"hovertemplate\":\"occupation=%{x}<br>publish_year=2015<br>sum of occurance_percentage=%{y}<extra></extra>\",\"legendgroup\":\"science\",\"marker\":{\"color\":\"#FFA15A\",\"pattern\":{\"shape\":\"\"}},\"name\":\"science\",\"offsetgroup\":\"science\",\"orientation\":\"v\",\"showlegend\":true,\"type\":\"histogram\",\"x\":[\"science\"],\"xaxis\":\"x\",\"y\":[9.339407744874716],\"yaxis\":\"y\"},{\"alignmentgroup\":\"True\",\"bingroup\":\"x\",\"histfunc\":\"sum\",\"hovertemplate\":\"occupation=%{x}<br>publish_year=2015<br>sum of occurance_percentage=%{y}<extra></extra>\",\"legendgroup\":\"media\",\"marker\":{\"color\":\"#19d3f3\",\"pattern\":{\"shape\":\"\"}},\"name\":\"media\",\"offsetgroup\":\"media\",\"orientation\":\"v\",\"showlegend\":true,\"type\":\"histogram\",\"x\":[\"media\"],\"xaxis\":\"x\",\"y\":[35.945330296127565],\"yaxis\":\"y\"},{\"alignmentgroup\":\"True\",\"bingroup\":\"x\",\"histfunc\":\"sum\",\"hovertemplate\":\"occupation=%{x}<br>publish_year=2015<br>sum of occurance_percentage=%{y}<extra></extra>\",\"legendgroup\":\"crypto\",\"marker\":{\"color\":\"#FF6692\",\"pattern\":{\"shape\":\"\"}},\"name\":\"crypto\",\"offsetgroup\":\"crypto\",\"orientation\":\"v\",\"showlegend\":true,\"type\":\"histogram\",\"x\":[\"crypto\"],\"xaxis\":\"x\",\"y\":[2.9612756264236904],\"yaxis\":\"y\"}],\"name\":\"2015\"},{\"data\":[{\"alignmentgroup\":\"True\",\"bingroup\":\"x\",\"histfunc\":\"sum\",\"hovertemplate\":\"occupation=%{x}<br>publish_year=2014<br>sum of occurance_percentage=%{y}<extra></extra>\",\"legendgroup\":\"business\",\"marker\":{\"color\":\"#636efa\",\"pattern\":{\"shape\":\"\"}},\"name\":\"business\",\"offsetgroup\":\"business\",\"orientation\":\"v\",\"showlegend\":true,\"type\":\"histogram\",\"x\":[\"business\"],\"xaxis\":\"x\",\"y\":[37.94277929155314],\"yaxis\":\"y\"},{\"alignmentgroup\":\"True\",\"bingroup\":\"x\",\"histfunc\":\"sum\",\"hovertemplate\":\"occupation=%{x}<br>publish_year=2014<br>sum of occurance_percentage=%{y}<extra></extra>\",\"legendgroup\":\"economist\",\"marker\":{\"color\":\"#EF553B\",\"pattern\":{\"shape\":\"\"}},\"name\":\"economist\",\"offsetgroup\":\"economist\",\"orientation\":\"v\",\"showlegend\":true,\"type\":\"histogram\",\"x\":[\"economist\"],\"xaxis\":\"x\",\"y\":[6.6984559491371485],\"yaxis\":\"y\"},{\"alignmentgroup\":\"True\",\"bingroup\":\"x\",\"histfunc\":\"sum\",\"hovertemplate\":\"occupation=%{x}<br>publish_year=2014<br>sum of occurance_percentage=%{y}<extra></extra>\",\"legendgroup\":\"politician\",\"marker\":{\"color\":\"#00cc96\",\"pattern\":{\"shape\":\"\"}},\"name\":\"politician\",\"offsetgroup\":\"politician\",\"orientation\":\"v\",\"showlegend\":true,\"type\":\"histogram\",\"x\":[\"politician\"],\"xaxis\":\"x\",\"y\":[8.878292461398729],\"yaxis\":\"y\"},{\"alignmentgroup\":\"True\",\"bingroup\":\"x\",\"histfunc\":\"sum\",\"hovertemplate\":\"occupation=%{x}<br>publish_year=2014<br>sum of occurance_percentage=%{y}<extra></extra>\",\"legendgroup\":\"programmer\",\"marker\":{\"color\":\"#ab63fa\",\"pattern\":{\"shape\":\"\"}},\"name\":\"programmer\",\"offsetgroup\":\"programmer\",\"orientation\":\"v\",\"showlegend\":true,\"type\":\"histogram\",\"x\":[\"programmer\"],\"xaxis\":\"x\",\"y\":[24.069028156221616],\"yaxis\":\"y\"},{\"alignmentgroup\":\"True\",\"bingroup\":\"x\",\"histfunc\":\"sum\",\"hovertemplate\":\"occupation=%{x}<br>publish_year=2014<br>sum of occurance_percentage=%{y}<extra></extra>\",\"legendgroup\":\"science\",\"marker\":{\"color\":\"#FFA15A\",\"pattern\":{\"shape\":\"\"}},\"name\":\"science\",\"offsetgroup\":\"science\",\"orientation\":\"v\",\"showlegend\":true,\"type\":\"histogram\",\"x\":[\"science\"],\"xaxis\":\"x\",\"y\":[19.277929155313352],\"yaxis\":\"y\"},{\"alignmentgroup\":\"True\",\"bingroup\":\"x\",\"histfunc\":\"sum\",\"hovertemplate\":\"occupation=%{x}<br>publish_year=2014<br>sum of occurance_percentage=%{y}<extra></extra>\",\"legendgroup\":\"crypto\",\"marker\":{\"color\":\"#FF6692\",\"pattern\":{\"shape\":\"\"}},\"name\":\"crypto\",\"offsetgroup\":\"crypto\",\"orientation\":\"v\",\"showlegend\":true,\"type\":\"histogram\",\"x\":[\"crypto\"],\"xaxis\":\"x\",\"y\":[3.1335149863760217],\"yaxis\":\"y\"}],\"name\":\"2014\"},{\"data\":[{\"alignmentgroup\":\"True\",\"bingroup\":\"x\",\"histfunc\":\"sum\",\"hovertemplate\":\"occupation=%{x}<br>publish_year=2013<br>sum of occurance_percentage=%{y}<extra></extra>\",\"legendgroup\":\"business\",\"marker\":{\"color\":\"#636efa\",\"pattern\":{\"shape\":\"\"}},\"name\":\"business\",\"offsetgroup\":\"business\",\"orientation\":\"v\",\"showlegend\":true,\"type\":\"histogram\",\"x\":[\"business\"],\"xaxis\":\"x\",\"y\":[29.731589814177564],\"yaxis\":\"y\"},{\"alignmentgroup\":\"True\",\"bingroup\":\"x\",\"histfunc\":\"sum\",\"hovertemplate\":\"occupation=%{x}<br>publish_year=2013<br>sum of occurance_percentage=%{y}<extra></extra>\",\"legendgroup\":\"economist\",\"marker\":{\"color\":\"#EF553B\",\"pattern\":{\"shape\":\"\"}},\"name\":\"economist\",\"offsetgroup\":\"economist\",\"orientation\":\"v\",\"showlegend\":true,\"type\":\"histogram\",\"x\":[\"economist\"],\"xaxis\":\"x\",\"y\":[8.258774948382657],\"yaxis\":\"y\"},{\"alignmentgroup\":\"True\",\"bingroup\":\"x\",\"histfunc\":\"sum\",\"hovertemplate\":\"occupation=%{x}<br>publish_year=2013<br>sum of occurance_percentage=%{y}<extra></extra>\",\"legendgroup\":\"politician\",\"marker\":{\"color\":\"#00cc96\",\"pattern\":{\"shape\":\"\"}},\"name\":\"politician\",\"offsetgroup\":\"politician\",\"orientation\":\"v\",\"showlegend\":true,\"type\":\"histogram\",\"x\":[\"politician\"],\"xaxis\":\"x\",\"y\":[11.906400550584996],\"yaxis\":\"y\"},{\"alignmentgroup\":\"True\",\"bingroup\":\"x\",\"histfunc\":\"sum\",\"hovertemplate\":\"occupation=%{x}<br>publish_year=2013<br>sum of occurance_percentage=%{y}<extra></extra>\",\"legendgroup\":\"programmer\",\"marker\":{\"color\":\"#ab63fa\",\"pattern\":{\"shape\":\"\"}},\"name\":\"programmer\",\"offsetgroup\":\"programmer\",\"orientation\":\"v\",\"showlegend\":true,\"type\":\"histogram\",\"x\":[\"programmer\"],\"xaxis\":\"x\",\"y\":[13.489332415691672],\"yaxis\":\"y\"},{\"alignmentgroup\":\"True\",\"bingroup\":\"x\",\"histfunc\":\"sum\",\"hovertemplate\":\"occupation=%{x}<br>publish_year=2013<br>sum of occurance_percentage=%{y}<extra></extra>\",\"legendgroup\":\"science\",\"marker\":{\"color\":\"#FFA15A\",\"pattern\":{\"shape\":\"\"}},\"name\":\"science\",\"offsetgroup\":\"science\",\"orientation\":\"v\",\"showlegend\":true,\"type\":\"histogram\",\"x\":[\"science\"],\"xaxis\":\"x\",\"y\":[20.646937370956643],\"yaxis\":\"y\"},{\"alignmentgroup\":\"True\",\"bingroup\":\"x\",\"histfunc\":\"sum\",\"hovertemplate\":\"occupation=%{x}<br>publish_year=2013<br>sum of occurance_percentage=%{y}<extra></extra>\",\"legendgroup\":\"lawyer\",\"marker\":{\"color\":\"#B6E880\",\"pattern\":{\"shape\":\"\"}},\"name\":\"lawyer\",\"offsetgroup\":\"lawyer\",\"orientation\":\"v\",\"showlegend\":true,\"type\":\"histogram\",\"x\":[\"lawyer\"],\"xaxis\":\"x\",\"y\":[15.96696490020647],\"yaxis\":\"y\"}],\"name\":\"2013\"},{\"data\":[{\"alignmentgroup\":\"True\",\"bingroup\":\"x\",\"histfunc\":\"sum\",\"hovertemplate\":\"occupation=%{x}<br>publish_year=2012<br>sum of occurance_percentage=%{y}<extra></extra>\",\"legendgroup\":\"business\",\"marker\":{\"color\":\"#636efa\",\"pattern\":{\"shape\":\"\"}},\"name\":\"business\",\"offsetgroup\":\"business\",\"orientation\":\"v\",\"showlegend\":true,\"type\":\"histogram\",\"x\":[\"business\"],\"xaxis\":\"x\",\"y\":[14.333333333333334],\"yaxis\":\"y\"},{\"alignmentgroup\":\"True\",\"bingroup\":\"x\",\"histfunc\":\"sum\",\"hovertemplate\":\"occupation=%{x}<br>publish_year=2012<br>sum of occurance_percentage=%{y}<extra></extra>\",\"legendgroup\":\"economist\",\"marker\":{\"color\":\"#EF553B\",\"pattern\":{\"shape\":\"\"}},\"name\":\"economist\",\"offsetgroup\":\"economist\",\"orientation\":\"v\",\"showlegend\":true,\"type\":\"histogram\",\"x\":[\"economist\"],\"xaxis\":\"x\",\"y\":[6.0],\"yaxis\":\"y\"},{\"alignmentgroup\":\"True\",\"bingroup\":\"x\",\"histfunc\":\"sum\",\"hovertemplate\":\"occupation=%{x}<br>publish_year=2012<br>sum of occurance_percentage=%{y}<extra></extra>\",\"legendgroup\":\"politician\",\"marker\":{\"color\":\"#00cc96\",\"pattern\":{\"shape\":\"\"}},\"name\":\"politician\",\"offsetgroup\":\"politician\",\"orientation\":\"v\",\"showlegend\":true,\"type\":\"histogram\",\"x\":[\"politician\"],\"xaxis\":\"x\",\"y\":[15.666666666666666],\"yaxis\":\"y\"},{\"alignmentgroup\":\"True\",\"bingroup\":\"x\",\"histfunc\":\"sum\",\"hovertemplate\":\"occupation=%{x}<br>publish_year=2012<br>sum of occurance_percentage=%{y}<extra></extra>\",\"legendgroup\":\"programmer\",\"marker\":{\"color\":\"#ab63fa\",\"pattern\":{\"shape\":\"\"}},\"name\":\"programmer\",\"offsetgroup\":\"programmer\",\"orientation\":\"v\",\"showlegend\":true,\"type\":\"histogram\",\"x\":[\"programmer\"],\"xaxis\":\"x\",\"y\":[25.666666666666668],\"yaxis\":\"y\"},{\"alignmentgroup\":\"True\",\"bingroup\":\"x\",\"histfunc\":\"sum\",\"hovertemplate\":\"occupation=%{x}<br>publish_year=2012<br>sum of occurance_percentage=%{y}<extra></extra>\",\"legendgroup\":\"science\",\"marker\":{\"color\":\"#FFA15A\",\"pattern\":{\"shape\":\"\"}},\"name\":\"science\",\"offsetgroup\":\"science\",\"orientation\":\"v\",\"showlegend\":true,\"type\":\"histogram\",\"x\":[\"science\"],\"xaxis\":\"x\",\"y\":[15.666666666666666],\"yaxis\":\"y\"},{\"alignmentgroup\":\"True\",\"bingroup\":\"x\",\"histfunc\":\"sum\",\"hovertemplate\":\"occupation=%{x}<br>publish_year=2012<br>sum of occurance_percentage=%{y}<extra></extra>\",\"legendgroup\":\"crypto\",\"marker\":{\"color\":\"#FF6692\",\"pattern\":{\"shape\":\"\"}},\"name\":\"crypto\",\"offsetgroup\":\"crypto\",\"orientation\":\"v\",\"showlegend\":true,\"type\":\"histogram\",\"x\":[\"crypto\"],\"xaxis\":\"x\",\"y\":[22.666666666666668],\"yaxis\":\"y\"}],\"name\":\"2012\"},{\"data\":[{\"alignmentgroup\":\"True\",\"bingroup\":\"x\",\"histfunc\":\"sum\",\"hovertemplate\":\"occupation=%{x}<br>publish_year=2011<br>sum of occurance_percentage=%{y}<extra></extra>\",\"legendgroup\":\"business\",\"marker\":{\"color\":\"#636efa\",\"pattern\":{\"shape\":\"\"}},\"name\":\"business\",\"offsetgroup\":\"business\",\"orientation\":\"v\",\"showlegend\":true,\"type\":\"histogram\",\"x\":[\"business\"],\"xaxis\":\"x\",\"y\":[2.6548672566371683],\"yaxis\":\"y\"},{\"alignmentgroup\":\"True\",\"bingroup\":\"x\",\"histfunc\":\"sum\",\"hovertemplate\":\"occupation=%{x}<br>publish_year=2011<br>sum of occurance_percentage=%{y}<extra></extra>\",\"legendgroup\":\"economist\",\"marker\":{\"color\":\"#EF553B\",\"pattern\":{\"shape\":\"\"}},\"name\":\"economist\",\"offsetgroup\":\"economist\",\"orientation\":\"v\",\"showlegend\":true,\"type\":\"histogram\",\"x\":[\"economist\"],\"xaxis\":\"x\",\"y\":[23.893805309734514],\"yaxis\":\"y\"},{\"alignmentgroup\":\"True\",\"bingroup\":\"x\",\"histfunc\":\"sum\",\"hovertemplate\":\"occupation=%{x}<br>publish_year=2011<br>sum of occurance_percentage=%{y}<extra></extra>\",\"legendgroup\":\"politician\",\"marker\":{\"color\":\"#00cc96\",\"pattern\":{\"shape\":\"\"}},\"name\":\"politician\",\"offsetgroup\":\"politician\",\"orientation\":\"v\",\"showlegend\":true,\"type\":\"histogram\",\"x\":[\"politician\"],\"xaxis\":\"x\",\"y\":[17.699115044247787],\"yaxis\":\"y\"},{\"alignmentgroup\":\"True\",\"bingroup\":\"x\",\"histfunc\":\"sum\",\"hovertemplate\":\"occupation=%{x}<br>publish_year=2011<br>sum of occurance_percentage=%{y}<extra></extra>\",\"legendgroup\":\"programmer\",\"marker\":{\"color\":\"#ab63fa\",\"pattern\":{\"shape\":\"\"}},\"name\":\"programmer\",\"offsetgroup\":\"programmer\",\"orientation\":\"v\",\"showlegend\":true,\"type\":\"histogram\",\"x\":[\"programmer\"],\"xaxis\":\"x\",\"y\":[38.05309734513274],\"yaxis\":\"y\"},{\"alignmentgroup\":\"True\",\"bingroup\":\"x\",\"histfunc\":\"sum\",\"hovertemplate\":\"occupation=%{x}<br>publish_year=2011<br>sum of occurance_percentage=%{y}<extra></extra>\",\"legendgroup\":\"science\",\"marker\":{\"color\":\"#FFA15A\",\"pattern\":{\"shape\":\"\"}},\"name\":\"science\",\"offsetgroup\":\"science\",\"orientation\":\"v\",\"showlegend\":true,\"type\":\"histogram\",\"x\":[\"science\"],\"xaxis\":\"x\",\"y\":[7.079646017699115],\"yaxis\":\"y\"},{\"alignmentgroup\":\"True\",\"bingroup\":\"x\",\"histfunc\":\"sum\",\"hovertemplate\":\"occupation=%{x}<br>publish_year=2011<br>sum of occurance_percentage=%{y}<extra></extra>\",\"legendgroup\":\"crypto\",\"marker\":{\"color\":\"#FF6692\",\"pattern\":{\"shape\":\"\"}},\"name\":\"crypto\",\"offsetgroup\":\"crypto\",\"orientation\":\"v\",\"showlegend\":true,\"type\":\"histogram\",\"x\":[\"crypto\"],\"xaxis\":\"x\",\"y\":[10.619469026548673],\"yaxis\":\"y\"}],\"name\":\"2011\"},{\"data\":[{\"alignmentgroup\":\"True\",\"bingroup\":\"x\",\"histfunc\":\"sum\",\"hovertemplate\":\"occupation=%{x}<br>publish_year=2010<br>sum of occurance_percentage=%{y}<extra></extra>\",\"legendgroup\":\"economist\",\"marker\":{\"color\":\"#EF553B\",\"pattern\":{\"shape\":\"\"}},\"name\":\"economist\",\"offsetgroup\":\"economist\",\"orientation\":\"v\",\"showlegend\":true,\"type\":\"histogram\",\"x\":[\"economist\"],\"xaxis\":\"x\",\"y\":[0.7874015748031497],\"yaxis\":\"y\"},{\"alignmentgroup\":\"True\",\"bingroup\":\"x\",\"histfunc\":\"sum\",\"hovertemplate\":\"occupation=%{x}<br>publish_year=2010<br>sum of occurance_percentage=%{y}<extra></extra>\",\"legendgroup\":\"politician\",\"marker\":{\"color\":\"#00cc96\",\"pattern\":{\"shape\":\"\"}},\"name\":\"politician\",\"offsetgroup\":\"politician\",\"orientation\":\"v\",\"showlegend\":true,\"type\":\"histogram\",\"x\":[\"politician\"],\"xaxis\":\"x\",\"y\":[43.30708661417323],\"yaxis\":\"y\"},{\"alignmentgroup\":\"True\",\"bingroup\":\"x\",\"histfunc\":\"sum\",\"hovertemplate\":\"occupation=%{x}<br>publish_year=2010<br>sum of occurance_percentage=%{y}<extra></extra>\",\"legendgroup\":\"programmer\",\"marker\":{\"color\":\"#ab63fa\",\"pattern\":{\"shape\":\"\"}},\"name\":\"programmer\",\"offsetgroup\":\"programmer\",\"orientation\":\"v\",\"showlegend\":true,\"type\":\"histogram\",\"x\":[\"programmer\"],\"xaxis\":\"x\",\"y\":[25.19685039370079],\"yaxis\":\"y\"},{\"alignmentgroup\":\"True\",\"bingroup\":\"x\",\"histfunc\":\"sum\",\"hovertemplate\":\"occupation=%{x}<br>publish_year=2010<br>sum of occurance_percentage=%{y}<extra></extra>\",\"legendgroup\":\"science\",\"marker\":{\"color\":\"#FFA15A\",\"pattern\":{\"shape\":\"\"}},\"name\":\"science\",\"offsetgroup\":\"science\",\"orientation\":\"v\",\"showlegend\":true,\"type\":\"histogram\",\"x\":[\"science\"],\"xaxis\":\"x\",\"y\":[13.385826771653543],\"yaxis\":\"y\"},{\"alignmentgroup\":\"True\",\"bingroup\":\"x\",\"histfunc\":\"sum\",\"hovertemplate\":\"occupation=%{x}<br>publish_year=2010<br>sum of occurance_percentage=%{y}<extra></extra>\",\"legendgroup\":\"media\",\"marker\":{\"color\":\"#19d3f3\",\"pattern\":{\"shape\":\"\"}},\"name\":\"media\",\"offsetgroup\":\"media\",\"orientation\":\"v\",\"showlegend\":true,\"type\":\"histogram\",\"x\":[\"media\"],\"xaxis\":\"x\",\"y\":[0.7874015748031497],\"yaxis\":\"y\"},{\"alignmentgroup\":\"True\",\"bingroup\":\"x\",\"histfunc\":\"sum\",\"hovertemplate\":\"occupation=%{x}<br>publish_year=2010<br>sum of occurance_percentage=%{y}<extra></extra>\",\"legendgroup\":\"crypto\",\"marker\":{\"color\":\"#FF6692\",\"pattern\":{\"shape\":\"\"}},\"name\":\"crypto\",\"offsetgroup\":\"crypto\",\"orientation\":\"v\",\"showlegend\":true,\"type\":\"histogram\",\"x\":[\"crypto\"],\"xaxis\":\"x\",\"y\":[16.53543307086614],\"yaxis\":\"y\"}],\"name\":\"2010\"},{\"data\":[{\"alignmentgroup\":\"True\",\"bingroup\":\"x\",\"histfunc\":\"sum\",\"hovertemplate\":\"occupation=%{x}<br>publish_year=2009<br>sum of occurance_percentage=%{y}<extra></extra>\",\"legendgroup\":\"business\",\"marker\":{\"color\":\"#636efa\",\"pattern\":{\"shape\":\"\"}},\"name\":\"business\",\"offsetgroup\":\"business\",\"orientation\":\"v\",\"showlegend\":true,\"type\":\"histogram\",\"x\":[\"business\"],\"xaxis\":\"x\",\"y\":[1.3157894736842106],\"yaxis\":\"y\"},{\"alignmentgroup\":\"True\",\"bingroup\":\"x\",\"histfunc\":\"sum\",\"hovertemplate\":\"occupation=%{x}<br>publish_year=2009<br>sum of occurance_percentage=%{y}<extra></extra>\",\"legendgroup\":\"politician\",\"marker\":{\"color\":\"#00cc96\",\"pattern\":{\"shape\":\"\"}},\"name\":\"politician\",\"offsetgroup\":\"politician\",\"orientation\":\"v\",\"showlegend\":true,\"type\":\"histogram\",\"x\":[\"politician\"],\"xaxis\":\"x\",\"y\":[40.78947368421053],\"yaxis\":\"y\"},{\"alignmentgroup\":\"True\",\"bingroup\":\"x\",\"histfunc\":\"sum\",\"hovertemplate\":\"occupation=%{x}<br>publish_year=2009<br>sum of occurance_percentage=%{y}<extra></extra>\",\"legendgroup\":\"programmer\",\"marker\":{\"color\":\"#ab63fa\",\"pattern\":{\"shape\":\"\"}},\"name\":\"programmer\",\"offsetgroup\":\"programmer\",\"orientation\":\"v\",\"showlegend\":true,\"type\":\"histogram\",\"x\":[\"programmer\"],\"xaxis\":\"x\",\"y\":[30.263157894736842],\"yaxis\":\"y\"},{\"alignmentgroup\":\"True\",\"bingroup\":\"x\",\"histfunc\":\"sum\",\"hovertemplate\":\"occupation=%{x}<br>publish_year=2009<br>sum of occurance_percentage=%{y}<extra></extra>\",\"legendgroup\":\"science\",\"marker\":{\"color\":\"#FFA15A\",\"pattern\":{\"shape\":\"\"}},\"name\":\"science\",\"offsetgroup\":\"science\",\"orientation\":\"v\",\"showlegend\":true,\"type\":\"histogram\",\"x\":[\"science\"],\"xaxis\":\"x\",\"y\":[10.526315789473685],\"yaxis\":\"y\"},{\"alignmentgroup\":\"True\",\"bingroup\":\"x\",\"histfunc\":\"sum\",\"hovertemplate\":\"occupation=%{x}<br>publish_year=2009<br>sum of occurance_percentage=%{y}<extra></extra>\",\"legendgroup\":\"crypto\",\"marker\":{\"color\":\"#FF6692\",\"pattern\":{\"shape\":\"\"}},\"name\":\"crypto\",\"offsetgroup\":\"crypto\",\"orientation\":\"v\",\"showlegend\":true,\"type\":\"histogram\",\"x\":[\"crypto\"],\"xaxis\":\"x\",\"y\":[17.105263157894736],\"yaxis\":\"y\"}],\"name\":\"2009\"},{\"data\":[{\"alignmentgroup\":\"True\",\"bingroup\":\"x\",\"histfunc\":\"sum\",\"hovertemplate\":\"occupation=%{x}<br>publish_year=2008<br>sum of occurance_percentage=%{y}<extra></extra>\",\"legendgroup\":\"business\",\"marker\":{\"color\":\"#636efa\",\"pattern\":{\"shape\":\"\"}},\"name\":\"business\",\"offsetgroup\":\"business\",\"orientation\":\"v\",\"showlegend\":true,\"type\":\"histogram\",\"x\":[\"business\"],\"xaxis\":\"x\",\"y\":[7.142857142857143],\"yaxis\":\"y\"},{\"alignmentgroup\":\"True\",\"bingroup\":\"x\",\"histfunc\":\"sum\",\"hovertemplate\":\"occupation=%{x}<br>publish_year=2008<br>sum of occurance_percentage=%{y}<extra></extra>\",\"legendgroup\":\"politician\",\"marker\":{\"color\":\"#00cc96\",\"pattern\":{\"shape\":\"\"}},\"name\":\"politician\",\"offsetgroup\":\"politician\",\"orientation\":\"v\",\"showlegend\":true,\"type\":\"histogram\",\"x\":[\"politician\"],\"xaxis\":\"x\",\"y\":[39.285714285714285],\"yaxis\":\"y\"},{\"alignmentgroup\":\"True\",\"bingroup\":\"x\",\"histfunc\":\"sum\",\"hovertemplate\":\"occupation=%{x}<br>publish_year=2008<br>sum of occurance_percentage=%{y}<extra></extra>\",\"legendgroup\":\"programmer\",\"marker\":{\"color\":\"#ab63fa\",\"pattern\":{\"shape\":\"\"}},\"name\":\"programmer\",\"offsetgroup\":\"programmer\",\"orientation\":\"v\",\"showlegend\":true,\"type\":\"histogram\",\"x\":[\"programmer\"],\"xaxis\":\"x\",\"y\":[21.428571428571427],\"yaxis\":\"y\"},{\"alignmentgroup\":\"True\",\"bingroup\":\"x\",\"histfunc\":\"sum\",\"hovertemplate\":\"occupation=%{x}<br>publish_year=2008<br>sum of occurance_percentage=%{y}<extra></extra>\",\"legendgroup\":\"crypto\",\"marker\":{\"color\":\"#FF6692\",\"pattern\":{\"shape\":\"\"}},\"name\":\"crypto\",\"offsetgroup\":\"crypto\",\"orientation\":\"v\",\"showlegend\":true,\"type\":\"histogram\",\"x\":[\"crypto\"],\"xaxis\":\"x\",\"y\":[32.142857142857146],\"yaxis\":\"y\"}],\"name\":\"2008\"}]);\n",
       "                        }).then(function(){\n",
       "                            \n",
       "var gd = document.getElementById('1ab3a3a1-3936-477a-9a64-7dbc1942df3f');\n",
       "var x = new MutationObserver(function (mutations, observer) {{\n",
       "        var display = window.getComputedStyle(gd).display;\n",
       "        if (!display || display === 'none') {{\n",
       "            console.log([gd, 'removed!']);\n",
       "            Plotly.purge(gd);\n",
       "            observer.disconnect();\n",
       "        }}\n",
       "}});\n",
       "\n",
       "// Listen for the removal of the full notebook cells\n",
       "var notebookContainer = gd.closest('#notebook-container');\n",
       "if (notebookContainer) {{\n",
       "    x.observe(notebookContainer, {childList: true});\n",
       "}}\n",
       "\n",
       "// Listen for the clearing of the current output cell\n",
       "var outputEl = gd.closest('.output');\n",
       "if (outputEl) {{\n",
       "    x.observe(outputEl, {childList: true});\n",
       "}}\n",
       "\n",
       "                        })                };                });            </script>        </div>"
      ]
     },
     "metadata": {},
     "output_type": "display_data"
    }
   ],
   "source": [
    "import plotly.express as px\n",
    "\n",
    "df_grouped = df.groupby(['publish_year', 'occupation'], as_index=False).sum()\n",
    "df_grouped_top = (df_grouped\n",
    "                  .sort_values(['publish_year','o'], ascending=False)\n",
    "                  .groupby(['publish_year'], as_index=False)\n",
    "                  .head(6))\n",
    "\n",
    "year2total = df_grouped_top.groupby(\"publish_year\").sum().to_dict()[\"o\"]\n",
    "\n",
    "\n",
    "df_grouped_top[\"occurance_percentage\"] = df_grouped_top.apply(lambda x: 100 * x[\"o\"] / year2total[x[\"publish_year\"]], axis=1)\n",
    "\n",
    "\n",
    "fig = px.histogram(df_grouped_top, \n",
    "                   x=\"occupation\",\n",
    "                   y=\"occurance_percentage\", \n",
    "                   animation_frame=\"publish_year\",\n",
    "                   color=\"occupation\",\n",
    "                   hover_name=\"publish_year\")\n",
    "\n",
    "fig[\"layout\"].pop(\"updatemenus\") # optional, drop animation buttons\n",
    "\n",
    "fig.update_xaxes(fixedrange=False)\n",
    "fig.update_xaxes(autorange=True)\n",
    "fig.update_xaxes(categoryorder='total descending')\n",
    "fig.update_yaxes(range=[0, 100])\n",
    "\n",
    "fig.show()"
   ]
  },
  {
   "cell_type": "code",
   "execution_count": null,
   "id": "0fdbdaad",
   "metadata": {},
   "outputs": [],
   "source": []
  }
 ],
 "metadata": {
  "kernelspec": {
   "display_name": "Python 3 (ipykernel)",
   "language": "python",
   "name": "python3"
  },
  "language_info": {
   "codemirror_mode": {
    "name": "ipython",
    "version": 3
   },
   "file_extension": ".py",
   "mimetype": "text/x-python",
   "name": "python",
   "nbconvert_exporter": "python",
   "pygments_lexer": "ipython3",
   "version": "3.8.12"
  }
 },
 "nbformat": 4,
 "nbformat_minor": 5
}
