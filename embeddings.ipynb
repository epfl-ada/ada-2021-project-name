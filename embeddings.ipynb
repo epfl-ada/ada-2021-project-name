{
 "cells": [
  {
   "cell_type": "code",
   "execution_count": 1,
   "id": "3240fa6b",
   "metadata": {},
   "outputs": [
    {
     "name": "stderr",
     "output_type": "stream",
     "text": [
      "/Users/maximzubkov/.pyenv/versions/3.7.3/envs/shad_env/lib/python3.7/site-packages/transformers/configuration_utils.py:337: UserWarning: Passing `gradient_checkpointing` to a config initialization is deprecated and will be removed in v5 Transformers. Using `model.gradient_checkpointing_enable()` instead, or if you are using the `Trainer` API, pass `gradient_checkpointing=True` in your `TrainingArguments`.\n",
      "  \"Passing `gradient_checkpointing` to a config initialization is deprecated and will be removed in v5 \"\n"
     ]
    }
   ],
   "source": [
    "from sentence_transformers import SentenceTransformer\n",
    "model = SentenceTransformer('all-MiniLM-L6-v2')"
   ]
  },
  {
   "cell_type": "code",
   "execution_count": 2,
   "id": "f1584d43",
   "metadata": {},
   "outputs": [],
   "source": [
    "import pandas as pd\n",
    "\n",
    "data = pd.read_csv(\"data/preprocessed.csv\")"
   ]
  },
  {
   "cell_type": "code",
   "execution_count": 3,
   "id": "20161616",
   "metadata": {},
   "outputs": [],
   "source": [
    "embeds = []"
   ]
  },
  {
   "cell_type": "code",
   "execution_count": 4,
   "id": "472799f3",
   "metadata": {},
   "outputs": [
    {
     "name": "stderr",
     "output_type": "stream",
     "text": [
      "  0%|                                                                                                                                                                               | 0/123 [00:00<?, ?it/s]/Users/maximzubkov/.pyenv/versions/3.7.3/envs/shad_env/lib/python3.7/site-packages/transformers/tokenization_utils_base.py:2227: UserWarning: `max_length` is ignored when `padding`=`True`.\n",
      "  warnings.warn(\"`max_length` is ignored when `padding`=`True`.\")\n",
      "100%|█████████████████████████████████████████████████████████████████████████████████████████████████████████████████████████████████████████████████████████████████████| 123/123 [02:54<00:00,  1.42s/it]\n"
     ]
    }
   ],
   "source": [
    "from tqdm import tqdm\n",
    "\n",
    "quotes = data.q.values\n",
    "n_quoted = len(quotes)\n",
    "\n",
    "for i in tqdm(range(0, n_quoted, 64)):\n",
    "    batch = quotes[i : min(i + 64, n_quoted)]\n",
    "    embeds.append(model.encode(batch))"
   ]
  },
  {
   "cell_type": "code",
   "execution_count": 5,
   "id": "a2232c25",
   "metadata": {},
   "outputs": [],
   "source": [
    "import numpy as np\n",
    "import pickle\n",
    "\n",
    "with open(\"data/embeds.pkl\", \"wb\") as f:\n",
    "    pickle.dump(np.concatenate(embeds), f)"
   ]
  },
  {
   "cell_type": "code",
   "execution_count": null,
   "id": "920ac7ee",
   "metadata": {},
   "outputs": [],
   "source": []
  }
 ],
 "metadata": {
  "kernelspec": {
   "display_name": "Python 3 (ipykernel)",
   "language": "python",
   "name": "python3"
  },
  "language_info": {
   "codemirror_mode": {
    "name": "ipython",
    "version": 3
   },
   "file_extension": ".py",
   "mimetype": "text/x-python",
   "name": "python",
   "nbconvert_exporter": "python",
   "pygments_lexer": "ipython3",
   "version": "3.7.3"
  }
 },
 "nbformat": 4,
 "nbformat_minor": 5
}
