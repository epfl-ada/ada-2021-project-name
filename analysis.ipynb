{
 "cells": [
  {
   "cell_type": "code",
   "execution_count": 1,
   "id": "b188179e",
   "metadata": {},
   "outputs": [
    {
     "name": "stdout",
     "output_type": "stream",
     "text": [
      "Number of countries: 180\n",
      "Number of occupations: 1249\n"
     ]
    }
   ],
   "source": [
    "import numpy as np\n",
    "import pandas as pd\n",
    "import matplotlib.pyplot as plt\n",
    "from collections import defaultdict, Counter\n",
    "from copy import deepcopy\n",
    "\n",
    "from scripts.utils import drop_similar, update_occupations, filter_rare_occupations, filter_outlier_wikidata\n",
    "\n",
    "from fuzzywuzzy import fuzz\n",
    "\n",
    "\n",
    "from os.path import join\n",
    "import json\n",
    "\n",
    "DATA_PATH = 'data'\n",
    "\n",
    "with open(join(DATA_PATH, 'countries_vocab.json'), 'r', encoding=\"utf-8\") as f:\n",
    "    countries_dict = {k: str(v.lower().strip()) for k, v in json.loads(f.readline()).items()}\n",
    "    coun_num = len(set(countries_dict.values()))\n",
    "    print(f\"Number of countries: {coun_num}\")\n",
    "    \n",
    "with open(join(DATA_PATH, 'occupations_vocab.json'), 'r', encoding=\"utf-8\") as f:\n",
    "    occupations_dict = {k: str(v.lower().strip()) for k, v in json.loads(f.readline()).items()}\n",
    "    occ_num = len(set(occupations_dict.values()))\n",
    "    print(f\"Number of occupations: {occ_num}\")\n",
    "df = pd.read_json(join(DATA_PATH, 'union.json'), lines=True)\n",
    "df[\"s\"] = df[\"s\"].apply(lambda x: x.lower())\n",
    "del df[\"id\"]"
   ]
  },
  {
   "cell_type": "markdown",
   "id": "35410858",
   "metadata": {},
   "source": [
    "> First of all we will drop the persons, which was not found in Wikidata. This persons should have a special attention, especially those, who have a big number of quotations. However for them we will need to manually join the information about a certain person, since their QID was not found in the current version Wikidata."
   ]
  },
  {
   "cell_type": "code",
   "execution_count": 2,
   "id": "f63aafde",
   "metadata": {},
   "outputs": [],
   "source": [
    "df = df[~df.apply(lambda x: not(x[\"gender\"] or x[\"birth\"] or x[\"occupation_ids\"] or x[\"citizenship_id\"]), axis=1)]"
   ]
  },
  {
   "cell_type": "markdown",
   "id": "add862d2",
   "metadata": {},
   "source": [
    "> Next we will get rid of quotes, which are not related to `bitcoin` and `crypto`. For instance quates, containing subphrases like: `little bit`, `bitching`"
   ]
  },
  {
   "cell_type": "code",
   "execution_count": 3,
   "id": "81d31bd4",
   "metadata": {},
   "outputs": [],
   "source": [
    " df = df[df[\"q\"].apply(lambda x: \n",
    "                       (\" a bit \" not in x) and \n",
    "                       (\" little bit \" not in x) and \n",
    "                       (\" every bit confident \" not in x) and \n",
    "                       (\"bitching\" not in x)\n",
    "                      )\n",
    "        ]"
   ]
  },
  {
   "cell_type": "markdown",
   "id": "12789175",
   "metadata": {},
   "source": [
    "> Lets then preprocess the list of occupations we have. As can be observerd, there are multiple occupations containing similar words: e.g. `music teacher`, `biology teacher`, `school teacher`"
   ]
  },
  {
   "cell_type": "code",
   "execution_count": 4,
   "id": "bb4e1920",
   "metadata": {},
   "outputs": [
    {
     "data": {
      "text/plain": [
       "[('player', 50),\n",
       " ('artist', 38),\n",
       " ('designer', 22),\n",
       " ('manager', 22),\n",
       " ('coach', 22),\n",
       " ('director', 21),\n",
       " ('of', 18),\n",
       " ('engineer', 17),\n",
       " ('game', 15),\n",
       " ('video', 14),\n",
       " ('writer', 14),\n",
       " ('scientist', 13),\n",
       " ('officer', 13),\n",
       " ('actor', 13),\n",
       " ('historian', 13)]"
      ]
     },
     "execution_count": 4,
     "metadata": {},
     "output_type": "execute_result"
    }
   ],
   "source": [
    "from collections import Counter\n",
    "\n",
    "occupations = [word.split() for word in occupations_dict.values()]\n",
    "Counter(sum(occupations, [])).most_common()[:15]"
   ]
  },
  {
   "cell_type": "markdown",
   "id": "1577df32",
   "metadata": {},
   "source": [
    "> We will join all the profession containing `artist`, `player`, `video game`. Moreover we will replace `chief executive officer` with `executive director` to distingfish them from `police officer`"
   ]
  },
  {
   "cell_type": "code",
   "execution_count": 5,
   "id": "f8e98190",
   "metadata": {},
   "outputs": [],
   "source": [
    "occupations_dict = update_occupations(occupations_dict)"
   ]
  },
  {
   "cell_type": "code",
   "execution_count": 6,
   "id": "681d100b",
   "metadata": {},
   "outputs": [
    {
     "data": {
      "text/plain": [
       "[('sport', 196),\n",
       " ('artist', 40),\n",
       " ('manager', 20),\n",
       " ('designer', 18),\n",
       " ('director', 17),\n",
       " ('engineer', 17),\n",
       " ('of', 17),\n",
       " ('video-game', 16),\n",
       " ('actor', 15),\n",
       " ('scientist', 13),\n",
       " ('writer', 13),\n",
       " ('historian', 13),\n",
       " ('activist', 12),\n",
       " ('political', 12),\n",
       " ('music', 11),\n",
       " ('critic', 10),\n",
       " ('art', 9),\n",
       " ('officer', 9),\n",
       " ('teacher', 9),\n",
       " ('journalist', 9)]"
      ]
     },
     "execution_count": 6,
     "metadata": {},
     "output_type": "execute_result"
    }
   ],
   "source": [
    "occupations = [word.split() for word in occupations_dict.values()]\n",
    "Counter(sum(occupations, [])).most_common()[:20]"
   ]
  },
  {
   "cell_type": "code",
   "execution_count": 7,
   "id": "313b1333",
   "metadata": {},
   "outputs": [
    {
     "data": {
      "text/html": [
       "<div>\n",
       "<style scoped>\n",
       "    .dataframe tbody tr th:only-of-type {\n",
       "        vertical-align: middle;\n",
       "    }\n",
       "\n",
       "    .dataframe tbody tr th {\n",
       "        vertical-align: top;\n",
       "    }\n",
       "\n",
       "    .dataframe thead th {\n",
       "        text-align: right;\n",
       "    }\n",
       "</style>\n",
       "<table border=\"1\" class=\"dataframe\">\n",
       "  <thead>\n",
       "    <tr style=\"text-align: right;\">\n",
       "      <th></th>\n",
       "      <th>q</th>\n",
       "      <th>d</th>\n",
       "      <th>s</th>\n",
       "      <th>o</th>\n",
       "      <th>gender</th>\n",
       "      <th>birth</th>\n",
       "      <th>occupation_ids</th>\n",
       "      <th>citizenship_id</th>\n",
       "    </tr>\n",
       "  </thead>\n",
       "  <tbody>\n",
       "    <tr>\n",
       "      <th>0</th>\n",
       "      <td>will be playing a lot of the tracks from micro...</td>\n",
       "      <td>2008-12-02 17:59:33</td>\n",
       "      <td>lockett pundt</td>\n",
       "      <td>1</td>\n",
       "      <td>[male]</td>\n",
       "      <td>[+1982-10-07T00:00:00Z]</td>\n",
       "      <td>[[Q855091]]</td>\n",
       "      <td>[Q30]</td>\n",
       "    </tr>\n",
       "    <tr>\n",
       "      <th>7</th>\n",
       "      <td>i saw steppenwolf do the cryptogram ive seen w...</td>\n",
       "      <td>2008-10-24 20:45:16</td>\n",
       "      <td>raúl esparza</td>\n",
       "      <td>1</td>\n",
       "      <td>[male]</td>\n",
       "      <td>[+1970-10-24T00:00:00Z]</td>\n",
       "      <td>[[Q177220, Q2259451, Q10800557, Q10798782, Q33...</td>\n",
       "      <td>[Q30]</td>\n",
       "    </tr>\n",
       "    <tr>\n",
       "      <th>8</th>\n",
       "      <td>while we need to identify and prohibit conduct...</td>\n",
       "      <td>2008-09-08 15:59:54</td>\n",
       "      <td>thomas barnett</td>\n",
       "      <td>1</td>\n",
       "      <td>[male, male, male]</td>\n",
       "      <td>[+1962-01-01T00:00:00Z, +1799-01-01T00:00:00Z,...</td>\n",
       "      <td>[[Q16947320, Q1238570, Q36180, Q8246794], None...</td>\n",
       "      <td>[Q30, None, Q30]</td>\n",
       "    </tr>\n",
       "    <tr>\n",
       "      <th>9</th>\n",
       "      <td>this is the third time in as many years that p...</td>\n",
       "      <td>2008-09-02 08:19:53</td>\n",
       "      <td>albert owen</td>\n",
       "      <td>2</td>\n",
       "      <td>[male]</td>\n",
       "      <td>[+1959-08-10T00:00:00Z]</td>\n",
       "      <td>[[Q82955]]</td>\n",
       "      <td>[Q145]</td>\n",
       "    </tr>\n",
       "    <tr>\n",
       "      <th>13</th>\n",
       "      <td>this can impact on the quality of the water we...</td>\n",
       "      <td>2008-11-24 18:32:36</td>\n",
       "      <td>peter perry</td>\n",
       "      <td>2</td>\n",
       "      <td>[male]</td>\n",
       "      <td>[+1936-04-11T00:00:00Z]</td>\n",
       "      <td>[[Q937857]]</td>\n",
       "      <td>[Q145]</td>\n",
       "    </tr>\n",
       "  </tbody>\n",
       "</table>\n",
       "</div>"
      ],
      "text/plain": [
       "                                                    q                    d  \\\n",
       "0   will be playing a lot of the tracks from micro...  2008-12-02 17:59:33   \n",
       "7   i saw steppenwolf do the cryptogram ive seen w...  2008-10-24 20:45:16   \n",
       "8   while we need to identify and prohibit conduct...  2008-09-08 15:59:54   \n",
       "9   this is the third time in as many years that p...  2008-09-02 08:19:53   \n",
       "13  this can impact on the quality of the water we...  2008-11-24 18:32:36   \n",
       "\n",
       "                 s  o              gender  \\\n",
       "0    lockett pundt  1              [male]   \n",
       "7     raúl esparza  1              [male]   \n",
       "8   thomas barnett  1  [male, male, male]   \n",
       "9      albert owen  2              [male]   \n",
       "13     peter perry  2              [male]   \n",
       "\n",
       "                                                birth  \\\n",
       "0                             [+1982-10-07T00:00:00Z]   \n",
       "7                             [+1970-10-24T00:00:00Z]   \n",
       "8   [+1962-01-01T00:00:00Z, +1799-01-01T00:00:00Z,...   \n",
       "9                             [+1959-08-10T00:00:00Z]   \n",
       "13                            [+1936-04-11T00:00:00Z]   \n",
       "\n",
       "                                       occupation_ids    citizenship_id  \n",
       "0                                         [[Q855091]]             [Q30]  \n",
       "7   [[Q177220, Q2259451, Q10800557, Q10798782, Q33...             [Q30]  \n",
       "8   [[Q16947320, Q1238570, Q36180, Q8246794], None...  [Q30, None, Q30]  \n",
       "9                                          [[Q82955]]            [Q145]  \n",
       "13                                        [[Q937857]]            [Q145]  "
      ]
     },
     "execution_count": 7,
     "metadata": {},
     "output_type": "execute_result"
    }
   ],
   "source": [
    "df.head()"
   ]
  },
  {
   "cell_type": "markdown",
   "id": "cf8919c6-7496-4643-a681-ab39077c2cae",
   "metadata": {},
   "source": [
    ">Columns:  \n",
    "q = \"quote\"  \n",
    "d = \"date\"  \n",
    "s = \"speaker\"  \n",
    "o = \"occurancies\"  \n",
    "gender = gender of the speakers  \n",
    "birth = birth dates of the speakers  \n",
    "occupation_ids = wikidata ids of the speakers' occupancies  \n",
    "citizenship_id = wikidata ids of the speakers' citizenship\n"
   ]
  },
  {
   "cell_type": "markdown",
   "id": "30e2fff4",
   "metadata": {},
   "source": [
    "> Then we filter occupations, which occured only single time in the entire dataset, for instance, `ufc lightweight fighter`."
   ]
  },
  {
   "cell_type": "code",
   "execution_count": 8,
   "id": "00d3e2f4",
   "metadata": {},
   "outputs": [],
   "source": [
    "occ_freq = defaultdict(int)\n",
    "for occ_ids in df[\"occupation_ids\"].values:\n",
    "    if occ_ids is not None:\n",
    "        for occs in occ_ids:\n",
    "            if occs is not None:\n",
    "                for o in occs:\n",
    "                    occ_freq[o] += 1\n",
    "                \n",
    "df = df.apply(lambda x: filter_rare_occupations(x, occ_freq), axis=1)"
   ]
  },
  {
   "cell_type": "code",
   "execution_count": 9,
   "id": "0c1f6955",
   "metadata": {},
   "outputs": [
    {
     "name": "stdout",
     "output_type": "stream",
     "text": [
      "Reduced number of occupations: 891\n"
     ]
    }
   ],
   "source": [
    "occ_set = set()\n",
    "for occ_lsts in df[\"occupation_ids\"].values:\n",
    "    if occ_lsts is not None:\n",
    "        for lst in occ_lsts:\n",
    "            if lst is not None:\n",
    "                occ_set.update(lst)\n",
    "print(f\"Reduced number of occupations: {len(occ_set)}\")"
   ]
  },
  {
   "cell_type": "markdown",
   "id": "8d28daed",
   "metadata": {},
   "source": [
    "> Next we will fiter Wikidata pages without `occupation` or `citizenship`. Also we will filter `genders` and `citizenship`, which does not match the `gender` and `citizenship` of majority"
   ]
  },
  {
   "cell_type": "code",
   "execution_count": 10,
   "id": "cbeb4bf1",
   "metadata": {},
   "outputs": [
    {
     "name": "stdout",
     "output_type": "stream",
     "text": [
      "Percent of quotations in dataset, where more then one QID is joined 0.17980425173647654\n"
     ]
    }
   ],
   "source": [
    "df = df.apply(lambda x: filter_outlier_wikidata(x), axis=1)\n",
    "df = df[~df.apply(lambda x: not(x[\"gender\"] or x[\"birth\"] or x[\"occupation_ids\"] or x[\"citizenship_id\"]), axis=1)]\n",
    "percent = (df[\"citizenship_id\"].apply(len) > 1).sum() / len(df)\n",
    "\n",
    "print(f\"Percent of quotations in dataset, where more then one QID is joined {percent}\")  \n",
    "\n",
    "df[\"gender\"] = df[\"gender\"].apply(lambda x: x[0])\n",
    "df[\"citizenship_id\"] = df[\"citizenship_id\"].apply(lambda x: x[0])"
   ]
  },
  {
   "cell_type": "markdown",
   "id": "20dc0ac6",
   "metadata": {},
   "source": [
    "> Next we will split the dates"
   ]
  },
  {
   "cell_type": "code",
   "execution_count": 11,
   "id": "3fe698a0",
   "metadata": {},
   "outputs": [],
   "source": [
    "df['publish_year'] = df['d'].apply(lambda x: x[:4])\n",
    "df['publish_month'] = df['d'].apply(lambda x: x[5:7])"
   ]
  },
  {
   "cell_type": "markdown",
   "id": "f78c4cfe",
   "metadata": {},
   "source": [
    "> The first plot we build to validate if everything is correct is `number of occurancies` w.r.t. `publish year` "
   ]
  },
  {
   "cell_type": "code",
   "execution_count": 12,
   "id": "6ec028cf",
   "metadata": {},
   "outputs": [
    {
     "data": {
      "image/png": "[encoded data removed]",
      "text/plain": [
       "<Figure size 720x576 with 1 Axes>"
      ]
     },
     "metadata": {
      "needs_background": "light"
     },
     "output_type": "display_data"
    }
   ],
   "source": [
    "plt.figure(figsize=(10,8))\n",
    "plt.plot(df.groupby('publish_year')['o'].count())\n",
    "plt.xlabel(\"Year\")\n",
    "plt.ylabel(\"Occurances of a bitcoin-related quotes\")\n",
    "plt.grid()\n",
    "plt.show()"
   ]
  },
  {
   "cell_type": "markdown",
   "id": "ef206bd9",
   "metadata": {},
   "source": [
    "> Seems like everything is okey, since the two main increases in popularity of bitcoin was indeed in `2014` and `2017`, according to the `Google trends`"
   ]
  },
  {
   "cell_type": "markdown",
   "id": "38ab8b24",
   "metadata": {},
   "source": [
    "> The most cited pearsons also seems reasonable"
   ]
  },
  {
   "cell_type": "code",
   "execution_count": 13,
   "id": "47efaadc",
   "metadata": {},
   "outputs": [
    {
     "data": {
      "text/plain": [
       "s\n",
       "jamie dimon             665\n",
       "mark karpeles           626\n",
       "thomas peterffy         589\n",
       "craig wright            586\n",
       "adrian lee              585\n",
       "leah mcgrath goodman    504\n",
       "charlie sheen           446\n",
       "bobby lee               444\n",
       "gavin andresen          437\n",
       "roger ver               401\n",
       "Name: o, dtype: int64"
      ]
     },
     "execution_count": 13,
     "metadata": {},
     "output_type": "execute_result"
    }
   ],
   "source": [
    "df.groupby(['s']).sum()['o'].sort_values(ascending=False).head(10)"
   ]
  },
  {
   "cell_type": "markdown",
   "id": "1eba92e2",
   "metadata": {},
   "source": [
    "> Then we will reduce the number of occupations, since most of them are very simmilar. We will utilize `fuzzywuzzy` to find similar words. Then we will build a graph, where the vertices are the `occupations`, and adge between $o_i$ and $o_j$ exists if the similarity in terms of `fuzzywuzzy` metric is greater then a treshold."
   ]
  },
  {
   "cell_type": "code",
   "execution_count": 14,
   "id": "f46facb0",
   "metadata": {},
   "outputs": [],
   "source": [
    "import networkx\n",
    "from networkx.algorithms.components.connected import connected_components\n",
    "from fuzzywuzzy import fuzz\n",
    "from collections import defaultdict, Counter"
   ]
  },
  {
   "cell_type": "code",
   "execution_count": 15,
   "id": "ea4c1c42",
   "metadata": {},
   "outputs": [],
   "source": [
    "def to_graph(cliques):\n",
    "    G = networkx.Graph()\n",
    "    for cli in cliques:\n",
    "        G.add_nodes_from(cli)\n",
    "        G.add_edges_from(to_edges(cli))\n",
    "    return G\n",
    "\n",
    "def to_edges(l):\n",
    "    it = iter(l)\n",
    "    last = next(it)\n",
    "\n",
    "    for current in it:\n",
    "        yield last, current\n",
    "        last = current"
   ]
  },
  {
   "cell_type": "code",
   "execution_count": 16,
   "id": "577415a9",
   "metadata": {},
   "outputs": [],
   "source": [
    "occupations_dict = drop_similar(occupations_dict)"
   ]
  },
  {
   "cell_type": "code",
   "execution_count": 17,
   "id": "cb75c050",
   "metadata": {},
   "outputs": [
    {
     "data": {
      "text/plain": [
       "606"
      ]
     },
     "execution_count": 17,
     "metadata": {},
     "output_type": "execute_result"
    }
   ],
   "source": [
    "len(set(occupations_dict.values()))"
   ]
  },
  {
   "cell_type": "code",
   "execution_count": 18,
   "id": "565c52cf",
   "metadata": {},
   "outputs": [],
   "source": [
    "ids = set(sum([e for e in df[\"occupation_ids\"].values.sum() if e is not None], []))\n",
    "for i in ids:\n",
    "    if i not in occupations_dict:\n",
    "        del occupations_dict[i]"
   ]
  },
  {
   "cell_type": "code",
   "execution_count": 19,
   "id": "bf6ee78b",
   "metadata": {},
   "outputs": [],
   "source": [
    "names1 = (df.groupby(\"s\").sum() > 10).reset_index()\n",
    "names1 = names1.loc[names1[\"o\"], \"s\"]\n",
    "names1 = set(names1.values)\n",
    "names2 = (df.groupby(\"s\").count() > 3).reset_index()\n",
    "names2 = names2.loc[names2[\"o\"], \"s\"]\n",
    "names2 = set(names2.values)"
   ]
  },
  {
   "cell_type": "code",
   "execution_count": 20,
   "id": "45ff355a",
   "metadata": {},
   "outputs": [],
   "source": [
    "names = names2.intersection(names1)"
   ]
  },
  {
   "cell_type": "code",
   "execution_count": 21,
   "id": "44a37033",
   "metadata": {},
   "outputs": [],
   "source": [
    "df = df[df[\"s\"].apply(lambda x: x in names)]"
   ]
  },
  {
   "cell_type": "code",
   "execution_count": 22,
   "id": "8ec97878",
   "metadata": {},
   "outputs": [],
   "source": [
    "single = df.loc[df[\"occupation_ids\"].apply(lambda x: len(x)) > 1]"
   ]
  },
  {
   "cell_type": "code",
   "execution_count": 23,
   "id": "29973685",
   "metadata": {},
   "outputs": [],
   "source": [
    "def select_occupation(x):\n",
    "    output = []\n",
    "    for elem in x:\n",
    "        if elem is not None:\n",
    "            output += list(set(occupations_dict[e] for e in elem))\n",
    "    output = list(set(output))\n",
    "    if not output:\n",
    "        return None\n",
    "    else:\n",
    "        if (output[0] == \"sport\") or (output[0] == \"writer\"):\n",
    "            if len(output) > 1:\n",
    "                return output[1]\n",
    "            else:\n",
    "                return output[0]\n",
    "        else:\n",
    "            return output[0]"
   ]
  },
  {
   "cell_type": "code",
   "execution_count": 24,
   "id": "54fc77c2",
   "metadata": {},
   "outputs": [],
   "source": [
    "df = df[df[\"birth\"].apply(lambda x: len(x) < 2)]\n",
    "df[\"occupation\"] = df[\"occupation_ids\"].apply(lambda x: select_occupation(x))"
   ]
  },
  {
   "cell_type": "code",
   "execution_count": 25,
   "id": "58c7135b",
   "metadata": {},
   "outputs": [],
   "source": [
    "df_grouped = df.groupby(['publish_year', 'occupation'], as_index=False).sum()\n",
    "df_grouped_top = df_grouped.sort_values(['publish_year','o'],ascending=False).groupby(['publish_year'], as_index=False).head(5)"
   ]
  },
  {
   "cell_type": "code",
   "execution_count": 26,
   "id": "8962635b",
   "metadata": {},
   "outputs": [
    {
     "data": {
      "image/png": "[encoded data removed]",
      "text/plain": [
       "<Figure size 2880x1080 with 10 Axes>"
      ]
     },
     "metadata": {
      "needs_background": "light"
     },
     "output_type": "display_data"
    }
   ],
   "source": [
    "from matplotlib import colors as mcolors\n",
    "\n",
    "group_colors = {}\n",
    "colors = dict(mcolors.BASE_COLORS, **mcolors.CSS4_COLORS)\n",
    "colors = list(colors.values())\n",
    "unique_top_occupation_groups = [elem[0] for elem in Counter(df_grouped_top.occupation).most_common()]\n",
    "for i, group_number in enumerate(unique_top_occupation_groups):\n",
    "    group_colors[group_number] = colors[i + 40]\n",
    "\n",
    "fig, axs = plt.subplots(2, 5, figsize=(40, 15))\n",
    "step = [0, 1, 2, 3, 4]\n",
    "\n",
    "years = np.unique(df_grouped_top.publish_year)\n",
    "for i, year in enumerate(years):\n",
    "    year_df = df_grouped_top[df_grouped_top.publish_year == year]\n",
    "    year_occupations = np.unique(year_df.occupation)\n",
    "    \n",
    "    for group_n, group_ in enumerate(year_occupations):\n",
    "        temp_group = year_df[year_df.occupation == group_]\n",
    "        axs[i // 5][i % 5].bar(group_,\n",
    "                               temp_group.o.values[0], \n",
    "                               color=group_colors[group_], \n",
    "                               alpha=1, \n",
    "                               width=0.2,\n",
    "                               align='center')\n",
    "    axs[i // 5][i % 5].set_title(year, fontsize=20)\n",
    "    axs[i // 5][i % 5].set_ylim([0, 4000])\n",
    "    axs[i // 5][i % 5].grid()\n",
    "    axs[i // 5][i % 5].tick_params(axis='both', which='major', labelsize=16)\n",
    "plt.show()"
   ]
  },
  {
   "cell_type": "markdown",
   "id": "d4ff30c3",
   "metadata": {},
   "source": [
    "> It seems like the distribution over is a little varied. As we can see, people with sport `occupation` speak up about `bitcoin` and `blockchain` rather more frequent, then other people. It is an interesting observation, since most of the quotes seems to be relevant to `bitcoin`, `blockchain`, and other buzz-words"
   ]
  },
  {
   "cell_type": "code",
   "execution_count": null,
   "id": "89e46170",
   "metadata": {},
   "outputs": [],
   "source": []
  },
  {
   "cell_type": "code",
   "execution_count": null,
   "id": "30237f4f",
   "metadata": {},
   "outputs": [],
   "source": []
  }
 ],
 "metadata": {
  "kernelspec": {
   "display_name": "Python 3 (ipykernel)",
   "language": "python",
   "name": "python3"
  },
  "language_info": {
   "codemirror_mode": {
    "name": "ipython",
    "version": 3
   },
   "file_extension": ".py",
   "mimetype": "text/x-python",
   "name": "python",
   "nbconvert_exporter": "python",
   "pygments_lexer": "ipython3",
   "version": "3.7.3"
  }
 },
 "nbformat": 4,
 "nbformat_minor": 5
}
