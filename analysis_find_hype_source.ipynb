{
 "cells": [
  {
   "cell_type": "code",
   "execution_count": 4,
   "id": "b188179e",
   "metadata": {},
   "outputs": [
    {
     "name": "stdout",
     "output_type": "stream",
     "text": [
      "Number of countries: 180\n",
      "Number of occupations: 1249\n"
     ]
    }
   ],
   "source": [
    "import numpy as np\n",
    "import pandas as pd\n",
    "import matplotlib.pyplot as plt\n",
    "from collections import defaultdict, Counter\n",
    "from copy import deepcopy\n",
    "\n",
    "from scripts.utils import drop_similar, update_occupations, filter_rare_occupations, filter_outlier_wikidata\n",
    "\n",
    "from fuzzywuzzy import fuzz\n",
    "\n",
    "\n",
    "from os.path import join\n",
    "import json\n",
    "\n",
    "DATA_PATH = 'data'\n",
    "\n",
    "with open(join(DATA_PATH, 'countries_vocab.json'), 'r', encoding=\"utf-8\") as f:\n",
    "    countries_dict = {k: str(v.lower().strip()) for k, v in json.loads(f.readline()).items()}\n",
    "    coun_num = len(set(countries_dict.values()))\n",
    "    print(f\"Number of countries: {coun_num}\")\n",
    "    \n",
    "with open(join(DATA_PATH, 'occupations_vocab.json'), 'r', encoding=\"utf-8\") as f:\n",
    "    occupations_dict = {k: str(v.lower().strip()) for k, v in json.loads(f.readline()).items()}\n",
    "    occ_num = len(set(occupations_dict.values()))\n",
    "    print(f\"Number of occupations: {occ_num}\")\n",
    "df = pd.read_json(join(DATA_PATH, 'union.json'), lines=True)\n",
    "df[\"s\"] = df[\"s\"].apply(lambda x: x.lower())\n",
    "del df[\"id\"]"
   ]
  },
  {
   "cell_type": "markdown",
   "id": "35410858",
   "metadata": {},
   "source": [
    "> First of all we will drop the persons, which was not found in Wikidata. This persons should have a special attention, especially those, who have a big number of quotations. However for them we will need to manually join the information about a certain person, since their QID was not found in the current version Wikidata."
   ]
  },
  {
   "cell_type": "code",
   "execution_count": 5,
   "id": "f63aafde",
   "metadata": {},
   "outputs": [],
   "source": [
    "df = df[~df.apply(lambda x: not(x[\"gender\"] or x[\"birth\"] or x[\"occupation_ids\"] or x[\"citizenship_id\"]), axis=1)]"
   ]
  },
  {
   "cell_type": "markdown",
   "id": "add862d2",
   "metadata": {},
   "source": [
    "> Next we will get rid of quotes, which are not related to `bitcoin` and `crypto`. For instance quates, containing subphrases like: `little bit`, `bitching`"
   ]
  },
  {
   "cell_type": "code",
   "execution_count": 6,
   "id": "81d31bd4",
   "metadata": {},
   "outputs": [],
   "source": [
    " df = df[df[\"q\"].apply(lambda x: \n",
    "                       (\" a bit \" not in x) and \n",
    "                       (\" little bit \" not in x) and \n",
    "                       (\" every bit confident \" not in x) and \n",
    "                       (\"bitching\" not in x)\n",
    "                      )\n",
    "        ]"
   ]
  },
  {
   "cell_type": "markdown",
   "id": "12789175",
   "metadata": {},
   "source": [
    "> Lets then preprocess the list of occupations we have. As can be observerd, there are multiple occupations containing similar words: e.g. `music teacher`, `biology teacher`, `school teacher`"
   ]
  },
  {
   "cell_type": "code",
   "execution_count": 7,
   "id": "bb4e1920",
   "metadata": {},
   "outputs": [
    {
     "data": {
      "text/plain": [
       "[('player', 50),\n",
       " ('artist', 38),\n",
       " ('designer', 22),\n",
       " ('manager', 22),\n",
       " ('coach', 22),\n",
       " ('director', 21),\n",
       " ('of', 18),\n",
       " ('engineer', 17),\n",
       " ('game', 15),\n",
       " ('video', 14),\n",
       " ('writer', 14),\n",
       " ('scientist', 13),\n",
       " ('officer', 13),\n",
       " ('actor', 13),\n",
       " ('historian', 13)]"
      ]
     },
     "execution_count": 7,
     "metadata": {},
     "output_type": "execute_result"
    }
   ],
   "source": [
    "from collections import Counter\n",
    "\n",
    "occupations = [word.split() for word in occupations_dict.values()]\n",
    "Counter(sum(occupations, [])).most_common()[:15]"
   ]
  },
  {
   "cell_type": "markdown",
   "id": "1577df32",
   "metadata": {},
   "source": [
    "> We will join all the profession containing `artist`, `player`, `video game`. Moreover we will replace `chief executive officer` with `executive director` to distingfish them from `police officer`"
   ]
  },
  {
   "cell_type": "code",
   "execution_count": 8,
   "id": "f8e98190",
   "metadata": {},
   "outputs": [
    {
     "data": {
      "text/plain": [
       "[('sport', 196),\n",
       " ('artist', 40),\n",
       " ('manager', 20),\n",
       " ('designer', 18),\n",
       " ('director', 17),\n",
       " ('engineer', 17),\n",
       " ('of', 17),\n",
       " ('video-game', 16),\n",
       " ('actor', 15),\n",
       " ('scientist', 13),\n",
       " ('writer', 13),\n",
       " ('historian', 13),\n",
       " ('activist', 12),\n",
       " ('political', 12),\n",
       " ('music', 11),\n",
       " ('critic', 10),\n",
       " ('art', 9),\n",
       " ('officer', 9),\n",
       " ('teacher', 9),\n",
       " ('journalist', 9)]"
      ]
     },
     "execution_count": 8,
     "metadata": {},
     "output_type": "execute_result"
    }
   ],
   "source": [
    "occupations_dict = update_occupations(occupations_dict)\n",
    "occupations = [word.split() for word in occupations_dict.values()]\n",
    "Counter(sum(occupations, [])).most_common()[:20]"
   ]
  },
  {
   "cell_type": "code",
   "execution_count": 9,
   "id": "313b1333",
   "metadata": {},
   "outputs": [
    {
     "data": {
      "text/html": [
       "<div>\n",
       "<style scoped>\n",
       "    .dataframe tbody tr th:only-of-type {\n",
       "        vertical-align: middle;\n",
       "    }\n",
       "\n",
       "    .dataframe tbody tr th {\n",
       "        vertical-align: top;\n",
       "    }\n",
       "\n",
       "    .dataframe thead th {\n",
       "        text-align: right;\n",
       "    }\n",
       "</style>\n",
       "<table border=\"1\" class=\"dataframe\">\n",
       "  <thead>\n",
       "    <tr style=\"text-align: right;\">\n",
       "      <th></th>\n",
       "      <th>q</th>\n",
       "      <th>d</th>\n",
       "      <th>s</th>\n",
       "      <th>o</th>\n",
       "      <th>gender</th>\n",
       "      <th>birth</th>\n",
       "      <th>occupation_ids</th>\n",
       "      <th>citizenship_id</th>\n",
       "    </tr>\n",
       "  </thead>\n",
       "  <tbody>\n",
       "    <tr>\n",
       "      <th>0</th>\n",
       "      <td>will be playing a lot of the tracks from micro...</td>\n",
       "      <td>2008-12-02 17:59:33</td>\n",
       "      <td>lockett pundt</td>\n",
       "      <td>1</td>\n",
       "      <td>[male]</td>\n",
       "      <td>[+1982-10-07T00:00:00Z]</td>\n",
       "      <td>[[Q855091]]</td>\n",
       "      <td>[Q30]</td>\n",
       "    </tr>\n",
       "    <tr>\n",
       "      <th>7</th>\n",
       "      <td>i saw steppenwolf do the cryptogram ive seen w...</td>\n",
       "      <td>2008-10-24 20:45:16</td>\n",
       "      <td>raúl esparza</td>\n",
       "      <td>1</td>\n",
       "      <td>[male]</td>\n",
       "      <td>[+1970-10-24T00:00:00Z]</td>\n",
       "      <td>[[Q177220, Q2259451, Q10800557, Q10798782, Q33...</td>\n",
       "      <td>[Q30]</td>\n",
       "    </tr>\n",
       "    <tr>\n",
       "      <th>8</th>\n",
       "      <td>while we need to identify and prohibit conduct...</td>\n",
       "      <td>2008-09-08 15:59:54</td>\n",
       "      <td>thomas barnett</td>\n",
       "      <td>1</td>\n",
       "      <td>[male, male, male]</td>\n",
       "      <td>[+1962-01-01T00:00:00Z, +1799-01-01T00:00:00Z,...</td>\n",
       "      <td>[[Q16947320, Q1238570, Q36180, Q8246794], None...</td>\n",
       "      <td>[Q30, None, Q30]</td>\n",
       "    </tr>\n",
       "    <tr>\n",
       "      <th>9</th>\n",
       "      <td>this is the third time in as many years that p...</td>\n",
       "      <td>2008-09-02 08:19:53</td>\n",
       "      <td>albert owen</td>\n",
       "      <td>2</td>\n",
       "      <td>[male]</td>\n",
       "      <td>[+1959-08-10T00:00:00Z]</td>\n",
       "      <td>[[Q82955]]</td>\n",
       "      <td>[Q145]</td>\n",
       "    </tr>\n",
       "    <tr>\n",
       "      <th>13</th>\n",
       "      <td>this can impact on the quality of the water we...</td>\n",
       "      <td>2008-11-24 18:32:36</td>\n",
       "      <td>peter perry</td>\n",
       "      <td>2</td>\n",
       "      <td>[male]</td>\n",
       "      <td>[+1936-04-11T00:00:00Z]</td>\n",
       "      <td>[[Q937857]]</td>\n",
       "      <td>[Q145]</td>\n",
       "    </tr>\n",
       "  </tbody>\n",
       "</table>\n",
       "</div>"
      ],
      "text/plain": [
       "                                                    q                    d  \\\n",
       "0   will be playing a lot of the tracks from micro...  2008-12-02 17:59:33   \n",
       "7   i saw steppenwolf do the cryptogram ive seen w...  2008-10-24 20:45:16   \n",
       "8   while we need to identify and prohibit conduct...  2008-09-08 15:59:54   \n",
       "9   this is the third time in as many years that p...  2008-09-02 08:19:53   \n",
       "13  this can impact on the quality of the water we...  2008-11-24 18:32:36   \n",
       "\n",
       "                 s  o              gender  \\\n",
       "0    lockett pundt  1              [male]   \n",
       "7     raúl esparza  1              [male]   \n",
       "8   thomas barnett  1  [male, male, male]   \n",
       "9      albert owen  2              [male]   \n",
       "13     peter perry  2              [male]   \n",
       "\n",
       "                                                birth  \\\n",
       "0                             [+1982-10-07T00:00:00Z]   \n",
       "7                             [+1970-10-24T00:00:00Z]   \n",
       "8   [+1962-01-01T00:00:00Z, +1799-01-01T00:00:00Z,...   \n",
       "9                             [+1959-08-10T00:00:00Z]   \n",
       "13                            [+1936-04-11T00:00:00Z]   \n",
       "\n",
       "                                       occupation_ids    citizenship_id  \n",
       "0                                         [[Q855091]]             [Q30]  \n",
       "7   [[Q177220, Q2259451, Q10800557, Q10798782, Q33...             [Q30]  \n",
       "8   [[Q16947320, Q1238570, Q36180, Q8246794], None...  [Q30, None, Q30]  \n",
       "9                                          [[Q82955]]            [Q145]  \n",
       "13                                        [[Q937857]]            [Q145]  "
      ]
     },
     "execution_count": 9,
     "metadata": {},
     "output_type": "execute_result"
    }
   ],
   "source": [
    "df.head()"
   ]
  },
  {
   "cell_type": "markdown",
   "id": "cf8919c6-7496-4643-a681-ab39077c2cae",
   "metadata": {},
   "source": [
    ">Columns:  \n",
    "q = \"quote\"  \n",
    "d = \"date\"  \n",
    "s = \"speaker\"  \n",
    "o = \"occurancies\"  \n",
    "gender = gender of the speakers  \n",
    "birth = birth dates of the speakers  \n",
    "occupation_ids = wikidata ids of the speakers' occupancies  \n",
    "citizenship_id = wikidata ids of the speakers' citizenship\n"
   ]
  },
  {
   "cell_type": "markdown",
   "id": "30e2fff4",
   "metadata": {},
   "source": [
    "> Then we filter occupations, which occured only single time in the entire dataset, for instance, `ufc lightweight fighter`."
   ]
  },
  {
   "cell_type": "code",
   "execution_count": 10,
   "id": "00d3e2f4",
   "metadata": {},
   "outputs": [],
   "source": [
    "occ_freq = defaultdict(int)\n",
    "for occ_ids in df[\"occupation_ids\"].values:\n",
    "    if occ_ids is not None:\n",
    "        for occs in occ_ids:\n",
    "            if occs is not None:\n",
    "                for o in occs:\n",
    "                    occ_freq[o] += 1\n",
    "                \n",
    "df = df.apply(lambda x: filter_rare_occupations(x, occ_freq), axis=1)"
   ]
  },
  {
   "cell_type": "code",
   "execution_count": 11,
   "id": "0c1f6955",
   "metadata": {},
   "outputs": [
    {
     "name": "stdout",
     "output_type": "stream",
     "text": [
      "Reduced number of occupations: 891\n"
     ]
    }
   ],
   "source": [
    "occ_set = set()\n",
    "for occ_lsts in df[\"occupation_ids\"].values:\n",
    "    if occ_lsts is not None:\n",
    "        for lst in occ_lsts:\n",
    "            if lst is not None:\n",
    "                occ_set.update(lst)\n",
    "print(f\"Reduced number of occupations: {len(occ_set)}\")"
   ]
  },
  {
   "cell_type": "markdown",
   "id": "8d28daed",
   "metadata": {},
   "source": [
    "> Next we will fiter Wikidata pages without `occupation` or `citizenship`. Also we will filter `genders` and `citizenship`, which does not match the `gender` and `citizenship` of majority"
   ]
  },
  {
   "cell_type": "code",
   "execution_count": 12,
   "id": "cbeb4bf1",
   "metadata": {},
   "outputs": [
    {
     "name": "stdout",
     "output_type": "stream",
     "text": [
      "Percent of quotations in dataset, where more then one QID is joined 0.17980425173647654\n"
     ]
    }
   ],
   "source": [
    "df = df.apply(lambda x: filter_outlier_wikidata(x), axis=1)\n",
    "df = df[~df.apply(lambda x: not(x[\"gender\"] or\n",
    "                                x[\"birth\"] or \n",
    "                                x[\"occupation_ids\"] or\n",
    "                                x[\"citizenship_id\"]), axis=1)]\n",
    "percent = (df[\"citizenship_id\"].apply(len) > 1).sum() / len(df)\n",
    "\n",
    "print(f\"Percent of quotations in dataset, where more then one QID is joined {percent}\")  \n",
    "\n",
    "df[\"gender\"] = df[\"gender\"].apply(lambda x: x[0])\n",
    "df[\"citizenship_id\"] = df[\"citizenship_id\"].apply(lambda x: x[0])"
   ]
  },
  {
   "cell_type": "markdown",
   "id": "20dc0ac6",
   "metadata": {},
   "source": [
    "> Next we will split the dates"
   ]
  },
  {
   "cell_type": "code",
   "execution_count": 13,
   "id": "3fe698a0",
   "metadata": {},
   "outputs": [],
   "source": [
    "df['publish_year'] = df['d'].apply(lambda x: x[:4])\n",
    "df['publish_month'] = df['d'].apply(lambda x: x[5:7])"
   ]
  },
  {
   "cell_type": "markdown",
   "id": "f78c4cfe",
   "metadata": {},
   "source": [
    "> The first plot we build to validate if everything is correct is `number of occurancies` w.r.t. `publish year` "
   ]
  },
  {
   "cell_type": "code",
   "execution_count": 14,
   "id": "6ec028cf",
   "metadata": {},
   "outputs": [
    {
     "data": {
      "image/png": "[encoded data removed]",
      "text/plain": [
       "<Figure size 720x576 with 1 Axes>"
      ]
     },
     "metadata": {
      "needs_background": "light"
     },
     "output_type": "display_data"
    }
   ],
   "source": [
    "plt.figure(figsize=(10,8))\n",
    "plt.plot(df.groupby('publish_year')['o'].count())\n",
    "plt.xlabel(\"Year\")\n",
    "plt.ylabel(\"Occurances of a bitcoin-related quotes\")\n",
    "plt.grid()\n",
    "plt.show()"
   ]
  },
  {
   "cell_type": "markdown",
   "id": "ef206bd9",
   "metadata": {},
   "source": [
    "> Seems like everything is okey, since the two main increases in popularity of bitcoin was indeed in `2014` and `2017`, according to the `Google trends`"
   ]
  },
  {
   "cell_type": "markdown",
   "id": "38ab8b24",
   "metadata": {},
   "source": [
    "> The most cited pearsons also seems reasonable"
   ]
  },
  {
   "cell_type": "code",
   "execution_count": 17,
   "id": "47efaadc",
   "metadata": {},
   "outputs": [
    {
     "data": {
      "text/plain": [
       "s\n",
       "jamie dimon             665\n",
       "mark karpeles           626\n",
       "thomas peterffy         589\n",
       "craig wright            586\n",
       "adrian lee              585\n",
       "leah mcgrath goodman    504\n",
       "charlie sheen           446\n",
       "bobby lee               444\n",
       "gavin andresen          437\n",
       "tyler winklevoss        401\n",
       "Name: o, dtype: int64"
      ]
     },
     "execution_count": 17,
     "metadata": {},
     "output_type": "execute_result"
    }
   ],
   "source": [
    "df.groupby(['s']).sum()['o'].sort_values(ascending=False).head(10)"
   ]
  },
  {
   "cell_type": "code",
   "execution_count": 18,
   "id": "2422208e",
   "metadata": {},
   "outputs": [
    {
     "data": {
      "text/plain": [
       "s\n",
       "gavin andresen          167\n",
       "jamie dimon             159\n",
       "charlie lee             152\n",
       "bobby lee               148\n",
       "patrick byrne           145\n",
       "roger ver               144\n",
       "vitalik buterin         135\n",
       "andreas antonopoulos    108\n",
       "tyler winklevoss         96\n",
       "mark karpeles            90\n",
       "Name: o, dtype: int64"
      ]
     },
     "execution_count": 18,
     "metadata": {},
     "output_type": "execute_result"
    }
   ],
   "source": [
    "df.groupby(['s']).count()['o'].sort_values(ascending=False).head(10)"
   ]
  },
  {
   "cell_type": "markdown",
   "id": "1eba92e2",
   "metadata": {},
   "source": [
    "> Then we will reduce the number of occupations, since most of them are very simmilar. We will utilize `fuzzywuzzy` to find similar words. Then we will build a graph, where the vertices are the `occupations`, and edge between $o_i$ and $o_j$ exists if the similarity in terms of `fuzzywuzzy` metric is greater then a treshold."
   ]
  },
  {
   "cell_type": "code",
   "execution_count": 19,
   "id": "f46facb0",
   "metadata": {},
   "outputs": [],
   "source": [
    "import networkx\n",
    "from networkx.algorithms.components.connected import connected_components\n",
    "from fuzzywuzzy import fuzz\n",
    "from collections import defaultdict, Counter"
   ]
  },
  {
   "cell_type": "code",
   "execution_count": 20,
   "id": "ea4c1c42",
   "metadata": {},
   "outputs": [],
   "source": [
    "def to_graph(cliques):\n",
    "    G = networkx.Graph()\n",
    "    for cli in cliques:\n",
    "        G.add_nodes_from(cli)\n",
    "        G.add_edges_from(to_edges(cli))\n",
    "    return G\n",
    "\n",
    "def to_edges(l):\n",
    "    it = iter(l)\n",
    "    last = next(it)\n",
    "\n",
    "    for current in it:\n",
    "        yield last, current\n",
    "        last = current"
   ]
  },
  {
   "cell_type": "code",
   "execution_count": 21,
   "id": "577415a9",
   "metadata": {},
   "outputs": [],
   "source": [
    "occupations_dict = drop_similar(occupations_dict)"
   ]
  },
  {
   "cell_type": "code",
   "execution_count": 22,
   "id": "cb75c050",
   "metadata": {},
   "outputs": [
    {
     "data": {
      "text/plain": [
       "606"
      ]
     },
     "execution_count": 22,
     "metadata": {},
     "output_type": "execute_result"
    }
   ],
   "source": [
    "len(set(occupations_dict.values()))"
   ]
  },
  {
   "cell_type": "code",
   "execution_count": 23,
   "id": "565c52cf",
   "metadata": {},
   "outputs": [],
   "source": [
    "ids = set(sum([e for e in df[\"occupation_ids\"].values.sum() if e is not None], []))\n",
    "for i in ids:\n",
    "    if i not in occupations_dict:\n",
    "        del occupations_dict[i]"
   ]
  },
  {
   "cell_type": "code",
   "execution_count": 24,
   "id": "bf6ee78b",
   "metadata": {},
   "outputs": [],
   "source": [
    "names1 = (df.groupby(\"s\").sum() > 10).reset_index()\n",
    "names1 = names1.loc[names1[\"o\"], \"s\"]\n",
    "names1 = set(names1.values)\n",
    "names2 = (df.groupby(\"s\").count() > 3).reset_index()\n",
    "names2 = names2.loc[names2[\"o\"], \"s\"]\n",
    "names2 = set(names2.values)\n",
    "\n",
    "names = names2.intersection(names1)\n",
    "\n",
    "df = df[df[\"s\"].apply(lambda x: x in names)]"
   ]
  },
  {
   "cell_type": "code",
   "execution_count": 26,
   "id": "29973685",
   "metadata": {},
   "outputs": [],
   "source": [
    "def select_occupation(x):\n",
    "    output = []\n",
    "    \n",
    "    for elem in x:\n",
    "        if elem is not None:\n",
    "            output += list(set(occupations_dict[e] for e in elem))\n",
    "    output = list(set(output))\n",
    "    \n",
    "    if not output:\n",
    "        return None\n",
    "    else:\n",
    "        if (output[0] == \"sport\") or (output[0] == \"writer\"):\n",
    "            if len(output) > 1:\n",
    "                return output[1]\n",
    "            else:\n",
    "                return output[0]\n",
    "        else:\n",
    "            return output[0]"
   ]
  },
  {
   "cell_type": "code",
   "execution_count": 31,
   "id": "54fc77c2",
   "metadata": {},
   "outputs": [
    {
     "name": "stderr",
     "output_type": "stream",
     "text": [
      "/var/folders/zr/9df_syx90yvdyhsrsgyjwknc0000gn/T/ipykernel_10392/2683811197.py:2: SettingWithCopyWarning: \n",
      "A value is trying to be set on a copy of a slice from a DataFrame.\n",
      "Try using .loc[row_indexer,col_indexer] = value instead\n",
      "\n",
      "See the caveats in the documentation: http://pandas.pydata.org/pandas-docs/stable/user_guide/indexing.html#returning-a-view-versus-a-copy\n",
      "  df[\"occupation\"] = df[\"occupation_ids\"].apply(lambda x: select_occupation(x))\n"
     ]
    }
   ],
   "source": [
    "df = df[df[\"birth\"].apply(lambda x: len(x) < 2)]\n",
    "df[\"occupation\"] = df[\"occupation_ids\"].apply(lambda x: select_occupation(x))"
   ]
  },
  {
   "cell_type": "code",
   "execution_count": 32,
   "id": "58c7135b",
   "metadata": {},
   "outputs": [],
   "source": [
    "df_grouped = df.groupby(['publish_year', 'occupation'], as_index=False).sum()\n",
    "df_grouped_top = (df_grouped\n",
    "                  .sort_values(['publish_year','o'], ascending=False)\n",
    "                  .groupby(['publish_year'], as_index=False)\n",
    "                  .head(5))"
   ]
  },
  {
   "cell_type": "code",
   "execution_count": 44,
   "id": "8962635b",
   "metadata": {},
   "outputs": [
    {
     "data": {
      "image/png": "[encoded data removed]",
      "text/plain": [
       "<Figure size 2880x1080 with 10 Axes>"
      ]
     },
     "metadata": {
      "needs_background": "light"
     },
     "output_type": "display_data"
    }
   ],
   "source": [
    "from matplotlib import colors as mcolors\n",
    "\n",
    "group_colors = {}\n",
    "colors = dict(mcolors.BASE_COLORS, **mcolors.CSS4_COLORS)\n",
    "colors = list(colors.values())\n",
    "unique_top_occupation_groups = [elem[0] for elem in Counter(df_grouped_top.occupation).most_common()]\n",
    "for i, group_number in enumerate(unique_top_occupation_groups):\n",
    "    group_colors[group_number] = colors[i + 40]\n",
    "\n",
    "fig, axs = plt.subplots(2, 5, figsize=(40, 15))\n",
    "step = [0, 1, 2, 3, 4]\n",
    "\n",
    "years = np.unique(df_grouped_top.publish_year)\n",
    "for i, year in enumerate(years):\n",
    "    year_df = df_grouped_top[df_grouped_top.publish_year == year]\n",
    "    year_occupations = np.unique(year_df.occupation)\n",
    "    \n",
    "    for group_n, group_ in enumerate(year_occupations):\n",
    "        temp_group = year_df[year_df.occupation == group_]\n",
    "        axs[i // 5][i % 5].bar(group_,\n",
    "                               temp_group.o.values[0], \n",
    "                               color=group_colors[group_], \n",
    "                               alpha=1, \n",
    "                               width=0.2,\n",
    "                               align='center')\n",
    "    axs[i // 5][i % 5].set_title(year, fontsize=20)\n",
    "    axs[i // 5][i % 5].grid()\n",
    "    axs[i // 5][i % 5].tick_params(axis='both', which='major', labelsize=16)\n",
    "plt.show()"
   ]
  },
  {
   "cell_type": "markdown",
   "id": "d4ff30c3",
   "metadata": {},
   "source": [
    "> It seems like the distribution over is a little varied. As we can see, people with sport `occupation` speak up about `bitcoin` and `blockchain` rather more frequent, then other people. It is an interesting observation, since most of the quotes seems to be relevant to `bitcoin`, `blockchain`, and other buzz-words"
   ]
  },
  {
   "cell_type": "markdown",
   "id": "58031c5f",
   "metadata": {},
   "source": [
    "---"
   ]
  },
  {
   "cell_type": "markdown",
   "id": "711410e3",
   "metadata": {},
   "source": [
    "Now we want to find when exactly did the \"hype\" around bitcoin and cryptocurrencies start.\n",
    "\n",
    "We will find that by looking at what dates did we get the \"noticeable\" boosts of related phrases, such that the trend was preserved in the future"
   ]
  },
  {
   "cell_type": "code",
   "execution_count": 83,
   "id": "545e8c01",
   "metadata": {},
   "outputs": [
    {
     "name": "stderr",
     "output_type": "stream",
     "text": [
      "/opt/homebrew/anaconda3/envs/ada/lib/python3.8/site-packages/pandas/core/generic.py:5208: SettingWithCopyWarning: \n",
      "A value is trying to be set on a copy of a slice from a DataFrame.\n",
      "Try using .loc[row_indexer,col_indexer] = value instead\n",
      "\n",
      "See the caveats in the documentation: http://pandas.pydata.org/pandas-docs/stable/user_guide/indexing.html#returning-a-view-versus-a-copy\n",
      "  self[name] = value\n"
     ]
    }
   ],
   "source": [
    "df.publish_year = df.publish_year.apply(int)"
   ]
  },
  {
   "cell_type": "code",
   "execution_count": 84,
   "id": "78345526",
   "metadata": {},
   "outputs": [
    {
     "data": {
      "image/png": "[encoded data removed]",
      "text/plain": [
       "<Figure size 432x288 with 1 Axes>"
      ]
     },
     "metadata": {
      "needs_background": "light"
     },
     "output_type": "display_data"
    }
   ],
   "source": [
    "plt.plot(df.groupby('publish_year')['o'].sum())\n",
    "plt.show()"
   ]
  },
  {
   "cell_type": "markdown",
   "id": "709c3e26",
   "metadata": {},
   "source": [
    "Let's see the quote that spread the most each year "
   ]
  },
  {
   "cell_type": "code",
   "execution_count": 85,
   "id": "1e279660",
   "metadata": {},
   "outputs": [
    {
     "name": "stdout",
     "output_type": "stream",
     "text": [
      "--2008\n",
      "Speaker: george orwell\n",
      "Count: 6\n",
      "--2009\n",
      "Speaker: gore vidal\n",
      "Count: 16\n",
      "--2010\n",
      "Speaker: president barack obama\n",
      "Count: 24\n",
      "--2011\n",
      "Speaker: charlie sheen\n",
      "Count: 170\n",
      "--2012\n",
      "Speaker: chris christie\n",
      "Count: 106\n",
      "--2013\n",
      "Speaker: edward snowden\n",
      "Count: 182\n",
      "--2014\n",
      "Speaker: mark karpeles\n",
      "Count: 258\n",
      "--2015\n",
      "Speaker: adrian lee\n",
      "Count: 128\n",
      "--2016\n",
      "Speaker: craig wright\n",
      "Count: 51\n",
      "--2017\n",
      "Speaker: thomas peterffy\n",
      "Count: 463\n"
     ]
    }
   ],
   "source": [
    "for year in np.unique(df.publish_year.values):\n",
    "    line = df[df.publish_year==year].sort_values('o', ascending=False).head(1)\n",
    "    \n",
    "    print(f'--{year}')\n",
    "    print(f'Speaker: {line.s.values[0]}') \n",
    "    print(f'Count: {line.o.values[0]}')"
   ]
  },
  {
   "cell_type": "markdown",
   "id": "92bc8067",
   "metadata": {},
   "source": [
    "Let's see now the relative change of total quotes for the day, relative to the previous day"
   ]
  },
  {
   "cell_type": "code",
   "execution_count": 137,
   "id": "500d05b7",
   "metadata": {},
   "outputs": [
    {
     "data": {
      "text/plain": [
       "array([ 5,  4, 10, ...,  3,  1,  8])"
      ]
     },
     "execution_count": 137,
     "metadata": {},
     "output_type": "execute_result"
    }
   ],
   "source": [
    "MIN_YEAR = 2009\n",
    "MAX_YEAR = 2018\n",
    "daily_occurence_sums = (df[(MIN_YEAR < df['publish_year']) &\n",
    "                           (df['publish_year'] < MAX_YEAR)]\n",
    "                        .groupby('d').sum().values[:, 0])\n",
    "daily_occurence_sums"
   ]
  },
  {
   "cell_type": "code",
   "execution_count": 138,
   "id": "76a61d50",
   "metadata": {},
   "outputs": [
    {
     "data": {
      "image/png": "[encoded data removed]",
      "text/plain": [
       "<Figure size 1008x1008 with 1 Axes>"
      ]
     },
     "metadata": {
      "needs_background": "light"
     },
     "output_type": "display_data"
    }
   ],
   "source": [
    "daily_occurence_t1 = np.roll(daily_occurence_sums, 1)  # t + 1\n",
    "\n",
    "# take the proportion of the change (n(t) - n(t-1)) / n(t - 1)\n",
    "daily_occurence_differences = ((daily_occurence_sums - daily_occurence_t1 ) / daily_occurence_t1)[1:]\n",
    "plt.figure(figsize=(14, 14))\n",
    "plt.plot(daily_occurence_differences)\n",
    "plt.show()"
   ]
  },
  {
   "cell_type": "markdown",
   "id": "bed822f4",
   "metadata": {},
   "source": [
    "Not much information can bee seen there, let's do an averaging with the window "
   ]
  },
  {
   "cell_type": "code",
   "execution_count": 153,
   "id": "6c3d02d6",
   "metadata": {},
   "outputs": [],
   "source": [
    "def moving_average(data, window=7, stride=1) :\n",
    "    window_averages = []\n",
    "    \n",
    "    # just avoiding potentially weird inputs\n",
    "    if stride < 1:\n",
    "        stride = 1\n",
    "        \n",
    "    for i in range(len(data))[:-stride:stride]:\n",
    "        window_first_day = i * window\n",
    "        window_last_day =  window_first_day + window\n",
    "#         print(window_first_day, window_last_day)\n",
    "        window_averages.append(data[window_first_day: window_last_day].mean())\n",
    "    \n",
    "    return range(len(data))[:-stride:stride], window_averages"
   ]
  },
  {
   "cell_type": "code",
   "execution_count": 154,
   "id": "87139ecd",
   "metadata": {},
   "outputs": [
    {
     "name": "stderr",
     "output_type": "stream",
     "text": [
      "/var/folders/zr/9df_syx90yvdyhsrsgyjwknc0000gn/T/ipykernel_10392/4192452084.py:12: RuntimeWarning: Mean of empty slice.\n",
      "  window_averages.append(data[window_first_day: window_last_day].mean())\n"
     ]
    },
    {
     "data": {
      "image/png": "[encoded data removed]",
      "text/plain": [
       "<Figure size 1008x1008 with 1 Axes>"
      ]
     },
     "metadata": {
      "needs_background": "light"
     },
     "output_type": "display_data"
    }
   ],
   "source": [
    "WINDOW_DAYS = 30\n",
    "\n",
    "# window_first_day_numbers = [n for n in range(len(daily_occurence_differences))]\n",
    "window_first_day_numbers, window_averaged_occurences = moving_average(daily_occurence_differences,\n",
    "                                                                      window=WINDOW_DAYS,\n",
    "                                                                      stride=WINDOW_DAYS)\n",
    "\n",
    "window_first_day_dates = [df.d.values[i] for i in window_first_day_numbers]\n",
    "plt.figure(figsize=(14, 14))\n",
    "plt.plot(window_first_day_dates, window_averaged_occurences)\n",
    "plt.show()"
   ]
  },
  {
   "cell_type": "code",
   "execution_count": 141,
   "id": "940be25c",
   "metadata": {},
   "outputs": [
    {
     "data": {
      "text/plain": [
       "['2008-10-18 02:33:56',\n",
       " '2009-07-06 23:50:49',\n",
       " '2009-04-26 17:29:24',\n",
       " '2009-03-02 19:22:27',\n",
       " '2010-12-28 06:15:06',\n",
       " '2010-11-10 16:49:00',\n",
       " '2011-06-17 08:16:10',\n",
       " '2011-03-01 21:55:00',\n",
       " '2011-03-11 11:33:11',\n",
       " '2011-04-04 16:05:00',\n",
       " '2012-08-01 07:31:25',\n",
       " '2012-01-17 22:13:45',\n",
       " '2012-02-10 14:17:57',\n",
       " '2012-06-07 16:05:16',\n",
       " '2012-10-03 13:50:06',\n",
       " '2012-12-17 11:30:00',\n",
       " '2013-11-21 20:59:51',\n",
       " '2013-12-05 16:09:39',\n",
       " '2013-02-26 23:31:55',\n",
       " '2013-11-12 20:34:00',\n",
       " '2013-12-18 15:15:22',\n",
       " '2013-11-22 16:27:01',\n",
       " '2013-11-07 09:20:45',\n",
       " '2013-12-05 12:59:00',\n",
       " '2013-05-14 13:10:27',\n",
       " '2013-05-21 09:31:03',\n",
       " '2013-11-18 03:00:00',\n",
       " '2013-04-17 04:32:21',\n",
       " '2013-06-14 15:27:00',\n",
       " '2013-12-05 14:19:00',\n",
       " '2013-12-05 22:20:14',\n",
       " '2013-11-18 09:53:22',\n",
       " '2013-11-22 11:31:00',\n",
       " '2013-06-14 19:18:01',\n",
       " '2013-07-12 21:51:35',\n",
       " '2013-01-22 14:18:06',\n",
       " '2013-11-27 15:10:00',\n",
       " '2013-07-25 01:48:40',\n",
       " '2014-09-03 20:35:13',\n",
       " '2014-03-28 06:17:16',\n",
       " '2014-03-10 18:36:37',\n",
       " '2014-04-22 19:36:00',\n",
       " '2014-08-19 14:39:54',\n",
       " '2014-01-06 20:51:00',\n",
       " '2014-02-10 14:23:00',\n",
       " '2014-03-13 16:44:00',\n",
       " '2014-10-13 01:13:33',\n",
       " '2014-03-16 23:51:11',\n",
       " '2014-06-25 17:36:24',\n",
       " '2014-03-07 12:18:14',\n",
       " '2014-03-07 19:50:00',\n",
       " '2014-03-03 03:37:00',\n",
       " '2014-12-20 21:50:08',\n",
       " '2014-11-03 01:00:00',\n",
       " '2014-01-28 19:09:01',\n",
       " '2014-02-09 00:57:00',\n",
       " '2014-07-24 03:05:11',\n",
       " '2014-03-09 15:00:00',\n",
       " '2014-01-23 17:38:00',\n",
       " '2014-09-18 16:52:05',\n",
       " '2014-05-16 05:01:26',\n",
       " '2014-03-11 19:52:16',\n",
       " '2014-05-03 21:19:15',\n",
       " '2014-02-27 03:10:56',\n",
       " '2014-09-16 03:09:49',\n",
       " '2014-12-20 18:02:33',\n",
       " '2014-03-01 15:01:01',\n",
       " '2014-10-10 00:37:14',\n",
       " '2014-01-28 14:40:43',\n",
       " '2014-12-02 14:40:00',\n",
       " '2014-11-06 22:58:39',\n",
       " '2014-04-29 03:00:00',\n",
       " '2014-07-03 07:33:06',\n",
       " '2014-03-14 10:13:16',\n",
       " '2014-10-14 21:39:01',\n",
       " '2014-09-24 23:03:46',\n",
       " '2014-02-28 12:50:00',\n",
       " '2014-08-04 21:29:06',\n",
       " '2014-01-07 17:38:00',\n",
       " '2014-01-13 11:57:00',\n",
       " '2014-11-13 15:22:46',\n",
       " '2014-12-31 22:26:06',\n",
       " '2014-11-18 20:26:19',\n",
       " '2014-02-11 06:54:25',\n",
       " '2014-05-05 02:52:25',\n",
       " '2014-12-20 01:31:00',\n",
       " '2015-09-15 16:25:02',\n",
       " '2015-12-08 21:11:39',\n",
       " '2015-09-03 08:44:53',\n",
       " '2015-09-19 07:44:28',\n",
       " '2015-10-14 11:37:02',\n",
       " '2015-01-06 18:34:20',\n",
       " '2015-01-12 16:40:41',\n",
       " '2015-01-14 15:57:03',\n",
       " '2015-12-08 16:25:40',\n",
       " '2015-01-20 17:01:00',\n",
       " '2015-02-02 12:25:52',\n",
       " '2015-04-22 09:50:10',\n",
       " '2015-08-12 14:00:59',\n",
       " '2015-01-22 19:34:47',\n",
       " '2015-10-13 22:00:00',\n",
       " '2015-08-24 09:14:09',\n",
       " '2015-04-22 09:50:10',\n",
       " '2015-12-17 07:16:35',\n",
       " '2015-09-23 18:52:29',\n",
       " '2015-12-27 09:07:00',\n",
       " '2015-10-14 11:37:02',\n",
       " '2015-05-29 14:36:53',\n",
       " '2015-08-20 10:19:19',\n",
       " '2015-12-09 18:46:43',\n",
       " '2015-01-15 20:51:42',\n",
       " '2015-12-10 01:56:21',\n",
       " '2016-07-26 06:12:00',\n",
       " '2016-07-14 23:12:47',\n",
       " '2016-09-28 16:20:59',\n",
       " '2016-05-02 15:11:46',\n",
       " '2016-04-27 15:25:22',\n",
       " '2016-09-09 09:30:02',\n",
       " '2016-07-05 12:00:00',\n",
       " '2016-08-03 07:08:42',\n",
       " '2016-12-22 15:00:09',\n",
       " '2016-12-28 11:53:06',\n",
       " '2016-07-25 23:53:54',\n",
       " '2016-05-25 13:06:59',\n",
       " '2016-08-03 14:52:15',\n",
       " '2016-08-03 20:44:14',\n",
       " '2016-05-02 14:53:52',\n",
       " '2016-08-12 13:16:00',\n",
       " '2016-04-22 02:19:00',\n",
       " '2016-08-28 13:44:11',\n",
       " '2016-09-20 00:00:00',\n",
       " '2016-09-23 07:12:21',\n",
       " '2016-02-19 09:22:09',\n",
       " '2016-08-17 12:57:04',\n",
       " '2016-05-04 18:26:39',\n",
       " '2016-12-27 14:00:23',\n",
       " '2016-09-29 18:31:56',\n",
       " '2016-05-18 14:56:58',\n",
       " '2017-12-18 09:07:39',\n",
       " '2017-09-20 11:44:54',\n",
       " '2017-03-10 11:00:00',\n",
       " '2017-08-07 11:29:50',\n",
       " '2017-10-16 15:59:34',\n",
       " '2017-12-29 00:00:00',\n",
       " '2017-11-09 09:30:17',\n",
       " '2017-07-12 13:07:18',\n",
       " '2017-07-07 00:00:00',\n",
       " '2017-09-14 07:03:00',\n",
       " '2017-10-24 00:00:00',\n",
       " '2017-10-20 09:02:20',\n",
       " '2017-12-20 00:00:00',\n",
       " '2017-12-18 00:00:00',\n",
       " '2017-05-19 22:46:53',\n",
       " '2017-02-27 10:50:16',\n",
       " '2017-11-29 21:42:19',\n",
       " '2017-11-10 00:00:00',\n",
       " '2017-08-24 18:16:13',\n",
       " '2017-11-22 09:03:00',\n",
       " '2017-07-12 13:20:30',\n",
       " '2017-12-01 13:59:05',\n",
       " '2017-12-01 00:00:00',\n",
       " '2017-12-05 14:03:00',\n",
       " '2017-02-16 08:28:46',\n",
       " '2017-12-15 01:23:01',\n",
       " '2017-12-09 13:23:36',\n",
       " '2017-10-24 12:13:21',\n",
       " '2017-10-10 11:42:16',\n",
       " '2017-12-27 07:01:33',\n",
       " '2017-05-23 20:04:00',\n",
       " '2017-11-30 16:00:00',\n",
       " '2017-03-21 17:18:56',\n",
       " '2017-12-25 00:00:00',\n",
       " '2017-06-07 05:33:47',\n",
       " '2017-12-19 10:12:00',\n",
       " '2017-12-12 22:45:53',\n",
       " '2017-05-23 14:00:00']"
      ]
     },
     "execution_count": 141,
     "metadata": {},
     "output_type": "execute_result"
    }
   ],
   "source": [
    "window_first_day_dates"
   ]
  },
  {
   "cell_type": "code",
   "execution_count": null,
   "id": "fa738d32",
   "metadata": {},
   "outputs": [],
   "source": []
  }
 ],
 "metadata": {
  "kernelspec": {
   "display_name": "Python 3 (ipykernel)",
   "language": "python",
   "name": "python3"
  },
  "language_info": {
   "codemirror_mode": {
    "name": "ipython",
    "version": 3
   },
   "file_extension": ".py",
   "mimetype": "text/x-python",
   "name": "python",
   "nbconvert_exporter": "python",
   "pygments_lexer": "ipython3",
   "version": "3.8.12"
  }
 },
 "nbformat": 4,
 "nbformat_minor": 5
}
