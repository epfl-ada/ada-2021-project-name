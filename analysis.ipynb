{
 "cells": [
  {
   "cell_type": "code",
   "execution_count": 1,
   "id": "b188179e",
   "metadata": {},
   "outputs": [
    {
     "name": "stdout",
     "output_type": "stream",
     "text": [
      "Number of countries: 180\n",
      "Number of occupations: 1249\n"
     ]
    }
   ],
   "source": [
    "import numpy as np\n",
    "import pandas as pd\n",
    "import matplotlib.pyplot as plt\n",
    "from collections import defaultdict\n",
    "from copy import deepcopy\n",
    "\n",
    "from fuzzywuzzy import fuzz\n",
    "\n",
    "import networkx\n",
    "from networkx.algorithms.components.connected import connected_components\n",
    "\n",
    "\n",
    "from os.path import join\n",
    "import json\n",
    "\n",
    "DATA_PATH = 'data'\n",
    "\n",
    "with open(join(DATA_PATH, 'countries_vocab.json'), 'r', encoding=\"utf-8\") as f:\n",
    "    countries_dict = {k: str(v.lower().strip()) for k, v in json.loads(f.readline()).items()}\n",
    "    coun_num = len(set(countries_dict.values()))\n",
    "    print(f\"Number of countries: {coun_num}\")\n",
    "    \n",
    "with open(join(DATA_PATH, 'occupations_vocab.json'), 'r', encoding=\"utf-8\") as f:\n",
    "    occupations_dict = {k: str(v.lower().strip()) for k, v in json.loads(f.readline()).items()}\n",
    "    occ_num = len(set(occupations_dict.values()))\n",
    "    print(f\"Number of occupations: {occ_num}\")\n",
    "df = pd.read_json(join(DATA_PATH, 'union.json'), lines=True)"
   ]
  },
  {
   "cell_type": "markdown",
   "id": "12789175",
   "metadata": {},
   "source": [
    "> Lets first preprocess the list of occupations we have. As can be observerd, there are multiple occupations containing similar words: e.g. music critic, food critic, political critic. Here word critic does not represent what exectly a person do, in this regard it may be a good idea to see, which words are the most frequent in the occupation titles, and drop them if necessary"
   ]
  },
  {
   "cell_type": "code",
   "execution_count": 2,
   "id": "bb4e1920",
   "metadata": {},
   "outputs": [
    {
     "data": {
      "text/plain": [
       "[('player', 50),\n",
       " ('artist', 38),\n",
       " ('designer', 22),\n",
       " ('manager', 22),\n",
       " ('coach', 22),\n",
       " ('director', 21),\n",
       " ('of', 18),\n",
       " ('engineer', 17),\n",
       " ('game', 15),\n",
       " ('video', 14),\n",
       " ('writer', 14),\n",
       " ('scientist', 13),\n",
       " ('officer', 13),\n",
       " ('actor', 13),\n",
       " ('historian', 13)]"
      ]
     },
     "execution_count": 2,
     "metadata": {},
     "output_type": "execute_result"
    }
   ],
   "source": [
    "from collections import Counter\n",
    "\n",
    "occupations = [word.split() for word in occupations_dict.values()]\n",
    "Counter(sum(occupations, [])).most_common()[:15]"
   ]
  },
  {
   "cell_type": "markdown",
   "id": "1577df32",
   "metadata": {},
   "source": [
    "> We will join all the profession containing `artists`, `player`, `video game`. Moreover we will replace `chief executive officer` with `executive director` to distingfish them from `police officer`"
   ]
  },
  {
   "cell_type": "code",
   "execution_count": 3,
   "id": "e2fc7c84",
   "metadata": {},
   "outputs": [],
   "source": [
    "sport_words = [\n",
    "    \"sport\", \"archer\", \"player\", 'football', \n",
    "    \"cricket\", \"rugby\", 'basketball', \"biathlon\", \n",
    "    \"hockey\", \"fitness\", \"gymnastics\", \"baseball\",\n",
    "    \"wrestling\", \"curling\", \"handball\", \"bobsledder\",\n",
    "    \"badminton\", \"athlete\", \"runner\", \"tennis\", \"dancer\",\n",
    "    \"skier\", \"skating\", \"golfer\", \"skier\", \"mountaineer\", \n",
    "    \"surfer\", \"boxer\"\n",
    "]\n",
    "\n",
    "for k, v in occupations_dict.items():\n",
    "    for sport_word in sport_words:\n",
    "        if sport_word in v:\n",
    "            occupations_dict[k] = \"sport\"\n",
    "    if \"game\" in v:\n",
    "        occupations_dict[k] = \"video game\"\n",
    "    elif \"artist\" in v:\n",
    "        occupations_dict[k] = \"artist\"\n",
    "    elif \"actor\" in v:\n",
    "        occupations_dict[k] = \"actor\"\n",
    "    elif \"chief executive officer\" in v:\n",
    "        occupations_dict[k] = \"executive director\"\n",
    "    elif \"chief creative officer\" in v:\n",
    "        occupations_dict[k] = \"creative director\"\n",
    "    elif \"chief technology officer\" in v:\n",
    "        occupations_dict[k] = \"technology director\"\n",
    "    elif \"chief operating officer\" in v:\n",
    "        occupations_dict[k] = \"operating director\"\n",
    "            "
   ]
  },
  {
   "cell_type": "code",
   "execution_count": 4,
   "id": "681d100b",
   "metadata": {},
   "outputs": [
    {
     "data": {
      "text/plain": [
       "[('sport', 146),\n",
       " ('artist', 40),\n",
       " ('director', 21),\n",
       " ('manager', 20),\n",
       " ('video', 19),\n",
       " ('designer', 18),\n",
       " ('engineer', 17),\n",
       " ('of', 17),\n",
       " ('game', 16),\n",
       " ('actor', 15),\n",
       " ('scientist', 13),\n",
       " ('writer', 13),\n",
       " ('historian', 13),\n",
       " ('activist', 12),\n",
       " ('political', 12)]"
      ]
     },
     "execution_count": 4,
     "metadata": {},
     "output_type": "execute_result"
    }
   ],
   "source": [
    "from collections import Counter\n",
    "\n",
    "occupations = [word.split() for word in occupations_dict.values()]\n",
    "Counter(sum(occupations, [])).most_common()[:15]"
   ]
  },
  {
   "cell_type": "code",
   "execution_count": 5,
   "id": "313b1333",
   "metadata": {},
   "outputs": [
    {
     "data": {
      "text/html": [
       "<div>\n",
       "<style scoped>\n",
       "    .dataframe tbody tr th:only-of-type {\n",
       "        vertical-align: middle;\n",
       "    }\n",
       "\n",
       "    .dataframe tbody tr th {\n",
       "        vertical-align: top;\n",
       "    }\n",
       "\n",
       "    .dataframe thead th {\n",
       "        text-align: right;\n",
       "    }\n",
       "</style>\n",
       "<table border=\"1\" class=\"dataframe\">\n",
       "  <thead>\n",
       "    <tr style=\"text-align: right;\">\n",
       "      <th></th>\n",
       "      <th>q</th>\n",
       "      <th>d</th>\n",
       "      <th>id</th>\n",
       "      <th>s</th>\n",
       "      <th>o</th>\n",
       "      <th>gender</th>\n",
       "      <th>birth</th>\n",
       "      <th>occupation_ids</th>\n",
       "      <th>citizenship_id</th>\n",
       "    </tr>\n",
       "  </thead>\n",
       "  <tbody>\n",
       "    <tr>\n",
       "      <th>0</th>\n",
       "      <td>will be playing a lot of the tracks from micro...</td>\n",
       "      <td>2008-12-02 17:59:33</td>\n",
       "      <td>[Q2359518]</td>\n",
       "      <td>lockett pundt</td>\n",
       "      <td>1</td>\n",
       "      <td>[male]</td>\n",
       "      <td>[+1982-10-07T00:00:00Z]</td>\n",
       "      <td>[[Q855091]]</td>\n",
       "      <td>[Q30]</td>\n",
       "    </tr>\n",
       "    <tr>\n",
       "      <th>1</th>\n",
       "      <td>the corporation looks a bit concerned there te...</td>\n",
       "      <td>2008-10-16 01:39:41</td>\n",
       "      <td>[Q52607733]</td>\n",
       "      <td>tessa martin</td>\n",
       "      <td>2</td>\n",
       "      <td>[female]</td>\n",
       "      <td>[None]</td>\n",
       "      <td>[[Q2500638]]</td>\n",
       "      <td>[None]</td>\n",
       "    </tr>\n",
       "    <tr>\n",
       "      <th>2</th>\n",
       "      <td>the broker who supposed a large shareholder ha...</td>\n",
       "      <td>2008-12-01 10:39:05</td>\n",
       "      <td>[Q16148910, Q19938265, Q313918, Q4771995, Q477...</td>\n",
       "      <td>anthony anderson</td>\n",
       "      <td>1</td>\n",
       "      <td>[male, male, male, male, male]</td>\n",
       "      <td>[+1901-00-00T00:00:00Z, +1981-11-12T00:00:00Z,...</td>\n",
       "      <td>[[Q3282637], [Q3665646], [Q245068, Q10800557, ...</td>\n",
       "      <td>[None, Q30, Q30, Q30, Q145]</td>\n",
       "    </tr>\n",
       "    <tr>\n",
       "      <th>3</th>\n",
       "      <td>whining and bitching and am a sore loser</td>\n",
       "      <td>2008-11-05 07:41:00</td>\n",
       "      <td>[Q76]</td>\n",
       "      <td>barack obama</td>\n",
       "      <td>2</td>\n",
       "      <td>[male]</td>\n",
       "      <td>[+1961-08-04T00:00:00Z]</td>\n",
       "      <td>[[Q82955, Q40348, Q15958642, Q28532974, Q37243...</td>\n",
       "      <td>[Q30]</td>\n",
       "    </tr>\n",
       "    <tr>\n",
       "      <th>4</th>\n",
       "      <td>everybody is a bit concerned with the economy ...</td>\n",
       "      <td>2008-10-17 01:25:29</td>\n",
       "      <td>[Q17180637]</td>\n",
       "      <td>jake hansen</td>\n",
       "      <td>3</td>\n",
       "      <td>[male]</td>\n",
       "      <td>[+1989-08-21T00:00:00Z]</td>\n",
       "      <td>[[Q11774891]]</td>\n",
       "      <td>[Q30]</td>\n",
       "    </tr>\n",
       "  </tbody>\n",
       "</table>\n",
       "</div>"
      ],
      "text/plain": [
       "                                                   q                    d  \\\n",
       "0  will be playing a lot of the tracks from micro...  2008-12-02 17:59:33   \n",
       "1  the corporation looks a bit concerned there te...  2008-10-16 01:39:41   \n",
       "2  the broker who supposed a large shareholder ha...  2008-12-01 10:39:05   \n",
       "3           whining and bitching and am a sore loser  2008-11-05 07:41:00   \n",
       "4  everybody is a bit concerned with the economy ...  2008-10-17 01:25:29   \n",
       "\n",
       "                                                  id                 s  o  \\\n",
       "0                                         [Q2359518]     lockett pundt  1   \n",
       "1                                        [Q52607733]      tessa martin  2   \n",
       "2  [Q16148910, Q19938265, Q313918, Q4771995, Q477...  anthony anderson  1   \n",
       "3                                              [Q76]      barack obama  2   \n",
       "4                                        [Q17180637]       jake hansen  3   \n",
       "\n",
       "                           gender  \\\n",
       "0                          [male]   \n",
       "1                        [female]   \n",
       "2  [male, male, male, male, male]   \n",
       "3                          [male]   \n",
       "4                          [male]   \n",
       "\n",
       "                                               birth  \\\n",
       "0                            [+1982-10-07T00:00:00Z]   \n",
       "1                                             [None]   \n",
       "2  [+1901-00-00T00:00:00Z, +1981-11-12T00:00:00Z,...   \n",
       "3                            [+1961-08-04T00:00:00Z]   \n",
       "4                            [+1989-08-21T00:00:00Z]   \n",
       "\n",
       "                                      occupation_ids  \\\n",
       "0                                        [[Q855091]]   \n",
       "1                                       [[Q2500638]]   \n",
       "2  [[Q3282637], [Q3665646], [Q245068, Q10800557, ...   \n",
       "3  [[Q82955, Q40348, Q15958642, Q28532974, Q37243...   \n",
       "4                                      [[Q11774891]]   \n",
       "\n",
       "                citizenship_id  \n",
       "0                        [Q30]  \n",
       "1                       [None]  \n",
       "2  [None, Q30, Q30, Q30, Q145]  \n",
       "3                        [Q30]  \n",
       "4                        [Q30]  "
      ]
     },
     "execution_count": 5,
     "metadata": {},
     "output_type": "execute_result"
    }
   ],
   "source": [
    "df.head()"
   ]
  },
  {
   "cell_type": "markdown",
   "id": "30e2fff4",
   "metadata": {},
   "source": [
    "> Then firstly filter occupations, which occured only single time in the dataset "
   ]
  },
  {
   "cell_type": "code",
   "execution_count": 6,
   "id": "00d3e2f4",
   "metadata": {},
   "outputs": [],
   "source": [
    "occ_freq = defaultdict(int)\n",
    "for occ_ids in df[\"occupation_ids\"].values:\n",
    "    if occ_ids is not None:\n",
    "        for occs in occ_ids:\n",
    "            if occs is not None:\n",
    "                for o in occs:\n",
    "                    occ_freq[o] += 1"
   ]
  },
  {
   "cell_type": "code",
   "execution_count": 7,
   "id": "70b8caf9",
   "metadata": {},
   "outputs": [
    {
     "data": {
      "image/png": "[encoded data removed]",
      "text/plain": [
       "<Figure size 504x360 with 1 Axes>"
      ]
     },
     "metadata": {
      "needs_background": "light"
     },
     "output_type": "display_data"
    }
   ],
   "source": [
    "plt.figure(figsize=(7,5))\n",
    "plt.hist(list(occ_freq.values()), bins=200, density=True)\n",
    "plt.grid()\n",
    "plt.show()"
   ]
  },
  {
   "cell_type": "code",
   "execution_count": 8,
   "id": "b67c19e4",
   "metadata": {},
   "outputs": [],
   "source": [
    "def filter_occs(x):\n",
    "    ids = defaultdict(list)\n",
    "    for i, occ_ids in enumerate(x[\"occupation_ids\"]):\n",
    "        ids[i] = []\n",
    "        if occ_ids is not None:\n",
    "            for j, occs in enumerate(occ_ids):\n",
    "                if (occs is not None) and (occ_freq[occs] > 1):\n",
    "                    ids[i].append(j)\n",
    "    for i, elem in ids.items():\n",
    "        if elem:\n",
    "            x[\"occupation_ids\"][i] = [e for j, e in enumerate(x[\"occupation_ids\"][i]) if j in elem]\n",
    "    return x\n",
    "    \n",
    "    "
   ]
  },
  {
   "cell_type": "code",
   "execution_count": 9,
   "id": "0c1f6955",
   "metadata": {},
   "outputs": [
    {
     "name": "stdout",
     "output_type": "stream",
     "text": [
      "Reduced number of occupations: 1024\n"
     ]
    }
   ],
   "source": [
    "df = df.apply(lambda x: filter_occs(x), axis=1)\n",
    "\n",
    "occ_set = set()\n",
    "for occ_lsts in df[\"occupation_ids\"].values:\n",
    "    if occ_lsts is not None:\n",
    "        for lst in occ_lsts:\n",
    "            if lst is not None:\n",
    "                occ_set.update(lst)\n",
    "print(f\"Reduced number of occupations: {len(occ_set)}\")"
   ]
  },
  {
   "cell_type": "code",
   "execution_count": 10,
   "id": "6814be06",
   "metadata": {},
   "outputs": [],
   "source": [
    "def change_occupancy_ids_to_names(values: list, dicitonary: dict) -> list:\n",
    "    \"\"\"\n",
    "    :param: values - list of lists of ids\n",
    "    :param: dicitonary - dictionary for id - name matching\n",
    "    \n",
    "    return list strings with union of all possible occupancies for a person\n",
    "    \"\"\"\n",
    "    ans = []\n",
    "    for quote_array in values:\n",
    "        person_values = []\n",
    "        for wikipage_array in quote_array:\n",
    "            values_ = []\n",
    "            if wikipage_array is None or len(wikipage_array) == 0:\n",
    "                values_.append(\"None\")\n",
    "            else:\n",
    "                for value_id in wikipage_array:\n",
    "                    values_.append(dicitonary[value_id])\n",
    "            person_values.append(values_)\n",
    "        ans.append(person_values)\n",
    "        \n",
    "    return ans"
   ]
  },
  {
   "cell_type": "code",
   "execution_count": 11,
   "id": "6ba4cc08",
   "metadata": {},
   "outputs": [],
   "source": [
    "df['occupations'] = change_occupancy_ids_to_names(df.occupation_ids, occupations_dict)\n",
    "df['citizenship'] = df['citizenship_id'].apply(lambda x: list(None if not c else countries_dict[c] for c in x))"
   ]
  },
  {
   "cell_type": "code",
   "execution_count": 12,
   "id": "cec94a02",
   "metadata": {},
   "outputs": [],
   "source": [
    "def select_first_from_list(values, depth=1) -> list:\n",
    "    temp_values = list('None' if v == [] else v[0] for v in values)\n",
    "            \n",
    "    if depth == 1:\n",
    "        return temp_values\n",
    "    else:\n",
    "        return select_first_from_list(temp_values, depth=depth-1)"
   ]
  },
  {
   "cell_type": "code",
   "execution_count": 13,
   "id": "4ba84528",
   "metadata": {},
   "outputs": [],
   "source": [
    "df['citizenship_first'] = select_first_from_list(values=df['citizenship'])\n",
    "df['occupation_first'] = select_first_from_list(values=df['occupations'], depth=2)\n",
    "df['gender_first'] = select_first_from_list(values=df['gender'])\n",
    "df['birth_first'] = select_first_from_list(values=df['birth'])"
   ]
  },
  {
   "cell_type": "code",
   "execution_count": 14,
   "id": "06a1ef55",
   "metadata": {},
   "outputs": [],
   "source": [
    "df['year'] = df['d'].apply(lambda x: x[:4])\n",
    "df['month'] = df['d'].apply(lambda x: x[5:7])"
   ]
  },
  {
   "cell_type": "code",
   "execution_count": 15,
   "id": "4ab789e0",
   "metadata": {},
   "outputs": [
    {
     "data": {
      "text/html": [
       "<div>\n",
       "<style scoped>\n",
       "    .dataframe tbody tr th:only-of-type {\n",
       "        vertical-align: middle;\n",
       "    }\n",
       "\n",
       "    .dataframe tbody tr th {\n",
       "        vertical-align: top;\n",
       "    }\n",
       "\n",
       "    .dataframe thead th {\n",
       "        text-align: right;\n",
       "    }\n",
       "</style>\n",
       "<table border=\"1\" class=\"dataframe\">\n",
       "  <thead>\n",
       "    <tr style=\"text-align: right;\">\n",
       "      <th></th>\n",
       "      <th>q</th>\n",
       "      <th>d</th>\n",
       "      <th>id</th>\n",
       "      <th>s</th>\n",
       "      <th>o</th>\n",
       "      <th>gender</th>\n",
       "      <th>birth</th>\n",
       "      <th>occupation_ids</th>\n",
       "      <th>citizenship_id</th>\n",
       "      <th>occupations</th>\n",
       "      <th>citizenship</th>\n",
       "      <th>citizenship_first</th>\n",
       "      <th>occupation_first</th>\n",
       "      <th>gender_first</th>\n",
       "      <th>birth_first</th>\n",
       "      <th>year</th>\n",
       "      <th>month</th>\n",
       "    </tr>\n",
       "  </thead>\n",
       "  <tbody>\n",
       "    <tr>\n",
       "      <th>0</th>\n",
       "      <td>will be playing a lot of the tracks from micro...</td>\n",
       "      <td>2008-12-02 17:59:33</td>\n",
       "      <td>[Q2359518]</td>\n",
       "      <td>lockett pundt</td>\n",
       "      <td>1</td>\n",
       "      <td>[male]</td>\n",
       "      <td>[+1982-10-07T00:00:00Z]</td>\n",
       "      <td>[[Q855091]]</td>\n",
       "      <td>[Q30]</td>\n",
       "      <td>[[guitarist]]</td>\n",
       "      <td>[united states of america]</td>\n",
       "      <td>united states of america</td>\n",
       "      <td>guitarist</td>\n",
       "      <td>male</td>\n",
       "      <td>+1982-10-07T00:00:00Z</td>\n",
       "      <td>2008</td>\n",
       "      <td>12</td>\n",
       "    </tr>\n",
       "    <tr>\n",
       "      <th>1</th>\n",
       "      <td>the corporation looks a bit concerned there te...</td>\n",
       "      <td>2008-10-16 01:39:41</td>\n",
       "      <td>[Q52607733]</td>\n",
       "      <td>tessa martin</td>\n",
       "      <td>2</td>\n",
       "      <td>[female]</td>\n",
       "      <td>[None]</td>\n",
       "      <td>[[Q2500638]]</td>\n",
       "      <td>[None]</td>\n",
       "      <td>[[creator]]</td>\n",
       "      <td>[None]</td>\n",
       "      <td>None</td>\n",
       "      <td>creator</td>\n",
       "      <td>female</td>\n",
       "      <td>None</td>\n",
       "      <td>2008</td>\n",
       "      <td>10</td>\n",
       "    </tr>\n",
       "    <tr>\n",
       "      <th>2</th>\n",
       "      <td>the broker who supposed a large shareholder ha...</td>\n",
       "      <td>2008-12-01 10:39:05</td>\n",
       "      <td>[Q16148910, Q19938265, Q313918, Q4771995, Q477...</td>\n",
       "      <td>anthony anderson</td>\n",
       "      <td>1</td>\n",
       "      <td>[male, male, male, male, male]</td>\n",
       "      <td>[+1901-00-00T00:00:00Z, +1981-11-12T00:00:00Z,...</td>\n",
       "      <td>[[Q3282637], [Q3665646], [Q245068, Q10800557, ...</td>\n",
       "      <td>[None, Q30, Q30, Q30, Q145]</td>\n",
       "      <td>[[film producer], [sport], [comedian, actor, a...</td>\n",
       "      <td>[None, united states of america, united states...</td>\n",
       "      <td>None</td>\n",
       "      <td>film producer</td>\n",
       "      <td>male</td>\n",
       "      <td>+1901-00-00T00:00:00Z</td>\n",
       "      <td>2008</td>\n",
       "      <td>12</td>\n",
       "    </tr>\n",
       "    <tr>\n",
       "      <th>3</th>\n",
       "      <td>whining and bitching and am a sore loser</td>\n",
       "      <td>2008-11-05 07:41:00</td>\n",
       "      <td>[Q76]</td>\n",
       "      <td>barack obama</td>\n",
       "      <td>2</td>\n",
       "      <td>[male]</td>\n",
       "      <td>[+1961-08-04T00:00:00Z]</td>\n",
       "      <td>[[Q82955, Q40348, Q15958642, Q28532974, Q37243...</td>\n",
       "      <td>[Q30]</td>\n",
       "      <td>[[politician, lawyer, political writer, commun...</td>\n",
       "      <td>[united states of america]</td>\n",
       "      <td>united states of america</td>\n",
       "      <td>politician</td>\n",
       "      <td>male</td>\n",
       "      <td>+1961-08-04T00:00:00Z</td>\n",
       "      <td>2008</td>\n",
       "      <td>11</td>\n",
       "    </tr>\n",
       "    <tr>\n",
       "      <th>4</th>\n",
       "      <td>everybody is a bit concerned with the economy ...</td>\n",
       "      <td>2008-10-17 01:25:29</td>\n",
       "      <td>[Q17180637]</td>\n",
       "      <td>jake hansen</td>\n",
       "      <td>3</td>\n",
       "      <td>[male]</td>\n",
       "      <td>[+1989-08-21T00:00:00Z]</td>\n",
       "      <td>[[Q11774891]]</td>\n",
       "      <td>[Q30]</td>\n",
       "      <td>[[sport]]</td>\n",
       "      <td>[united states of america]</td>\n",
       "      <td>united states of america</td>\n",
       "      <td>sport</td>\n",
       "      <td>male</td>\n",
       "      <td>+1989-08-21T00:00:00Z</td>\n",
       "      <td>2008</td>\n",
       "      <td>10</td>\n",
       "    </tr>\n",
       "  </tbody>\n",
       "</table>\n",
       "</div>"
      ],
      "text/plain": [
       "                                                   q                    d  \\\n",
       "0  will be playing a lot of the tracks from micro...  2008-12-02 17:59:33   \n",
       "1  the corporation looks a bit concerned there te...  2008-10-16 01:39:41   \n",
       "2  the broker who supposed a large shareholder ha...  2008-12-01 10:39:05   \n",
       "3           whining and bitching and am a sore loser  2008-11-05 07:41:00   \n",
       "4  everybody is a bit concerned with the economy ...  2008-10-17 01:25:29   \n",
       "\n",
       "                                                  id                 s  o  \\\n",
       "0                                         [Q2359518]     lockett pundt  1   \n",
       "1                                        [Q52607733]      tessa martin  2   \n",
       "2  [Q16148910, Q19938265, Q313918, Q4771995, Q477...  anthony anderson  1   \n",
       "3                                              [Q76]      barack obama  2   \n",
       "4                                        [Q17180637]       jake hansen  3   \n",
       "\n",
       "                           gender  \\\n",
       "0                          [male]   \n",
       "1                        [female]   \n",
       "2  [male, male, male, male, male]   \n",
       "3                          [male]   \n",
       "4                          [male]   \n",
       "\n",
       "                                               birth  \\\n",
       "0                            [+1982-10-07T00:00:00Z]   \n",
       "1                                             [None]   \n",
       "2  [+1901-00-00T00:00:00Z, +1981-11-12T00:00:00Z,...   \n",
       "3                            [+1961-08-04T00:00:00Z]   \n",
       "4                            [+1989-08-21T00:00:00Z]   \n",
       "\n",
       "                                      occupation_ids  \\\n",
       "0                                        [[Q855091]]   \n",
       "1                                       [[Q2500638]]   \n",
       "2  [[Q3282637], [Q3665646], [Q245068, Q10800557, ...   \n",
       "3  [[Q82955, Q40348, Q15958642, Q28532974, Q37243...   \n",
       "4                                      [[Q11774891]]   \n",
       "\n",
       "                citizenship_id  \\\n",
       "0                        [Q30]   \n",
       "1                       [None]   \n",
       "2  [None, Q30, Q30, Q30, Q145]   \n",
       "3                        [Q30]   \n",
       "4                        [Q30]   \n",
       "\n",
       "                                         occupations  \\\n",
       "0                                      [[guitarist]]   \n",
       "1                                        [[creator]]   \n",
       "2  [[film producer], [sport], [comedian, actor, a...   \n",
       "3  [[politician, lawyer, political writer, commun...   \n",
       "4                                          [[sport]]   \n",
       "\n",
       "                                         citizenship  \\\n",
       "0                         [united states of america]   \n",
       "1                                             [None]   \n",
       "2  [None, united states of america, united states...   \n",
       "3                         [united states of america]   \n",
       "4                         [united states of america]   \n",
       "\n",
       "          citizenship_first occupation_first gender_first  \\\n",
       "0  united states of america        guitarist         male   \n",
       "1                      None          creator       female   \n",
       "2                      None    film producer         male   \n",
       "3  united states of america       politician         male   \n",
       "4  united states of america            sport         male   \n",
       "\n",
       "             birth_first  year month  \n",
       "0  +1982-10-07T00:00:00Z  2008    12  \n",
       "1                   None  2008    10  \n",
       "2  +1901-00-00T00:00:00Z  2008    12  \n",
       "3  +1961-08-04T00:00:00Z  2008    11  \n",
       "4  +1989-08-21T00:00:00Z  2008    10  "
      ]
     },
     "execution_count": 15,
     "metadata": {},
     "output_type": "execute_result"
    }
   ],
   "source": [
    "df.head()"
   ]
  },
  {
   "cell_type": "code",
   "execution_count": 16,
   "id": "6ec028cf",
   "metadata": {},
   "outputs": [
    {
     "data": {
      "image/png": "[encoded data removed]",
      "text/plain": [
       "<Figure size 432x288 with 1 Axes>"
      ]
     },
     "metadata": {
      "needs_background": "light"
     },
     "output_type": "display_data"
    }
   ],
   "source": [
    "plt.plot(df.groupby('year')['q'].count())\n",
    "plt.show()"
   ]
  },
  {
   "cell_type": "code",
   "execution_count": 17,
   "id": "70bba8b9",
   "metadata": {},
   "outputs": [
    {
     "data": {
      "text/plain": [
       "month  year\n",
       "01     2009      59\n",
       "       2010     105\n",
       "       2011     121\n",
       "       2012      86\n",
       "       2013      90\n",
       "               ... \n",
       "12     2013     340\n",
       "       2014     224\n",
       "       2015     336\n",
       "       2016     332\n",
       "       2017    2253\n",
       "Name: q, Length: 112, dtype: int64"
      ]
     },
     "execution_count": 17,
     "metadata": {},
     "output_type": "execute_result"
    }
   ],
   "source": [
    "df.groupby(['month', 'year'])['q'].count()"
   ]
  },
  {
   "cell_type": "markdown",
   "id": "115ab09e",
   "metadata": {},
   "source": [
    "---"
   ]
  },
  {
   "cell_type": "markdown",
   "id": "9f85af0e",
   "metadata": {},
   "source": [
    "#### We can see 2 noticeable peaks, in 2014 and 2017. We want to understand the following things\n",
    "\n",
    "- who (by occupation) was talking about the ctyptocurrencies/bitcoins/etc throughout the years\n",
    "- first thing we want to understand is: why peaks are exactly in those years. What happened there that made such a peak "
   ]
  },
  {
   "cell_type": "code",
   "execution_count": 18,
   "id": "16155604",
   "metadata": {},
   "outputs": [
    {
     "data": {
      "text/plain": [
       "year  occupation_first\n",
       "2017  sport               2080\n",
       "2014  sport                784\n",
       "2017  politician           740\n",
       "2015  sport                683\n",
       "2017  None                 553\n",
       "                          ... \n",
       "2013  canoeist               1\n",
       "      catholic friar         1\n",
       "      chairperson            1\n",
       "      chemist                1\n",
       "      speed skater           1\n",
       "Name: q, Length: 1790, dtype: int64"
      ]
     },
     "execution_count": 18,
     "metadata": {},
     "output_type": "execute_result"
    }
   ],
   "source": [
    "df.groupby(['year', 'occupation_first'])['q'].count().sort_values(ascending=False)"
   ]
  },
  {
   "cell_type": "code",
   "execution_count": 19,
   "id": "47efaadc",
   "metadata": {},
   "outputs": [
    {
     "data": {
      "text/plain": [
       "year  s               \n",
       "2017  Jamie Dimon         140\n",
       "      Charlie Lee         129\n",
       "      Tom Lee              86\n",
       "      Vitalik Buterin      79\n",
       "2014  Tony Gallippi        77\n",
       "                         ... \n",
       "2013  Blake Skjellerup      1\n",
       "      Bob Brady             1\n",
       "      Bob Kelly             1\n",
       "      Bob McPhail           1\n",
       "2017  official page         1\n",
       "Name: q, Length: 12744, dtype: int64"
      ]
     },
     "execution_count": 19,
     "metadata": {},
     "output_type": "execute_result"
    }
   ],
   "source": [
    "df.groupby(['year', 's'])['q'].count().sort_values(ascending=False)"
   ]
  },
  {
   "cell_type": "markdown",
   "id": "1eba92e2",
   "metadata": {},
   "source": [
    "#### Now we need to find same names and occupancies (...)"
   ]
  },
  {
   "cell_type": "code",
   "execution_count": 20,
   "id": "87ccaf2c",
   "metadata": {},
   "outputs": [],
   "source": [
    "n = len(occ_set)\n",
    "occ_lst = list(occ_set)\n",
    "dist = np.zeros((n, n))\n",
    "\n",
    "for i in range(n):\n",
    "    for j in range(n):\n",
    "        dist[i, j] = fuzz.partial_ratio(occupations_dict[occ_lst[i]], occupations_dict[occ_lst[j]]) > 90"
   ]
  },
  {
   "cell_type": "code",
   "execution_count": 21,
   "id": "17aef9ab",
   "metadata": {},
   "outputs": [],
   "source": [
    "G = networkx.convert_matrix.from_numpy_matrix(dist)\n",
    "\n",
    "cliques = list(networkx.find_cliques(G))\n",
    "cliques_text = list(list(map(lambda x: occupations_dict[occ_lst[x]], c)) for c in cliques)"
   ]
  },
  {
   "cell_type": "code",
   "execution_count": 22,
   "id": "caf903e6",
   "metadata": {},
   "outputs": [
    {
     "name": "stdout",
     "output_type": "stream",
     "text": [
      "['museum director', 'director', 'rector', 'director']\n",
      "['video game', 'video game', 'video game', 'video game', 'video game', 'video game', 'video game', 'video game', 'video game', 'video game', 'video game', 'video game', 'video game']\n",
      "['roman catholic priest', 'catholic priest', 'priest']\n",
      "['film director', 'director', 'rector', 'director']\n",
      "['assistant director', 'art director', 'director', 'rector', 'director']\n",
      "['general manager', 'manager', 'manager', 'manager', 'general manager']\n",
      "['diarist', 'artist', 'artist', 'artist', 'artist', 'artist', 'artist', 'artist', 'artist', 'artist', 'artist', 'artist', 'artist', 'artist', 'artist', 'artist', 'artist', 'artist', 'artist', 'artist', 'artist', 'artist', 'artist', 'artist', 'artist', 'artist', 'artist', 'artist', 'artist', 'artist', 'artist', 'artist', 'artist', 'artist']\n",
      "['military historian', 'historian', 'art historian']\n",
      "['casting director', 'director', 'rector', 'director']\n",
      "['high school teacher', 'teacher', 'school teacher']\n",
      "['actor', 'actor', 'actor', 'actor', 'actor', 'actor', 'actor', 'actor', 'actor', 'actor', 'actor', 'actor']\n",
      "['director', 'rector', 'director', 'creative director']\n",
      "['director', 'rector', 'director', 'choir director']\n",
      "['director', 'rector', 'director', 'television director']\n",
      "['director', 'rector', 'director', 'music video director']\n",
      "['director', 'rector', 'director', 'executive director', 'executive director']\n",
      "['director', 'rector', 'director', 'operating director']\n",
      "['director', 'rector', 'director', 'director of audiography']\n",
      "['director', 'rector', 'director', 'theatrical director']\n",
      "['director', 'rector', 'director', 'technology director']\n",
      "['public health scientist', 'scientist', 'earth scientist']\n",
      "['executive director', 'executive', 'executive director']\n",
      "['security consultant', 'consultant', 'computer security consultant']\n",
      "['fund manager', 'manager', 'manager', 'manager', 'hedge fund manager']\n",
      "['ethnologist', 'technologist', 'biotechnologist']\n",
      "['literary historian', 'historian', 'art historian']\n",
      "['talent manager', 'manager', 'manager', 'manager']\n",
      "['campaign manager', 'manager', 'manager', 'manager']\n",
      "['theatre manager', 'manager', 'manager', 'manager']\n",
      "['writer', 'songwriter', 'singer-songwriter']\n",
      "['manager', 'manager', 'manager', 'hotel manager']\n",
      "['manager', 'manager', 'manager', 'team manager']\n",
      "['manager', 'manager', 'manager', 'bank manager']\n"
     ]
    }
   ],
   "source": [
    "for l in cliques_text:\n",
    "    if 50 >=len(l) > 2:\n",
    "        print(l)"
   ]
  },
  {
   "cell_type": "code",
   "execution_count": 23,
   "id": "94949c0a",
   "metadata": {},
   "outputs": [],
   "source": [
    "# https://stackoverflow.com/questions/4842613/merge-lists-that-share-common-elements\n",
    "def to_graph(l):\n",
    "    G = networkx.Graph()\n",
    "    for part in l:\n",
    "        # each sublist is a bunch of nodes\n",
    "        G.add_nodes_from(part)\n",
    "        # it also implies a number of edges:\n",
    "        G.add_edges_from(to_edges(part))\n",
    "    return G\n",
    "\n",
    "def to_edges(l):\n",
    "    it = iter(l)\n",
    "    last = next(it)\n",
    "\n",
    "    for current in it:\n",
    "        yield last, current\n",
    "        last = current"
   ]
  },
  {
   "cell_type": "code",
   "execution_count": 24,
   "id": "2b487a59",
   "metadata": {},
   "outputs": [],
   "source": [
    "G = to_graph(cliques)\n",
    "simmilar_occupasions = list(connected_components(G))\n",
    "SIMILAR_OCCUPATIONS_DICT = {i: list(map(lambda x: occupations_dict[occ_lst[x]], c)) for i,c in enumerate(simmilar_occupasions)}"
   ]
  },
  {
   "cell_type": "code",
   "execution_count": 25,
   "id": "7ff85859",
   "metadata": {},
   "outputs": [],
   "source": [
    "def find_occupation_group(occupation):\n",
    "    for i, group_occupations in SIMILAR_OCCUPATIONS_DICT.items():\n",
    "        if occupation in group_occupations:\n",
    "            return i"
   ]
  },
  {
   "cell_type": "code",
   "execution_count": 26,
   "id": "2c797ab8",
   "metadata": {},
   "outputs": [],
   "source": [
    "df['occupation_first_group'] = df['occupation_first'].apply(lambda x: find_occupation_group(x))"
   ]
  },
  {
   "cell_type": "code",
   "execution_count": 27,
   "id": "82e5594c",
   "metadata": {},
   "outputs": [
    {
     "data": {
      "text/plain": [
       "(509, 371)"
      ]
     },
     "execution_count": 27,
     "metadata": {},
     "output_type": "execute_result"
    }
   ],
   "source": [
    "len(df['occupation_first'].unique()), len(df['occupation_first_group'].unique())"
   ]
  },
  {
   "cell_type": "markdown",
   "id": "ca3956f9",
   "metadata": {},
   "source": [
    "---"
   ]
  },
  {
   "cell_type": "markdown",
   "id": "bb3cb070",
   "metadata": {},
   "source": [
    "##### Now we can group by occupation category"
   ]
  },
  {
   "cell_type": "code",
   "execution_count": 28,
   "id": "b1b272eb",
   "metadata": {},
   "outputs": [
    {
     "data": {
      "text/plain": [
       "occupation_first_group\n",
       "3.0      5873\n",
       "553.0    1972\n",
       "131.0    1351\n",
       "43.0     1339\n",
       "423.0     965\n",
       "10.0      916\n",
       "341.0     891\n",
       "Name: q, dtype: int64"
      ]
     },
     "execution_count": 28,
     "metadata": {},
     "output_type": "execute_result"
    }
   ],
   "source": [
    "df.groupby('occupation_first_group')['q'].count().sort_values(ascending=False).head(7)"
   ]
  },
  {
   "cell_type": "code",
   "execution_count": 29,
   "id": "f04d8d8b",
   "metadata": {},
   "outputs": [
    {
     "data": {
      "text/plain": [
       "(['ceramicist'], ['bioinformatician'])"
      ]
     },
     "execution_count": 29,
     "metadata": {},
     "output_type": "execute_result"
    }
   ],
   "source": [
    "SIMILAR_OCCUPATIONS_DICT[112], SIMILAR_OCCUPATIONS_DICT[114]"
   ]
  },
  {
   "cell_type": "markdown",
   "id": "4c82ec1c",
   "metadata": {},
   "source": [
    "---"
   ]
  },
  {
   "cell_type": "code",
   "execution_count": 30,
   "id": "efda0cb3",
   "metadata": {},
   "outputs": [],
   "source": [
    "a = df.groupby(['year'], as_index=False)"
   ]
  },
  {
   "cell_type": "code",
   "execution_count": 31,
   "id": "95fb8b64",
   "metadata": {},
   "outputs": [
    {
     "name": "stdout",
     "output_type": "stream",
     "text": [
      "---- 2008 ----\n",
      "occupation_first_group\n",
      "3.0      77\n",
      "553.0    42\n",
      "43.0     27\n",
      "131.0    20\n",
      "10.0     12\n",
      "Name: q, dtype: int64\n",
      "---- 2009 ----\n",
      "occupation_first_group\n",
      "3.0      303\n",
      "553.0    140\n",
      "43.0      97\n",
      "131.0     91\n",
      "10.0      29\n",
      "Name: q, dtype: int64\n",
      "---- 2010 ----\n",
      "occupation_first_group\n",
      "3.0      350\n",
      "553.0    133\n",
      "43.0      77\n",
      "131.0     60\n",
      "21.0      26\n",
      "Name: q, dtype: int64\n",
      "---- 2011 ----\n",
      "occupation_first_group\n",
      "3.0      349\n",
      "131.0    155\n",
      "553.0    126\n",
      "43.0      76\n",
      "1.0       26\n",
      "Name: q, dtype: int64\n",
      "---- 2012 ----\n",
      "occupation_first_group\n",
      "3.0      327\n",
      "553.0    135\n",
      "43.0      83\n",
      "131.0     81\n",
      "130.0     44\n",
      "Name: q, dtype: int64\n",
      "---- 2013 ----\n",
      "occupation_first_group\n",
      "3.0      450\n",
      "341.0    123\n",
      "43.0     120\n",
      "553.0    112\n",
      "131.0    110\n",
      "Name: q, dtype: int64\n",
      "---- 2014 ----\n",
      "occupation_first_group\n",
      "3.0      784\n",
      "553.0    234\n",
      "423.0    228\n",
      "43.0     199\n",
      "131.0    180\n",
      "Name: q, dtype: int64\n",
      "---- 2015 ----\n",
      "occupation_first_group\n",
      "3.0      683\n",
      "553.0    164\n",
      "131.0    120\n",
      "43.0     116\n",
      "21.0     115\n",
      "Name: q, dtype: int64\n",
      "---- 2016 ----\n",
      "occupation_first_group\n",
      "3.0      470\n",
      "553.0    146\n",
      "131.0    121\n",
      "21.0     118\n",
      "43.0     106\n",
      "Name: q, dtype: int64\n",
      "---- 2017 ----\n",
      "occupation_first_group\n",
      "3.0      2080\n",
      "553.0     740\n",
      "423.0     459\n",
      "43.0      438\n",
      "355.0     427\n",
      "Name: q, dtype: int64\n"
     ]
    }
   ],
   "source": [
    "for group in a.groups:\n",
    "    print('----', group, '----')\n",
    "    print(a.get_group(group).groupby('occupation_first_group').count().nlargest(5, 'q')['q'])"
   ]
  },
  {
   "cell_type": "code",
   "execution_count": null,
   "id": "6d8e59b4",
   "metadata": {},
   "outputs": [],
   "source": []
  }
 ],
 "metadata": {
  "kernelspec": {
   "display_name": "Python 3 (ipykernel)",
   "language": "python",
   "name": "python3"
  },
  "language_info": {
   "codemirror_mode": {
    "name": "ipython",
    "version": 3
   },
   "file_extension": ".py",
   "mimetype": "text/x-python",
   "name": "python",
   "nbconvert_exporter": "python",
   "pygments_lexer": "ipython3",
   "version": "3.7.3"
  }
 },
 "nbformat": 4,
 "nbformat_minor": 5
}
