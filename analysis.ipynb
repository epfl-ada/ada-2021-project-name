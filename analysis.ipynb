{
 "cells": [
  {
   "cell_type": "code",
   "execution_count": 1,
   "id": "b188179e",
   "metadata": {},
   "outputs": [
    {
     "name": "stdout",
     "output_type": "stream",
     "text": [
      "Number of countries: 180\n",
      "Number of occupations: 1249\n"
     ]
    }
   ],
   "source": [
    "import numpy as np\n",
    "import pandas as pd\n",
    "import matplotlib.pyplot as plt\n",
    "from collections import defaultdict, Counter\n",
    "from copy import deepcopy\n",
    "\n",
    "from scripts.utils import drop_similar, update_occupations, filter_rare_occupations, filter_outlier_wikidata\n",
    "\n",
    "from fuzzywuzzy import fuzz\n",
    "\n",
    "\n",
    "from os.path import join\n",
    "import json\n",
    "\n",
    "DATA_PATH = 'data'\n",
    "\n",
    "with open(join(DATA_PATH, 'countries_vocab.json'), 'r', encoding=\"utf-8\") as f:\n",
    "    countries_dict = {k: str(v.lower().strip()) for k, v in json.loads(f.readline()).items()}\n",
    "    coun_num = len(set(countries_dict.values()))\n",
    "    print(f\"Number of countries: {coun_num}\")\n",
    "    \n",
    "with open(join(DATA_PATH, 'occupations_vocab.json'), 'r', encoding=\"utf-8\") as f:\n",
    "    occupations_dict = {k: str(v.lower().strip()) for k, v in json.loads(f.readline()).items()}\n",
    "    occ_num = len(set(occupations_dict.values()))\n",
    "    print(f\"Number of occupations: {occ_num}\")\n",
    "df = pd.read_json(join(DATA_PATH, 'union.json'), lines=True)\n",
    "df[\"s\"] = df[\"s\"].apply(lambda x: x.lower())\n",
    "del df[\"id\"]"
   ]
  },
  {
   "cell_type": "markdown",
   "id": "35410858",
   "metadata": {},
   "source": [
    "> First of all we will drop the persons, which was not found in Wikidata. This persons should have a special attention, especially those, who have a big number of quotations. However for them we will need to manually join the information about a certain person, since their QID was not found in the current version Wikidata."
   ]
  },
  {
   "cell_type": "code",
   "execution_count": 2,
   "id": "f63aafde",
   "metadata": {},
   "outputs": [],
   "source": [
    "df = df[~df.apply(lambda x: not(x[\"gender\"] or x[\"birth\"] or x[\"occupation_ids\"] or x[\"citizenship_id\"]), axis=1)]"
   ]
  },
  {
   "cell_type": "markdown",
   "id": "add862d2",
   "metadata": {},
   "source": [
    "> Next we will get rid of quotes, which are not related to `bitcoin` and `crypto`. For instance quates, containing subphrases like: `little bit`, `bitching`"
   ]
  },
  {
   "cell_type": "code",
   "execution_count": 3,
   "id": "81d31bd4",
   "metadata": {},
   "outputs": [],
   "source": [
    " df = df[df[\"q\"].apply(\n",
    "     lambda x: (\" a bit \" not in x) and \n",
    "               (\" little bit \" not in x) and \n",
    "               (\" least bit concerned \" not in x) and\n",
    "               (\" every bit confident \" not in x) and \n",
    "               (\" the least bit coincidental \" not in x) and \n",
    "               ( \"bitching \" not in x) and\n",
    "               (\"bitching \" not in x) and\n",
    "               (\" bitching\" not in x) and\n",
    "               ( \"bitchin \" not in x) and\n",
    "               (\"bitchin \" not in x) and\n",
    "               (\" bitchin\" not in x) and\n",
    "               (\" cryptus \" not in x) and\n",
    "               (\" cryptus\" not in x) and\n",
    "               (\"cryptus \" not in x) and\n",
    "               (\" cryptic \" not in x) and\n",
    "               (\" cryptic\" not in x) and \n",
    "               (\"cryptic \" not in x) and \n",
    "               (\" cryptum \" not in x) and \n",
    "               (\" cryptum\" not in x) and \n",
    "               (\"cryptum \" not in x) and \n",
    "               (\" cryptex \" not in x) and  \n",
    "               (\" cryptex\" not in x) and  \n",
    "               (\"cryptex \" not in x) and \n",
    "               (\" cryptoriana \" not in x) and \n",
    "               (\" cryptoriana\" not in x) and \n",
    "               (\"cryptoriana \" not in x) and \n",
    "               (\" cryptonazi \" not in x) and \n",
    "               (\" cryptonazi\" not in x) and \n",
    "               (\"cryptonazi \" not in x) and \n",
    "               (\" crypto-nazi \" not in x) and \n",
    "               (\" crypto-nazi\" not in x) and \n",
    "               (\"crypto-nazi \" not in x) and \n",
    "               (\" crypto nazi \" not in x) and \n",
    "               (\" crypto nazi\" not in x) and \n",
    "               (\"crypto nazi \" not in x) and \n",
    "               (\" cryptozoology \" not in x) and\n",
    "               (\" cryptozoology\" not in x) and\n",
    "               (\"cryptozoology \" not in x) and\n",
    "               (\" cryptozoologi \" not in x) and\n",
    "               (\" cryptozoologi\" not in x) and\n",
    "               (\"cryptozoologi \" not in x) and\n",
    "               (\" cryptochrome \" not in x) and\n",
    "               (\" cryptochrome\" not in x) and\n",
    "               (\"cryptochrome \" not in x) and\n",
    "               (\" bitbucket \" not in x) and  \n",
    "               (\" bitbucket\" not in x) and  \n",
    "               (\"bitbucket \" not in x) and  \n",
    "               (\" bitwarden \" not in x) and\n",
    "               (\" bitwarden\" not in x) and\n",
    "               (\"bitwarden \" not in x)\n",
    "     )\n",
    "]"
   ]
  },
  {
   "cell_type": "markdown",
   "id": "12789175",
   "metadata": {},
   "source": [
    "> Lets then preprocess the list of occupations we have. As can be observerd, there are multiple occupations containing similar words: e.g. `music teacher`, `biology teacher`, `school teacher`"
   ]
  },
  {
   "cell_type": "code",
   "execution_count": 4,
   "id": "bb4e1920",
   "metadata": {},
   "outputs": [
    {
     "data": {
      "text/plain": [
       "[('player', 50),\n",
       " ('artist', 38),\n",
       " ('designer', 22),\n",
       " ('manager', 22),\n",
       " ('coach', 22)]"
      ]
     },
     "execution_count": 4,
     "metadata": {},
     "output_type": "execute_result"
    }
   ],
   "source": [
    "from collections import Counter\n",
    "\n",
    "occupations = [word.split() for word in occupations_dict.values()]\n",
    "Counter(sum(occupations, [])).most_common()[:5]"
   ]
  },
  {
   "cell_type": "markdown",
   "id": "1577df32",
   "metadata": {},
   "source": [
    "> We will join all the profession containing `artist`, `player`, `video game`. Moreover we will replace `chief executive officer` with `executive director` to distingfish them from `police officer`"
   ]
  },
  {
   "cell_type": "code",
   "execution_count": 5,
   "id": "f8e98190",
   "metadata": {},
   "outputs": [],
   "source": [
    "occupations_dict = update_occupations(occupations_dict)"
   ]
  },
  {
   "cell_type": "code",
   "execution_count": 6,
   "id": "681d100b",
   "metadata": {},
   "outputs": [
    {
     "data": {
      "text/plain": [
       "[('sport', 206),\n",
       " ('artist', 40),\n",
       " ('writer', 35),\n",
       " ('manager', 20),\n",
       " ('designer', 18)]"
      ]
     },
     "execution_count": 6,
     "metadata": {},
     "output_type": "execute_result"
    }
   ],
   "source": [
    "occupations = [word.split() for word in occupations_dict.values()]\n",
    "Counter(sum(occupations, [])).most_common()[:5]"
   ]
  },
  {
   "cell_type": "code",
   "execution_count": 7,
   "id": "313b1333",
   "metadata": {},
   "outputs": [
    {
     "data": {
      "text/html": [
       "<div>\n",
       "<style scoped>\n",
       "    .dataframe tbody tr th:only-of-type {\n",
       "        vertical-align: middle;\n",
       "    }\n",
       "\n",
       "    .dataframe tbody tr th {\n",
       "        vertical-align: top;\n",
       "    }\n",
       "\n",
       "    .dataframe thead th {\n",
       "        text-align: right;\n",
       "    }\n",
       "</style>\n",
       "<table border=\"1\" class=\"dataframe\">\n",
       "  <thead>\n",
       "    <tr style=\"text-align: right;\">\n",
       "      <th></th>\n",
       "      <th>q</th>\n",
       "      <th>d</th>\n",
       "      <th>s</th>\n",
       "      <th>o</th>\n",
       "      <th>gender</th>\n",
       "      <th>birth</th>\n",
       "      <th>occupation_ids</th>\n",
       "      <th>citizenship_id</th>\n",
       "    </tr>\n",
       "  </thead>\n",
       "  <tbody>\n",
       "    <tr>\n",
       "      <th>0</th>\n",
       "      <td>will be playing a lot of the tracks from micro...</td>\n",
       "      <td>2008-12-02 17:59:33</td>\n",
       "      <td>lockett pundt</td>\n",
       "      <td>1</td>\n",
       "      <td>[male]</td>\n",
       "      <td>[+1982-10-07T00:00:00Z]</td>\n",
       "      <td>[[Q855091]]</td>\n",
       "      <td>[Q30]</td>\n",
       "    </tr>\n",
       "    <tr>\n",
       "      <th>7</th>\n",
       "      <td>i saw steppenwolf do the cryptogram ive seen w...</td>\n",
       "      <td>2008-10-24 20:45:16</td>\n",
       "      <td>raúl esparza</td>\n",
       "      <td>1</td>\n",
       "      <td>[male]</td>\n",
       "      <td>[+1970-10-24T00:00:00Z]</td>\n",
       "      <td>[[Q177220, Q2259451, Q10800557, Q10798782, Q33...</td>\n",
       "      <td>[Q30]</td>\n",
       "    </tr>\n",
       "    <tr>\n",
       "      <th>8</th>\n",
       "      <td>while we need to identify and prohibit conduct...</td>\n",
       "      <td>2008-09-08 15:59:54</td>\n",
       "      <td>thomas barnett</td>\n",
       "      <td>1</td>\n",
       "      <td>[male, male, male]</td>\n",
       "      <td>[+1962-01-01T00:00:00Z, +1799-01-01T00:00:00Z,...</td>\n",
       "      <td>[[Q16947320, Q1238570, Q36180, Q8246794], None...</td>\n",
       "      <td>[Q30, None, Q30]</td>\n",
       "    </tr>\n",
       "    <tr>\n",
       "      <th>9</th>\n",
       "      <td>this is the third time in as many years that p...</td>\n",
       "      <td>2008-09-02 08:19:53</td>\n",
       "      <td>albert owen</td>\n",
       "      <td>2</td>\n",
       "      <td>[male]</td>\n",
       "      <td>[+1959-08-10T00:00:00Z]</td>\n",
       "      <td>[[Q82955]]</td>\n",
       "      <td>[Q145]</td>\n",
       "    </tr>\n",
       "    <tr>\n",
       "      <th>13</th>\n",
       "      <td>this can impact on the quality of the water we...</td>\n",
       "      <td>2008-11-24 18:32:36</td>\n",
       "      <td>peter perry</td>\n",
       "      <td>2</td>\n",
       "      <td>[male]</td>\n",
       "      <td>[+1936-04-11T00:00:00Z]</td>\n",
       "      <td>[[Q937857]]</td>\n",
       "      <td>[Q145]</td>\n",
       "    </tr>\n",
       "  </tbody>\n",
       "</table>\n",
       "</div>"
      ],
      "text/plain": [
       "                                                    q                    d  \\\n",
       "0   will be playing a lot of the tracks from micro...  2008-12-02 17:59:33   \n",
       "7   i saw steppenwolf do the cryptogram ive seen w...  2008-10-24 20:45:16   \n",
       "8   while we need to identify and prohibit conduct...  2008-09-08 15:59:54   \n",
       "9   this is the third time in as many years that p...  2008-09-02 08:19:53   \n",
       "13  this can impact on the quality of the water we...  2008-11-24 18:32:36   \n",
       "\n",
       "                 s  o              gender  \\\n",
       "0    lockett pundt  1              [male]   \n",
       "7     raúl esparza  1              [male]   \n",
       "8   thomas barnett  1  [male, male, male]   \n",
       "9      albert owen  2              [male]   \n",
       "13     peter perry  2              [male]   \n",
       "\n",
       "                                                birth  \\\n",
       "0                             [+1982-10-07T00:00:00Z]   \n",
       "7                             [+1970-10-24T00:00:00Z]   \n",
       "8   [+1962-01-01T00:00:00Z, +1799-01-01T00:00:00Z,...   \n",
       "9                             [+1959-08-10T00:00:00Z]   \n",
       "13                            [+1936-04-11T00:00:00Z]   \n",
       "\n",
       "                                       occupation_ids    citizenship_id  \n",
       "0                                         [[Q855091]]             [Q30]  \n",
       "7   [[Q177220, Q2259451, Q10800557, Q10798782, Q33...             [Q30]  \n",
       "8   [[Q16947320, Q1238570, Q36180, Q8246794], None...  [Q30, None, Q30]  \n",
       "9                                          [[Q82955]]            [Q145]  \n",
       "13                                        [[Q937857]]            [Q145]  "
      ]
     },
     "execution_count": 7,
     "metadata": {},
     "output_type": "execute_result"
    }
   ],
   "source": [
    "df.head()"
   ]
  },
  {
   "cell_type": "markdown",
   "id": "cf8919c6-7496-4643-a681-ab39077c2cae",
   "metadata": {},
   "source": [
    ">Columns:  \n",
    "q = \"quote\"  \n",
    "d = \"date\"  \n",
    "s = \"speaker\"  \n",
    "o = \"occurancies\"  \n",
    "gender = gender of the speakers  \n",
    "birth = birth dates of the speakers  \n",
    "occupation_ids = wikidata ids of the speakers' occupancies  \n",
    "citizenship_id = wikidata ids of the speakers' citizenship\n"
   ]
  },
  {
   "cell_type": "markdown",
   "id": "30e2fff4",
   "metadata": {},
   "source": [
    "> Then we filter occupations, which occured only single time in the entire dataset, for instance, `ufc lightweight fighter`."
   ]
  },
  {
   "cell_type": "code",
   "execution_count": 8,
   "id": "00d3e2f4",
   "metadata": {},
   "outputs": [],
   "source": [
    "occ_freq = defaultdict(int)\n",
    "for occ_ids in df[\"occupation_ids\"].values:\n",
    "    if occ_ids is not None:\n",
    "        for occs in occ_ids:\n",
    "            if occs is not None:\n",
    "                for o in occs:\n",
    "                    occ_freq[o] += 1\n",
    "                \n",
    "df = df.apply(lambda x: filter_rare_occupations(x, occ_freq), axis=1)"
   ]
  },
  {
   "cell_type": "code",
   "execution_count": 9,
   "id": "0c1f6955",
   "metadata": {},
   "outputs": [
    {
     "name": "stdout",
     "output_type": "stream",
     "text": [
      "Reduced number of occupations: 869\n"
     ]
    }
   ],
   "source": [
    "occ_set = set()\n",
    "for occ_lsts in df[\"occupation_ids\"].values:\n",
    "    if occ_lsts is not None:\n",
    "        for lst in occ_lsts:\n",
    "            if lst is not None:\n",
    "                occ_set.update(lst)\n",
    "print(f\"Reduced number of occupations: {len(occ_set)}\")"
   ]
  },
  {
   "cell_type": "markdown",
   "id": "8d28daed",
   "metadata": {},
   "source": [
    "> Next we will fiter Wikidata pages without `occupation` or `citizenship`. Also we will filter `genders` and `citizenship`, which does not match the `gender` and `citizenship` of majority"
   ]
  },
  {
   "cell_type": "code",
   "execution_count": 10,
   "id": "cbeb4bf1",
   "metadata": {},
   "outputs": [
    {
     "name": "stdout",
     "output_type": "stream",
     "text": [
      "Percent of quotations in dataset, where more then one QID is joined 0.1838344011828487\n"
     ]
    }
   ],
   "source": [
    "df = df.apply(lambda x: filter_outlier_wikidata(x), axis=1)\n",
    "df = df[~df.apply(lambda x: not(x[\"gender\"] or x[\"birth\"] or x[\"occupation_ids\"] or x[\"citizenship_id\"]), axis=1)]\n",
    "percent = (df[\"citizenship_id\"].apply(len) > 1).sum() / len(df)\n",
    "\n",
    "print(f\"Percent of quotations in dataset, where more then one QID is joined {percent}\")  \n",
    "\n",
    "df[\"gender\"] = df[\"gender\"].apply(lambda x: x[0])\n",
    "df[\"citizenship_id\"] = df[\"citizenship_id\"].apply(lambda x: x[0])"
   ]
  },
  {
   "cell_type": "markdown",
   "id": "20dc0ac6",
   "metadata": {},
   "source": [
    "> Next we will split the dates"
   ]
  },
  {
   "cell_type": "code",
   "execution_count": 11,
   "id": "3fe698a0",
   "metadata": {},
   "outputs": [],
   "source": [
    "df['publish_year'] = df['d'].apply(lambda x: x[:4])\n",
    "df['publish_month'] = df['d'].apply(lambda x: x[5:7])"
   ]
  },
  {
   "cell_type": "markdown",
   "id": "f78c4cfe",
   "metadata": {},
   "source": [
    "> The first plot we build to validate if everything is correct is `number of occurancies` w.r.t. `publish year` "
   ]
  },
  {
   "cell_type": "code",
   "execution_count": 12,
   "id": "6ec028cf",
   "metadata": {},
   "outputs": [
    {
     "data": {
      "image/png": "[encoded data removed]",
      "text/plain": [
       "<Figure size 720x576 with 1 Axes>"
      ]
     },
     "metadata": {
      "needs_background": "light"
     },
     "output_type": "display_data"
    }
   ],
   "source": [
    "plt.figure(figsize=(10,8))\n",
    "plt.plot(df.groupby('publish_year')['o'].count())\n",
    "plt.xlabel(\"Year\")\n",
    "plt.ylabel(\"Occurances of a bitcoin-related quotes\")\n",
    "plt.grid()\n",
    "plt.show()"
   ]
  },
  {
   "cell_type": "markdown",
   "id": "ef206bd9",
   "metadata": {},
   "source": [
    "> Seems like everything is okey, since the two main increases in popularity of bitcoin was indeed in `2014` and `2017`, according to the `Google trends`"
   ]
  },
  {
   "cell_type": "markdown",
   "id": "38ab8b24",
   "metadata": {},
   "source": [
    "> The most cited pearsons also seems reasonable"
   ]
  },
  {
   "cell_type": "code",
   "execution_count": 13,
   "id": "47efaadc",
   "metadata": {},
   "outputs": [
    {
     "data": {
      "text/plain": [
       "s\n",
       "jamie dimon             665\n",
       "mark karpeles           626\n",
       "thomas peterffy         589\n",
       "craig wright            586\n",
       "adrian lee              585\n",
       "leah mcgrath goodman    504\n",
       "bobby lee               444\n",
       "gavin andresen          437\n",
       "tyler winklevoss        401\n",
       "roger ver               401\n",
       "Name: o, dtype: int64"
      ]
     },
     "execution_count": 13,
     "metadata": {},
     "output_type": "execute_result"
    }
   ],
   "source": [
    "df.groupby(['s']).sum()['o'].sort_values(ascending=False).head(10)"
   ]
  },
  {
   "cell_type": "markdown",
   "id": "1eba92e2",
   "metadata": {},
   "source": [
    "> Then we will reduce the number of occupations, since most of them are very simmilar. We will utilize `fuzzywuzzy` to find similar words. Then we will build a graph, where the vertices are the `occupations`, and adge between $o_i$ and $o_j$ exists if the similarity in terms of `fuzzywuzzy` metric is greater then a treshold."
   ]
  },
  {
   "cell_type": "code",
   "execution_count": 14,
   "id": "f46facb0",
   "metadata": {},
   "outputs": [],
   "source": [
    "import networkx\n",
    "from networkx.algorithms.components.connected import connected_components\n",
    "from fuzzywuzzy import fuzz\n",
    "from collections import defaultdict, Counter"
   ]
  },
  {
   "cell_type": "code",
   "execution_count": 15,
   "id": "ea4c1c42",
   "metadata": {},
   "outputs": [],
   "source": [
    "def to_graph(cliques):\n",
    "    G = networkx.Graph()\n",
    "    for cli in cliques:\n",
    "        G.add_nodes_from(cli)\n",
    "        G.add_edges_from(to_edges(cli))\n",
    "    return G\n",
    "\n",
    "def to_edges(l):\n",
    "    it = iter(l)\n",
    "    last = next(it)\n",
    "\n",
    "    for current in it:\n",
    "        yield last, current\n",
    "        last = current"
   ]
  },
  {
   "cell_type": "code",
   "execution_count": 16,
   "id": "577415a9",
   "metadata": {},
   "outputs": [],
   "source": [
    "occupations_dict = drop_similar(occupations_dict)"
   ]
  },
  {
   "cell_type": "code",
   "execution_count": 17,
   "id": "cb75c050",
   "metadata": {},
   "outputs": [
    {
     "data": {
      "text/plain": [
       "594"
      ]
     },
     "execution_count": 17,
     "metadata": {},
     "output_type": "execute_result"
    }
   ],
   "source": [
    "len(set(occupations_dict.values()))"
   ]
  },
  {
   "cell_type": "code",
   "execution_count": 18,
   "id": "565c52cf",
   "metadata": {},
   "outputs": [],
   "source": [
    "ids = set(sum([e for e in df[\"occupation_ids\"].values.sum() if e is not None], []))\n",
    "for i in ids:\n",
    "    if i not in occupations_dict:\n",
    "        del occupations_dict[i]"
   ]
  },
  {
   "cell_type": "code",
   "execution_count": 19,
   "id": "bf6ee78b",
   "metadata": {},
   "outputs": [],
   "source": [
    "names1 = (df.groupby(\"s\").sum() > 10).reset_index()\n",
    "names1 = names1.loc[names1[\"o\"], \"s\"]\n",
    "names1 = set(names1.values)\n",
    "names2 = (df.groupby(\"s\").count() > 3).reset_index()\n",
    "names2 = names2.loc[names2[\"o\"], \"s\"]\n",
    "names2 = set(names2.values)"
   ]
  },
  {
   "cell_type": "code",
   "execution_count": 20,
   "id": "45ff355a",
   "metadata": {},
   "outputs": [],
   "source": [
    "names = names2.intersection(names1)"
   ]
  },
  {
   "cell_type": "code",
   "execution_count": 21,
   "id": "44a37033",
   "metadata": {},
   "outputs": [],
   "source": [
    "df = df[df[\"s\"].apply(lambda x: x in names)]"
   ]
  },
  {
   "cell_type": "code",
   "execution_count": 22,
   "id": "e372becf",
   "metadata": {},
   "outputs": [],
   "source": [
    "valuable = [\n",
    "    \"director\", \"scientist\", \"politician\", \"economist\", \n",
    "    \"manager\", \"software engineer\", \"businessperson\", \"entrepreneur\", \"programmer\",\n",
    "    \"hacker\", \"podcaster\", \"banker\", \"investor\", \"trader\", \"inventor\"\n",
    "]"
   ]
  },
  {
   "cell_type": "code",
   "execution_count": 23,
   "id": "29973685",
   "metadata": {},
   "outputs": [],
   "source": [
    "def select_occupation(x):\n",
    "    output = []\n",
    "    for elem in x:\n",
    "        if elem is not None:\n",
    "            output += list(occupations_dict[e] for e in elem)\n",
    "    output = [o for o in output if o != \"cryptozoologist\"]\n",
    "    result = [item for item, c in Counter(output).most_common()]\n",
    "    if not output:\n",
    "        return None\n",
    "    else:\n",
    "        if any([\"crypto\" in o for o in output]):\n",
    "            for o in output:\n",
    "                if \"crypto\" in o:\n",
    "                    return o\n",
    "            \n",
    "        first = output[0].strip()\n",
    "        if (first in [\"sport\", \"writer\", \"actor\", \"community organizer\", \"lawyer\", \"journalist\"]):\n",
    "            if len(output) > 1:\n",
    "                for n in valuable:\n",
    "                    if (n in output):\n",
    "                        return n\n",
    "                return output[1]\n",
    "            else:\n",
    "                return output[0]\n",
    "        else:\n",
    "            return output[0]"
   ]
  },
  {
   "cell_type": "code",
   "execution_count": 24,
   "id": "54fc77c2",
   "metadata": {},
   "outputs": [],
   "source": [
    "df = df[df[\"birth\"].apply(lambda x: len(x) < 2)]\n",
    "df[\"occupation\"] = df[\"occupation_ids\"].apply(lambda x: select_occupation(x))"
   ]
  },
  {
   "cell_type": "code",
   "execution_count": 25,
   "id": "818c717b",
   "metadata": {},
   "outputs": [],
   "source": [
    "name2profession = {\n",
    "    'adam bergman': 'financist', \n",
    "    'adam white': 'entrepreneur', \n",
    "    'adrian turner': 'director', \n",
    "    'amit bhardwaj': 'businessman',\n",
    "    'andrew bailey': 'banker', \n",
    "    'ari juels': 'scientist', \n",
    "    'brad moore': 'ceo', \n",
    "    'brad stephens': 'politician',\n",
    "    'charles evans': 'economist', \n",
    "    'charlie morris': 'investor', \n",
    "    'david mckay': 'ceo',\n",
    "    'eamonn maguire': 'financist', \n",
    "    'eric schmidt': 'businessman', \n",
    "    'hussein sayed': 'investor', \n",
    "    'jamie burke': 'ceo', \n",
    "    'jason english': 'ceo',\n",
    "    'joe lee': 'ceo', \n",
    "    \"john o'rourke\": 'scientist', \n",
    "    'jonathan levin': 'economist', \n",
    "    'jorge rodriguez': 'politician', \n",
    "    'joseph abraham': 'banker', \n",
    "    'ken moore': 'investor',\n",
    "    'kevin hobbs': 'ceo', \n",
    "    'kurt baumgartner': 'ceo', \n",
    "    'mark mclaughlin': 'ceo',\n",
    "    'matt gibson': 'scientist', \n",
    "    'neil wilson': 'ceo', \n",
    "    'nick stevens': 'financist', \n",
    "    'nuno correia': 'ceo', \n",
    "    'patrick njoroge': 'banker',\n",
    "    'paul armstrong': 'scientist', \n",
    "    'paul donovan': 'economist', \n",
    "    'philip thomas': 'scientist', \n",
    "    'richard lumb': 'ceo',\n",
    "    'ross norman': 'ceo', \n",
    "    'roy moore': 'politician', \n",
    "    'sanjay mehta': 'entrepreneur', \n",
    "    'saurabh agarwal': 'economist',\n",
    "    'sean neville': 'ceo', \n",
    "    'sean sullivan': 'economist', \n",
    "    'sergei shvetsov': 'economist', \n",
    "    'simon johnson': 'economist',\n",
    "    'todd cooper': 'ceo', \n",
    "    'vishal gupta': 'scientist',\n",
    "    'alex daley': 'ceo',\n",
    "    'andreas philipp': 'director',\n",
    "    'andrew cox': 'scientist',\n",
    "    'brad rose': 'manager',\n",
    "    'david woo': 'scientist',\n",
    "    'ian price': 'economist',\n",
    "    'lisa kramer': 'financist',\n",
    "    'mark williams': 'historian',\n",
    "    'matt green': 'politician',\n",
    "    'michael england': 'coo',\n",
    "    'timothy roberts': 'historian',\n",
    "    'wim raymaekers': 'manager',\n",
    "    'anish shah': 'ceo',\n",
    "    'austin craig': 'historian',\n",
    "    'bobby lee': 'podcaster',\n",
    "    'eric benz': 'ceo',\n",
    "    'gore vidal': 'writer', # interesting\n",
    "    'james canning': 'manager',\n",
    "    'kumar gaurav': 'ceo',\n",
    "    'mike mcglone': 'economist',\n",
    "    'oliver wyman': 'director',\n",
    "    'peter schiff': 'ceo',\n",
    "    'shakil khan': 'entrepreneur',\n",
    "}\n",
    "\n",
    "df[\"occupation\"] = df.apply(lambda x: name2profession[x[\"s\"]] if x[\"s\"] in name2profession else x[\"occupation\"], axis=1)"
   ]
  },
  {
   "cell_type": "code",
   "execution_count": 26,
   "id": "58c7135b",
   "metadata": {},
   "outputs": [],
   "source": [
    "df_grouped = df.groupby(['publish_year', 'occupation'], as_index=False).sum()\n",
    "df_grouped_top = df_grouped.sort_values(['publish_year','o'], ascending=False).groupby(['publish_year'], as_index=False).head(20)"
   ]
  },
  {
   "cell_type": "code",
   "execution_count": 27,
   "id": "8962635b",
   "metadata": {
    "scrolled": false
   },
   "outputs": [
    {
     "data": {
      "image/png": "[encoded data removed]",
      "text/plain": [
       "<Figure size 1440x2160 with 10 Axes>"
      ]
     },
     "metadata": {
      "needs_background": "light"
     },
     "output_type": "display_data"
    }
   ],
   "source": [
    "from matplotlib import colors as mcolors\n",
    "\n",
    "group_colors = {}\n",
    "colors = dict(mcolors.BASE_COLORS, **mcolors.CSS4_COLORS)\n",
    "colors = list(colors.values())\n",
    "\n",
    "unique_top_occupation_groups = [elem[0] for elem in df_grouped_top.groupby(\"occupation\").sum().reset_index().values]\n",
    "for i, group_number in enumerate(unique_top_occupation_groups):\n",
    "    group_colors[group_number] = colors[i + 15]\n",
    "\n",
    "years = np.unique(df_grouped_top.publish_year)\n",
    "\n",
    "fig, axs = plt.subplots(5, 2, figsize=(20, 30))\n",
    "for i, year in enumerate(years):\n",
    "    year_df = df_grouped_top[df_grouped_top.publish_year == year]\n",
    "    year_occupations = year_df.occupation.values\n",
    "    \n",
    "    for group_n, group_ in enumerate(year_occupations):\n",
    "        temp_group = year_df[year_df.occupation == group_]\n",
    "        axs[i // 2][i % 2].bar(\n",
    "            group_,\n",
    "            100 * temp_group.o.values[0] / year_df.o.sum(), \n",
    "            color=group_colors[group_],\n",
    "            width=0.4,\n",
    "            align='center'\n",
    "        )\n",
    "    axs[i // 2][i % 2].set_title(year, fontsize=20)\n",
    "    axs[i // 2][i % 2].set_ylim([0, 70])\n",
    "    axs[i // 2][i % 2].grid()\n",
    "    axs[i // 2][i % 2].tick_params(axis='both', which='major', labelsize=16, rotation=70)\n",
    "fig.tight_layout(pad=1.0)\n",
    "plt.show()"
   ]
  },
  {
   "cell_type": "markdown",
   "id": "d4ff30c3",
   "metadata": {},
   "source": [
    "> It seems like the distribution over is a little varied. As we can see, people with sport `occupation` speak up about `bitcoin` and `blockchain` rather more frequent, then other people. It is an interesting observation, since most of the quotes seems to be relevant to `bitcoin`, `blockchain`, and other buzz-words"
   ]
  },
  {
   "cell_type": "code",
   "execution_count": 28,
   "id": "cb2fde9c",
   "metadata": {},
   "outputs": [],
   "source": [
    "df[['q', 'd', 's', 'o', 'gender', 'birth', 'occupation']].to_csv(\"data/preprocessed.csv\", index=False)"
   ]
  },
  {
   "cell_type": "markdown",
   "id": "14928629",
   "metadata": {},
   "source": [
    "---"
   ]
  },
  {
   "cell_type": "code",
   "execution_count": 29,
   "id": "fac46c61",
   "metadata": {},
   "outputs": [],
   "source": [
    "df['publish_year'] = df.publish_year.fillna('None').apply(lambda x: int(x))"
   ]
  },
  {
   "cell_type": "code",
   "execution_count": 30,
   "id": "f7b39030",
   "metadata": {},
   "outputs": [
    {
     "data": {
      "text/html": [
       "<div>\n",
       "<style scoped>\n",
       "    .dataframe tbody tr th:only-of-type {\n",
       "        vertical-align: middle;\n",
       "    }\n",
       "\n",
       "    .dataframe tbody tr th {\n",
       "        vertical-align: top;\n",
       "    }\n",
       "\n",
       "    .dataframe thead th {\n",
       "        text-align: right;\n",
       "    }\n",
       "</style>\n",
       "<table border=\"1\" class=\"dataframe\">\n",
       "  <thead>\n",
       "    <tr style=\"text-align: right;\">\n",
       "      <th></th>\n",
       "      <th>publish_year</th>\n",
       "      <th>occupation</th>\n",
       "      <th>o</th>\n",
       "    </tr>\n",
       "  </thead>\n",
       "  <tbody>\n",
       "    <tr>\n",
       "      <th>227</th>\n",
       "      <td>2017</td>\n",
       "      <td>economist</td>\n",
       "      <td>1904</td>\n",
       "    </tr>\n",
       "    <tr>\n",
       "      <th>215</th>\n",
       "      <td>2017</td>\n",
       "      <td>businessperson</td>\n",
       "      <td>1279</td>\n",
       "    </tr>\n",
       "    <tr>\n",
       "      <th>230</th>\n",
       "      <td>2017</td>\n",
       "      <td>entrepreneur</td>\n",
       "      <td>1200</td>\n",
       "    </tr>\n",
       "    <tr>\n",
       "      <th>251</th>\n",
       "      <td>2017</td>\n",
       "      <td>politician</td>\n",
       "      <td>996</td>\n",
       "    </tr>\n",
       "    <tr>\n",
       "      <th>257</th>\n",
       "      <td>2017</td>\n",
       "      <td>scientist</td>\n",
       "      <td>994</td>\n",
       "    </tr>\n",
       "    <tr>\n",
       "      <th>...</th>\n",
       "      <td>...</td>\n",
       "      <td>...</td>\n",
       "      <td>...</td>\n",
       "    </tr>\n",
       "    <tr>\n",
       "      <th>181</th>\n",
       "      <td>2016</td>\n",
       "      <td>designer</td>\n",
       "      <td>1</td>\n",
       "    </tr>\n",
       "    <tr>\n",
       "      <th>39</th>\n",
       "      <td>2011</td>\n",
       "      <td>historian</td>\n",
       "      <td>1</td>\n",
       "    </tr>\n",
       "    <tr>\n",
       "      <th>40</th>\n",
       "      <td>2011</td>\n",
       "      <td>officer</td>\n",
       "      <td>1</td>\n",
       "    </tr>\n",
       "    <tr>\n",
       "      <th>55</th>\n",
       "      <td>2012</td>\n",
       "      <td>journalist</td>\n",
       "      <td>1</td>\n",
       "    </tr>\n",
       "    <tr>\n",
       "      <th>60</th>\n",
       "      <td>2012</td>\n",
       "      <td>sport</td>\n",
       "      <td>1</td>\n",
       "    </tr>\n",
       "  </tbody>\n",
       "</table>\n",
       "<p>263 rows × 3 columns</p>\n",
       "</div>"
      ],
      "text/plain": [
       "     publish_year      occupation     o\n",
       "227          2017       economist  1904\n",
       "215          2017  businessperson  1279\n",
       "230          2017    entrepreneur  1200\n",
       "251          2017      politician   996\n",
       "257          2017       scientist   994\n",
       "..            ...             ...   ...\n",
       "181          2016        designer     1\n",
       "39           2011       historian     1\n",
       "40           2011         officer     1\n",
       "55           2012      journalist     1\n",
       "60           2012           sport     1\n",
       "\n",
       "[263 rows x 3 columns]"
      ]
     },
     "execution_count": 30,
     "metadata": {},
     "output_type": "execute_result"
    }
   ],
   "source": [
    "df_grouped = df.groupby(['publish_year', 'occupation',], as_index=False).sum().sort_values('o', ascending=False)\n",
    "df_grouped"
   ]
  },
  {
   "cell_type": "code",
   "execution_count": 42,
   "id": "f7752baf",
   "metadata": {},
   "outputs": [],
   "source": [
    "TOP_N = 5\n",
    "\n",
    "df_grouped_top = []\n",
    "for year in np.unique(df_grouped.publish_year):\n",
    "    df_grouped_top.append(df_grouped[df_grouped['publish_year'] == year].head(TOP_N).values)\n",
    "df_grouped_top = pd.DataFrame(np.array(df_grouped_top).reshape(-1, 3), columns=['publish_year', 'occupation', 'o'])"
   ]
  },
  {
   "cell_type": "code",
   "execution_count": 61,
   "id": "385a543c",
   "metadata": {},
   "outputs": [
    {
     "data": {
      "text/html": [
       "<div>\n",
       "<style scoped>\n",
       "    .dataframe tbody tr th:only-of-type {\n",
       "        vertical-align: middle;\n",
       "    }\n",
       "\n",
       "    .dataframe tbody tr th {\n",
       "        vertical-align: top;\n",
       "    }\n",
       "\n",
       "    .dataframe thead th {\n",
       "        text-align: right;\n",
       "    }\n",
       "</style>\n",
       "<table border=\"1\" class=\"dataframe\">\n",
       "  <thead>\n",
       "    <tr style=\"text-align: right;\">\n",
       "      <th></th>\n",
       "      <th>publish_year</th>\n",
       "      <th>occupation</th>\n",
       "      <th>o</th>\n",
       "    </tr>\n",
       "  </thead>\n",
       "  <tbody>\n",
       "    <tr>\n",
       "      <th>0</th>\n",
       "      <td>2008</td>\n",
       "      <td>politician</td>\n",
       "      <td>11</td>\n",
       "    </tr>\n",
       "    <tr>\n",
       "      <th>1</th>\n",
       "      <td>2008</td>\n",
       "      <td>cryptographer</td>\n",
       "      <td>9</td>\n",
       "    </tr>\n",
       "    <tr>\n",
       "      <th>2</th>\n",
       "      <td>2008</td>\n",
       "      <td>engineer</td>\n",
       "      <td>5</td>\n",
       "    </tr>\n",
       "    <tr>\n",
       "      <th>3</th>\n",
       "      <td>2008</td>\n",
       "      <td>director</td>\n",
       "      <td>2</td>\n",
       "    </tr>\n",
       "    <tr>\n",
       "      <th>4</th>\n",
       "      <td>2008</td>\n",
       "      <td>scientist</td>\n",
       "      <td>1</td>\n",
       "    </tr>\n",
       "  </tbody>\n",
       "</table>\n",
       "</div>"
      ],
      "text/plain": [
       "  publish_year     occupation   o\n",
       "0         2008     politician  11\n",
       "1         2008  cryptographer   9\n",
       "2         2008       engineer   5\n",
       "3         2008       director   2\n",
       "4         2008      scientist   1"
      ]
     },
     "execution_count": 61,
     "metadata": {},
     "output_type": "execute_result"
    }
   ],
   "source": [
    "df_grouped_top.head()"
   ]
  },
  {
   "cell_type": "markdown",
   "id": "49dab46a",
   "metadata": {},
   "source": [
    "### TODO Set this to percentages"
   ]
  },
  {
   "cell_type": "code",
   "execution_count": 64,
   "id": "52dfb732",
   "metadata": {},
   "outputs": [
    {
     "data": {
      "application/vnd.plotly.v1+json": {
       "config": {
        "plotlyServerURL": "https://plot.ly"
       },
       "data": [
        {
         "alignmentgroup": "True",
         "bingroup": "x",
         "histfunc": "sum",
         "hovertemplate": "occupation=%{x}<br>publish_year=2008<br>sum of o=%{y}<extra></extra>",
         "legendgroup": "politician",
         "marker": {
          "color": "#636efa",
          "pattern": {
           "shape": ""
          }
         },
         "name": "politician",
         "offsetgroup": "politician",
         "orientation": "v",
         "showlegend": true,
         "type": "histogram",
         "x": [
          "politician"
         ],
         "xaxis": "x",
         "y": [
          11
         ],
         "yaxis": "y"
        },
        {
         "alignmentgroup": "True",
         "bingroup": "x",
         "histfunc": "sum",
         "hovertemplate": "occupation=%{x}<br>publish_year=2008<br>sum of o=%{y}<extra></extra>",
         "legendgroup": "cryptographer",
         "marker": {
          "color": "#EF553B",
          "pattern": {
           "shape": ""
          }
         },
         "name": "cryptographer",
         "offsetgroup": "cryptographer",
         "orientation": "v",
         "showlegend": true,
         "type": "histogram",
         "x": [
          "cryptographer"
         ],
         "xaxis": "x",
         "y": [
          9
         ],
         "yaxis": "y"
        },
        {
         "alignmentgroup": "True",
         "bingroup": "x",
         "histfunc": "sum",
         "hovertemplate": "occupation=%{x}<br>publish_year=2008<br>sum of o=%{y}<extra></extra>",
         "legendgroup": "engineer",
         "marker": {
          "color": "#00cc96",
          "pattern": {
           "shape": ""
          }
         },
         "name": "engineer",
         "offsetgroup": "engineer",
         "orientation": "v",
         "showlegend": true,
         "type": "histogram",
         "x": [
          "engineer"
         ],
         "xaxis": "x",
         "y": [
          5
         ],
         "yaxis": "y"
        },
        {
         "alignmentgroup": "True",
         "bingroup": "x",
         "histfunc": "sum",
         "hovertemplate": "occupation=%{x}<br>publish_year=2008<br>sum of o=%{y}<extra></extra>",
         "legendgroup": "director",
         "marker": {
          "color": "#ab63fa",
          "pattern": {
           "shape": ""
          }
         },
         "name": "director",
         "offsetgroup": "director",
         "orientation": "v",
         "showlegend": true,
         "type": "histogram",
         "x": [
          "director"
         ],
         "xaxis": "x",
         "y": [
          2
         ],
         "yaxis": "y"
        },
        {
         "alignmentgroup": "True",
         "bingroup": "x",
         "histfunc": "sum",
         "hovertemplate": "occupation=%{x}<br>publish_year=2008<br>sum of o=%{y}<extra></extra>",
         "legendgroup": "scientist",
         "marker": {
          "color": "#FFA15A",
          "pattern": {
           "shape": ""
          }
         },
         "name": "scientist",
         "offsetgroup": "scientist",
         "orientation": "v",
         "showlegend": true,
         "type": "histogram",
         "x": [
          "scientist"
         ],
         "xaxis": "x",
         "y": [
          1
         ],
         "yaxis": "y"
        }
       ],
       "frames": [
        {
         "data": [
          {
           "alignmentgroup": "True",
           "bingroup": "x",
           "histfunc": "sum",
           "hovertemplate": "occupation=%{x}<br>publish_year=2008<br>sum of o=%{y}<extra></extra>",
           "legendgroup": "politician",
           "marker": {
            "color": "#636efa",
            "pattern": {
             "shape": ""
            }
           },
           "name": "politician",
           "offsetgroup": "politician",
           "orientation": "v",
           "showlegend": true,
           "type": "histogram",
           "x": [
            "politician"
           ],
           "xaxis": "x",
           "y": [
            11
           ],
           "yaxis": "y"
          },
          {
           "alignmentgroup": "True",
           "bingroup": "x",
           "histfunc": "sum",
           "hovertemplate": "occupation=%{x}<br>publish_year=2008<br>sum of o=%{y}<extra></extra>",
           "legendgroup": "cryptographer",
           "marker": {
            "color": "#EF553B",
            "pattern": {
             "shape": ""
            }
           },
           "name": "cryptographer",
           "offsetgroup": "cryptographer",
           "orientation": "v",
           "showlegend": true,
           "type": "histogram",
           "x": [
            "cryptographer"
           ],
           "xaxis": "x",
           "y": [
            9
           ],
           "yaxis": "y"
          },
          {
           "alignmentgroup": "True",
           "bingroup": "x",
           "histfunc": "sum",
           "hovertemplate": "occupation=%{x}<br>publish_year=2008<br>sum of o=%{y}<extra></extra>",
           "legendgroup": "engineer",
           "marker": {
            "color": "#00cc96",
            "pattern": {
             "shape": ""
            }
           },
           "name": "engineer",
           "offsetgroup": "engineer",
           "orientation": "v",
           "showlegend": true,
           "type": "histogram",
           "x": [
            "engineer"
           ],
           "xaxis": "x",
           "y": [
            5
           ],
           "yaxis": "y"
          },
          {
           "alignmentgroup": "True",
           "bingroup": "x",
           "histfunc": "sum",
           "hovertemplate": "occupation=%{x}<br>publish_year=2008<br>sum of o=%{y}<extra></extra>",
           "legendgroup": "director",
           "marker": {
            "color": "#ab63fa",
            "pattern": {
             "shape": ""
            }
           },
           "name": "director",
           "offsetgroup": "director",
           "orientation": "v",
           "showlegend": true,
           "type": "histogram",
           "x": [
            "director"
           ],
           "xaxis": "x",
           "y": [
            2
           ],
           "yaxis": "y"
          },
          {
           "alignmentgroup": "True",
           "bingroup": "x",
           "histfunc": "sum",
           "hovertemplate": "occupation=%{x}<br>publish_year=2008<br>sum of o=%{y}<extra></extra>",
           "legendgroup": "scientist",
           "marker": {
            "color": "#FFA15A",
            "pattern": {
             "shape": ""
            }
           },
           "name": "scientist",
           "offsetgroup": "scientist",
           "orientation": "v",
           "showlegend": true,
           "type": "histogram",
           "x": [
            "scientist"
           ],
           "xaxis": "x",
           "y": [
            1
           ],
           "yaxis": "y"
          }
         ],
         "name": "2008"
        },
        {
         "data": [
          {
           "alignmentgroup": "True",
           "bingroup": "x",
           "histfunc": "sum",
           "hovertemplate": "occupation=%{x}<br>publish_year=2009<br>sum of o=%{y}<extra></extra>",
           "legendgroup": "politician",
           "marker": {
            "color": "#636efa",
            "pattern": {
             "shape": ""
            }
           },
           "name": "politician",
           "offsetgroup": "politician",
           "orientation": "v",
           "showlegend": true,
           "type": "histogram",
           "x": [
            "politician"
           ],
           "xaxis": "x",
           "y": [
            28
           ],
           "yaxis": "y"
          },
          {
           "alignmentgroup": "True",
           "bingroup": "x",
           "histfunc": "sum",
           "hovertemplate": "occupation=%{x}<br>publish_year=2009<br>sum of o=%{y}<extra></extra>",
           "legendgroup": "cryptographer",
           "marker": {
            "color": "#EF553B",
            "pattern": {
             "shape": ""
            }
           },
           "name": "cryptographer",
           "offsetgroup": "cryptographer",
           "orientation": "v",
           "showlegend": true,
           "type": "histogram",
           "x": [
            "cryptographer"
           ],
           "xaxis": "x",
           "y": [
            7
           ],
           "yaxis": "y"
          },
          {
           "alignmentgroup": "True",
           "bingroup": "x",
           "histfunc": "sum",
           "hovertemplate": "occupation=%{x}<br>publish_year=2009<br>sum of o=%{y}<extra></extra>",
           "legendgroup": "engineer",
           "marker": {
            "color": "#00cc96",
            "pattern": {
             "shape": ""
            }
           },
           "name": "engineer",
           "offsetgroup": "engineer",
           "orientation": "v",
           "showlegend": true,
           "type": "histogram",
           "x": [
            "engineer"
           ],
           "xaxis": "x",
           "y": [
            19
           ],
           "yaxis": "y"
          },
          {
           "alignmentgroup": "True",
           "bingroup": "x",
           "histfunc": "sum",
           "hovertemplate": "occupation=%{x}<br>publish_year=2009<br>sum of o=%{y}<extra></extra>",
           "legendgroup": "scientist",
           "marker": {
            "color": "#FFA15A",
            "pattern": {
             "shape": ""
            }
           },
           "name": "scientist",
           "offsetgroup": "scientist",
           "orientation": "v",
           "showlegend": true,
           "type": "histogram",
           "x": [
            "scientist"
           ],
           "xaxis": "x",
           "y": [
            8
           ],
           "yaxis": "y"
          },
          {
           "alignmentgroup": "True",
           "bingroup": "x",
           "histfunc": "sum",
           "hovertemplate": "occupation=%{x}<br>publish_year=2009<br>sum of o=%{y}<extra></extra>",
           "legendgroup": "sport",
           "marker": {
            "color": "#19d3f3",
            "pattern": {
             "shape": ""
            }
           },
           "name": "sport",
           "offsetgroup": "sport",
           "orientation": "v",
           "showlegend": true,
           "type": "histogram",
           "x": [
            "sport"
           ],
           "xaxis": "x",
           "y": [
            8
           ],
           "yaxis": "y"
          }
         ],
         "name": "2009"
        },
        {
         "data": [
          {
           "alignmentgroup": "True",
           "bingroup": "x",
           "histfunc": "sum",
           "hovertemplate": "occupation=%{x}<br>publish_year=2010<br>sum of o=%{y}<extra></extra>",
           "legendgroup": "politician",
           "marker": {
            "color": "#636efa",
            "pattern": {
             "shape": ""
            }
           },
           "name": "politician",
           "offsetgroup": "politician",
           "orientation": "v",
           "showlegend": true,
           "type": "histogram",
           "x": [
            "politician"
           ],
           "xaxis": "x",
           "y": [
            54
           ],
           "yaxis": "y"
          },
          {
           "alignmentgroup": "True",
           "bingroup": "x",
           "histfunc": "sum",
           "hovertemplate": "occupation=%{x}<br>publish_year=2010<br>sum of o=%{y}<extra></extra>",
           "legendgroup": "cryptographer",
           "marker": {
            "color": "#EF553B",
            "pattern": {
             "shape": ""
            }
           },
           "name": "cryptographer",
           "offsetgroup": "cryptographer",
           "orientation": "v",
           "showlegend": true,
           "type": "histogram",
           "x": [
            "cryptographer"
           ],
           "xaxis": "x",
           "y": [
            19
           ],
           "yaxis": "y"
          },
          {
           "alignmentgroup": "True",
           "bingroup": "x",
           "histfunc": "sum",
           "hovertemplate": "occupation=%{x}<br>publish_year=2010<br>sum of o=%{y}<extra></extra>",
           "legendgroup": "scientist",
           "marker": {
            "color": "#FFA15A",
            "pattern": {
             "shape": ""
            }
           },
           "name": "scientist",
           "offsetgroup": "scientist",
           "orientation": "v",
           "showlegend": true,
           "type": "histogram",
           "x": [
            "scientist"
           ],
           "xaxis": "x",
           "y": [
            11
           ],
           "yaxis": "y"
          },
          {
           "alignmentgroup": "True",
           "bingroup": "x",
           "histfunc": "sum",
           "hovertemplate": "occupation=%{x}<br>publish_year=2010<br>sum of o=%{y}<extra></extra>",
           "legendgroup": "sport",
           "marker": {
            "color": "#19d3f3",
            "pattern": {
             "shape": ""
            }
           },
           "name": "sport",
           "offsetgroup": "sport",
           "orientation": "v",
           "showlegend": true,
           "type": "histogram",
           "x": [
            "sport"
           ],
           "xaxis": "x",
           "y": [
            13
           ],
           "yaxis": "y"
          },
          {
           "alignmentgroup": "True",
           "bingroup": "x",
           "histfunc": "sum",
           "hovertemplate": "occupation=%{x}<br>publish_year=2010<br>sum of o=%{y}<extra></extra>",
           "legendgroup": "programmer",
           "marker": {
            "color": "#FF6692",
            "pattern": {
             "shape": ""
            }
           },
           "name": "programmer",
           "offsetgroup": "programmer",
           "orientation": "v",
           "showlegend": true,
           "type": "histogram",
           "x": [
            "programmer"
           ],
           "xaxis": "x",
           "y": [
            14
           ],
           "yaxis": "y"
          }
         ],
         "name": "2010"
        },
        {
         "data": [
          {
           "alignmentgroup": "True",
           "bingroup": "x",
           "histfunc": "sum",
           "hovertemplate": "occupation=%{x}<br>publish_year=2011<br>sum of o=%{y}<extra></extra>",
           "legendgroup": "politician",
           "marker": {
            "color": "#636efa",
            "pattern": {
             "shape": ""
            }
           },
           "name": "politician",
           "offsetgroup": "politician",
           "orientation": "v",
           "showlegend": true,
           "type": "histogram",
           "x": [
            "politician"
           ],
           "xaxis": "x",
           "y": [
            19
           ],
           "yaxis": "y"
          },
          {
           "alignmentgroup": "True",
           "bingroup": "x",
           "histfunc": "sum",
           "hovertemplate": "occupation=%{x}<br>publish_year=2011<br>sum of o=%{y}<extra></extra>",
           "legendgroup": "cryptographer",
           "marker": {
            "color": "#EF553B",
            "pattern": {
             "shape": ""
            }
           },
           "name": "cryptographer",
           "offsetgroup": "cryptographer",
           "orientation": "v",
           "showlegend": true,
           "type": "histogram",
           "x": [
            "cryptographer"
           ],
           "xaxis": "x",
           "y": [
            7
           ],
           "yaxis": "y"
          },
          {
           "alignmentgroup": "True",
           "bingroup": "x",
           "histfunc": "sum",
           "hovertemplate": "occupation=%{x}<br>publish_year=2011<br>sum of o=%{y}<extra></extra>",
           "legendgroup": "sport",
           "marker": {
            "color": "#19d3f3",
            "pattern": {
             "shape": ""
            }
           },
           "name": "sport",
           "offsetgroup": "sport",
           "orientation": "v",
           "showlegend": true,
           "type": "histogram",
           "x": [
            "sport"
           ],
           "xaxis": "x",
           "y": [
            36
           ],
           "yaxis": "y"
          },
          {
           "alignmentgroup": "True",
           "bingroup": "x",
           "histfunc": "sum",
           "hovertemplate": "occupation=%{x}<br>publish_year=2011<br>sum of o=%{y}<extra></extra>",
           "legendgroup": "programmer",
           "marker": {
            "color": "#FF6692",
            "pattern": {
             "shape": ""
            }
           },
           "name": "programmer",
           "offsetgroup": "programmer",
           "orientation": "v",
           "showlegend": true,
           "type": "histogram",
           "x": [
            "programmer"
           ],
           "xaxis": "x",
           "y": [
            35
           ],
           "yaxis": "y"
          },
          {
           "alignmentgroup": "True",
           "bingroup": "x",
           "histfunc": "sum",
           "hovertemplate": "occupation=%{x}<br>publish_year=2011<br>sum of o=%{y}<extra></extra>",
           "legendgroup": "economist",
           "marker": {
            "color": "#B6E880",
            "pattern": {
             "shape": ""
            }
           },
           "name": "economist",
           "offsetgroup": "economist",
           "orientation": "v",
           "showlegend": true,
           "type": "histogram",
           "x": [
            "economist"
           ],
           "xaxis": "x",
           "y": [
            27
           ],
           "yaxis": "y"
          }
         ],
         "name": "2011"
        },
        {
         "data": [
          {
           "alignmentgroup": "True",
           "bingroup": "x",
           "histfunc": "sum",
           "hovertemplate": "occupation=%{x}<br>publish_year=2012<br>sum of o=%{y}<extra></extra>",
           "legendgroup": "politician",
           "marker": {
            "color": "#636efa",
            "pattern": {
             "shape": ""
            }
           },
           "name": "politician",
           "offsetgroup": "politician",
           "orientation": "v",
           "showlegend": true,
           "type": "histogram",
           "x": [
            "politician"
           ],
           "xaxis": "x",
           "y": [
            48
           ],
           "yaxis": "y"
          },
          {
           "alignmentgroup": "True",
           "bingroup": "x",
           "histfunc": "sum",
           "hovertemplate": "occupation=%{x}<br>publish_year=2012<br>sum of o=%{y}<extra></extra>",
           "legendgroup": "cryptographer",
           "marker": {
            "color": "#EF553B",
            "pattern": {
             "shape": ""
            }
           },
           "name": "cryptographer",
           "offsetgroup": "cryptographer",
           "orientation": "v",
           "showlegend": true,
           "type": "histogram",
           "x": [
            "cryptographer"
           ],
           "xaxis": "x",
           "y": [
            66
           ],
           "yaxis": "y"
          },
          {
           "alignmentgroup": "True",
           "bingroup": "x",
           "histfunc": "sum",
           "hovertemplate": "occupation=%{x}<br>publish_year=2012<br>sum of o=%{y}<extra></extra>",
           "legendgroup": "scientist",
           "marker": {
            "color": "#FFA15A",
            "pattern": {
             "shape": ""
            }
           },
           "name": "scientist",
           "offsetgroup": "scientist",
           "orientation": "v",
           "showlegend": true,
           "type": "histogram",
           "x": [
            "scientist"
           ],
           "xaxis": "x",
           "y": [
            27
           ],
           "yaxis": "y"
          },
          {
           "alignmentgroup": "True",
           "bingroup": "x",
           "histfunc": "sum",
           "hovertemplate": "occupation=%{x}<br>publish_year=2012<br>sum of o=%{y}<extra></extra>",
           "legendgroup": "programmer",
           "marker": {
            "color": "#FF6692",
            "pattern": {
             "shape": ""
            }
           },
           "name": "programmer",
           "offsetgroup": "programmer",
           "orientation": "v",
           "showlegend": true,
           "type": "histogram",
           "x": [
            "programmer"
           ],
           "xaxis": "x",
           "y": [
            51
           ],
           "yaxis": "y"
          },
          {
           "alignmentgroup": "True",
           "bingroup": "x",
           "histfunc": "sum",
           "hovertemplate": "occupation=%{x}<br>publish_year=2012<br>sum of o=%{y}<extra></extra>",
           "legendgroup": "entrepreneur",
           "marker": {
            "color": "#FF97FF",
            "pattern": {
             "shape": ""
            }
           },
           "name": "entrepreneur",
           "offsetgroup": "entrepreneur",
           "orientation": "v",
           "showlegend": true,
           "type": "histogram",
           "x": [
            "entrepreneur"
           ],
           "xaxis": "x",
           "y": [
            27
           ],
           "yaxis": "y"
          }
         ],
         "name": "2012"
        },
        {
         "data": [
          {
           "alignmentgroup": "True",
           "bingroup": "x",
           "histfunc": "sum",
           "hovertemplate": "occupation=%{x}<br>publish_year=2013<br>sum of o=%{y}<extra></extra>",
           "legendgroup": "scientist",
           "marker": {
            "color": "#FFA15A",
            "pattern": {
             "shape": ""
            }
           },
           "name": "scientist",
           "offsetgroup": "scientist",
           "orientation": "v",
           "showlegend": true,
           "type": "histogram",
           "x": [
            "scientist"
           ],
           "xaxis": "x",
           "y": [
            166
           ],
           "yaxis": "y"
          },
          {
           "alignmentgroup": "True",
           "bingroup": "x",
           "histfunc": "sum",
           "hovertemplate": "occupation=%{x}<br>publish_year=2013<br>sum of o=%{y}<extra></extra>",
           "legendgroup": "programmer",
           "marker": {
            "color": "#FF6692",
            "pattern": {
             "shape": ""
            }
           },
           "name": "programmer",
           "offsetgroup": "programmer",
           "orientation": "v",
           "showlegend": true,
           "type": "histogram",
           "x": [
            "programmer"
           ],
           "xaxis": "x",
           "y": [
            100
           ],
           "yaxis": "y"
          },
          {
           "alignmentgroup": "True",
           "bingroup": "x",
           "histfunc": "sum",
           "hovertemplate": "occupation=%{x}<br>publish_year=2013<br>sum of o=%{y}<extra></extra>",
           "legendgroup": "economist",
           "marker": {
            "color": "#B6E880",
            "pattern": {
             "shape": ""
            }
           },
           "name": "economist",
           "offsetgroup": "economist",
           "orientation": "v",
           "showlegend": true,
           "type": "histogram",
           "x": [
            "economist"
           ],
           "xaxis": "x",
           "y": [
            214
           ],
           "yaxis": "y"
          },
          {
           "alignmentgroup": "True",
           "bingroup": "x",
           "histfunc": "sum",
           "hovertemplate": "occupation=%{x}<br>publish_year=2013<br>sum of o=%{y}<extra></extra>",
           "legendgroup": "entrepreneur",
           "marker": {
            "color": "#FF97FF",
            "pattern": {
             "shape": ""
            }
           },
           "name": "entrepreneur",
           "offsetgroup": "entrepreneur",
           "orientation": "v",
           "showlegend": true,
           "type": "histogram",
           "x": [
            "entrepreneur"
           ],
           "xaxis": "x",
           "y": [
            257
           ],
           "yaxis": "y"
          },
          {
           "alignmentgroup": "True",
           "bingroup": "x",
           "histfunc": "sum",
           "hovertemplate": "occupation=%{x}<br>publish_year=2013<br>sum of o=%{y}<extra></extra>",
           "legendgroup": "administrator",
           "marker": {
            "color": "#FECB52",
            "pattern": {
             "shape": ""
            }
           },
           "name": "administrator",
           "offsetgroup": "administrator",
           "orientation": "v",
           "showlegend": true,
           "type": "histogram",
           "x": [
            "administrator"
           ],
           "xaxis": "x",
           "y": [
            239
           ],
           "yaxis": "y"
          }
         ],
         "name": "2013"
        },
        {
         "data": [
          {
           "alignmentgroup": "True",
           "bingroup": "x",
           "histfunc": "sum",
           "hovertemplate": "occupation=%{x}<br>publish_year=2014<br>sum of o=%{y}<extra></extra>",
           "legendgroup": "director",
           "marker": {
            "color": "#ab63fa",
            "pattern": {
             "shape": ""
            }
           },
           "name": "director",
           "offsetgroup": "director",
           "orientation": "v",
           "showlegend": true,
           "type": "histogram",
           "x": [
            "director"
           ],
           "xaxis": "x",
           "y": [
            380
           ],
           "yaxis": "y"
          },
          {
           "alignmentgroup": "True",
           "bingroup": "x",
           "histfunc": "sum",
           "hovertemplate": "occupation=%{x}<br>publish_year=2014<br>sum of o=%{y}<extra></extra>",
           "legendgroup": "economist",
           "marker": {
            "color": "#B6E880",
            "pattern": {
             "shape": ""
            }
           },
           "name": "economist",
           "offsetgroup": "economist",
           "orientation": "v",
           "showlegend": true,
           "type": "histogram",
           "x": [
            "economist"
           ],
           "xaxis": "x",
           "y": [
            378
           ],
           "yaxis": "y"
          },
          {
           "alignmentgroup": "True",
           "bingroup": "x",
           "histfunc": "sum",
           "hovertemplate": "occupation=%{x}<br>publish_year=2014<br>sum of o=%{y}<extra></extra>",
           "legendgroup": "entrepreneur",
           "marker": {
            "color": "#FF97FF",
            "pattern": {
             "shape": ""
            }
           },
           "name": "entrepreneur",
           "offsetgroup": "entrepreneur",
           "orientation": "v",
           "showlegend": true,
           "type": "histogram",
           "x": [
            "entrepreneur"
           ],
           "xaxis": "x",
           "y": [
            427
           ],
           "yaxis": "y"
          },
          {
           "alignmentgroup": "True",
           "bingroup": "x",
           "histfunc": "sum",
           "hovertemplate": "occupation=%{x}<br>publish_year=2014<br>sum of o=%{y}<extra></extra>",
           "legendgroup": "businessperson",
           "marker": {
            "color": "#636efa",
            "pattern": {
             "shape": ""
            }
           },
           "name": "businessperson",
           "offsetgroup": "businessperson",
           "orientation": "v",
           "showlegend": true,
           "type": "histogram",
           "x": [
            "businessperson"
           ],
           "xaxis": "x",
           "y": [
            973
           ],
           "yaxis": "y"
          },
          {
           "alignmentgroup": "True",
           "bingroup": "x",
           "histfunc": "sum",
           "hovertemplate": "occupation=%{x}<br>publish_year=2014<br>sum of o=%{y}<extra></extra>",
           "legendgroup": "journalist",
           "marker": {
            "color": "#EF553B",
            "pattern": {
             "shape": ""
            }
           },
           "name": "journalist",
           "offsetgroup": "journalist",
           "orientation": "v",
           "showlegend": true,
           "type": "histogram",
           "x": [
            "journalist"
           ],
           "xaxis": "x",
           "y": [
            545
           ],
           "yaxis": "y"
          }
         ],
         "name": "2014"
        },
        {
         "data": [
          {
           "alignmentgroup": "True",
           "bingroup": "x",
           "histfunc": "sum",
           "hovertemplate": "occupation=%{x}<br>publish_year=2015<br>sum of o=%{y}<extra></extra>",
           "legendgroup": "scientist",
           "marker": {
            "color": "#FFA15A",
            "pattern": {
             "shape": ""
            }
           },
           "name": "scientist",
           "offsetgroup": "scientist",
           "orientation": "v",
           "showlegend": true,
           "type": "histogram",
           "x": [
            "scientist"
           ],
           "xaxis": "x",
           "y": [
            339
           ],
           "yaxis": "y"
          },
          {
           "alignmentgroup": "True",
           "bingroup": "x",
           "histfunc": "sum",
           "hovertemplate": "occupation=%{x}<br>publish_year=2015<br>sum of o=%{y}<extra></extra>",
           "legendgroup": "sport",
           "marker": {
            "color": "#19d3f3",
            "pattern": {
             "shape": ""
            }
           },
           "name": "sport",
           "offsetgroup": "sport",
           "orientation": "v",
           "showlegend": true,
           "type": "histogram",
           "x": [
            "sport"
           ],
           "xaxis": "x",
           "y": [
            197
           ],
           "yaxis": "y"
          },
          {
           "alignmentgroup": "True",
           "bingroup": "x",
           "histfunc": "sum",
           "hovertemplate": "occupation=%{x}<br>publish_year=2015<br>sum of o=%{y}<extra></extra>",
           "legendgroup": "entrepreneur",
           "marker": {
            "color": "#FF97FF",
            "pattern": {
             "shape": ""
            }
           },
           "name": "entrepreneur",
           "offsetgroup": "entrepreneur",
           "orientation": "v",
           "showlegend": true,
           "type": "histogram",
           "x": [
            "entrepreneur"
           ],
           "xaxis": "x",
           "y": [
            151
           ],
           "yaxis": "y"
          },
          {
           "alignmentgroup": "True",
           "bingroup": "x",
           "histfunc": "sum",
           "hovertemplate": "occupation=%{x}<br>publish_year=2015<br>sum of o=%{y}<extra></extra>",
           "legendgroup": "actor",
           "marker": {
            "color": "#00cc96",
            "pattern": {
             "shape": ""
            }
           },
           "name": "actor",
           "offsetgroup": "actor",
           "orientation": "v",
           "showlegend": true,
           "type": "histogram",
           "x": [
            "actor"
           ],
           "xaxis": "x",
           "y": [
            543
           ],
           "yaxis": "y"
          },
          {
           "alignmentgroup": "True",
           "bingroup": "x",
           "histfunc": "sum",
           "hovertemplate": "occupation=%{x}<br>publish_year=2015<br>sum of o=%{y}<extra></extra>",
           "legendgroup": "podcaster",
           "marker": {
            "color": "#ab63fa",
            "pattern": {
             "shape": ""
            }
           },
           "name": "podcaster",
           "offsetgroup": "podcaster",
           "orientation": "v",
           "showlegend": true,
           "type": "histogram",
           "x": [
            "podcaster"
           ],
           "xaxis": "x",
           "y": [
            254
           ],
           "yaxis": "y"
          }
         ],
         "name": "2015"
        },
        {
         "data": [
          {
           "alignmentgroup": "True",
           "bingroup": "x",
           "histfunc": "sum",
           "hovertemplate": "occupation=%{x}<br>publish_year=2016<br>sum of o=%{y}<extra></extra>",
           "legendgroup": "engineer",
           "marker": {
            "color": "#00cc96",
            "pattern": {
             "shape": ""
            }
           },
           "name": "engineer",
           "offsetgroup": "engineer",
           "orientation": "v",
           "showlegend": true,
           "type": "histogram",
           "x": [
            "engineer"
           ],
           "xaxis": "x",
           "y": [
            232
           ],
           "yaxis": "y"
          },
          {
           "alignmentgroup": "True",
           "bingroup": "x",
           "histfunc": "sum",
           "hovertemplate": "occupation=%{x}<br>publish_year=2016<br>sum of o=%{y}<extra></extra>",
           "legendgroup": "director",
           "marker": {
            "color": "#ab63fa",
            "pattern": {
             "shape": ""
            }
           },
           "name": "director",
           "offsetgroup": "director",
           "orientation": "v",
           "showlegend": true,
           "type": "histogram",
           "x": [
            "director"
           ],
           "xaxis": "x",
           "y": [
            196
           ],
           "yaxis": "y"
          },
          {
           "alignmentgroup": "True",
           "bingroup": "x",
           "histfunc": "sum",
           "hovertemplate": "occupation=%{x}<br>publish_year=2016<br>sum of o=%{y}<extra></extra>",
           "legendgroup": "scientist",
           "marker": {
            "color": "#FFA15A",
            "pattern": {
             "shape": ""
            }
           },
           "name": "scientist",
           "offsetgroup": "scientist",
           "orientation": "v",
           "showlegend": true,
           "type": "histogram",
           "x": [
            "scientist"
           ],
           "xaxis": "x",
           "y": [
            509
           ],
           "yaxis": "y"
          },
          {
           "alignmentgroup": "True",
           "bingroup": "x",
           "histfunc": "sum",
           "hovertemplate": "occupation=%{x}<br>publish_year=2016<br>sum of o=%{y}<extra></extra>",
           "legendgroup": "programmer",
           "marker": {
            "color": "#FF6692",
            "pattern": {
             "shape": ""
            }
           },
           "name": "programmer",
           "offsetgroup": "programmer",
           "orientation": "v",
           "showlegend": true,
           "type": "histogram",
           "x": [
            "programmer"
           ],
           "xaxis": "x",
           "y": [
            191
           ],
           "yaxis": "y"
          },
          {
           "alignmentgroup": "True",
           "bingroup": "x",
           "histfunc": "sum",
           "hovertemplate": "occupation=%{x}<br>publish_year=2016<br>sum of o=%{y}<extra></extra>",
           "legendgroup": "entrepreneur",
           "marker": {
            "color": "#FF97FF",
            "pattern": {
             "shape": ""
            }
           },
           "name": "entrepreneur",
           "offsetgroup": "entrepreneur",
           "orientation": "v",
           "showlegend": true,
           "type": "histogram",
           "x": [
            "entrepreneur"
           ],
           "xaxis": "x",
           "y": [
            262
           ],
           "yaxis": "y"
          }
         ],
         "name": "2016"
        },
        {
         "data": [
          {
           "alignmentgroup": "True",
           "bingroup": "x",
           "histfunc": "sum",
           "hovertemplate": "occupation=%{x}<br>publish_year=2017<br>sum of o=%{y}<extra></extra>",
           "legendgroup": "politician",
           "marker": {
            "color": "#636efa",
            "pattern": {
             "shape": ""
            }
           },
           "name": "politician",
           "offsetgroup": "politician",
           "orientation": "v",
           "showlegend": true,
           "type": "histogram",
           "x": [
            "politician"
           ],
           "xaxis": "x",
           "y": [
            996
           ],
           "yaxis": "y"
          },
          {
           "alignmentgroup": "True",
           "bingroup": "x",
           "histfunc": "sum",
           "hovertemplate": "occupation=%{x}<br>publish_year=2017<br>sum of o=%{y}<extra></extra>",
           "legendgroup": "scientist",
           "marker": {
            "color": "#FFA15A",
            "pattern": {
             "shape": ""
            }
           },
           "name": "scientist",
           "offsetgroup": "scientist",
           "orientation": "v",
           "showlegend": true,
           "type": "histogram",
           "x": [
            "scientist"
           ],
           "xaxis": "x",
           "y": [
            994
           ],
           "yaxis": "y"
          },
          {
           "alignmentgroup": "True",
           "bingroup": "x",
           "histfunc": "sum",
           "hovertemplate": "occupation=%{x}<br>publish_year=2017<br>sum of o=%{y}<extra></extra>",
           "legendgroup": "economist",
           "marker": {
            "color": "#B6E880",
            "pattern": {
             "shape": ""
            }
           },
           "name": "economist",
           "offsetgroup": "economist",
           "orientation": "v",
           "showlegend": true,
           "type": "histogram",
           "x": [
            "economist"
           ],
           "xaxis": "x",
           "y": [
            1904
           ],
           "yaxis": "y"
          },
          {
           "alignmentgroup": "True",
           "bingroup": "x",
           "histfunc": "sum",
           "hovertemplate": "occupation=%{x}<br>publish_year=2017<br>sum of o=%{y}<extra></extra>",
           "legendgroup": "entrepreneur",
           "marker": {
            "color": "#FF97FF",
            "pattern": {
             "shape": ""
            }
           },
           "name": "entrepreneur",
           "offsetgroup": "entrepreneur",
           "orientation": "v",
           "showlegend": true,
           "type": "histogram",
           "x": [
            "entrepreneur"
           ],
           "xaxis": "x",
           "y": [
            1200
           ],
           "yaxis": "y"
          },
          {
           "alignmentgroup": "True",
           "bingroup": "x",
           "histfunc": "sum",
           "hovertemplate": "occupation=%{x}<br>publish_year=2017<br>sum of o=%{y}<extra></extra>",
           "legendgroup": "businessperson",
           "marker": {
            "color": "#636efa",
            "pattern": {
             "shape": ""
            }
           },
           "name": "businessperson",
           "offsetgroup": "businessperson",
           "orientation": "v",
           "showlegend": true,
           "type": "histogram",
           "x": [
            "businessperson"
           ],
           "xaxis": "x",
           "y": [
            1279
           ],
           "yaxis": "y"
          }
         ],
         "name": "2017"
        }
       ],
       "layout": {
        "barmode": "relative",
        "legend": {
         "title": {
          "text": "occupation"
         },
         "tracegroupgap": 0
        },
        "margin": {
         "t": 60
        },
        "sliders": [
         {
          "active": 0,
          "currentvalue": {
           "prefix": "publish_year="
          },
          "len": 0.9,
          "pad": {
           "b": 10,
           "t": 60
          },
          "steps": [
           {
            "args": [
             [
              "2008"
             ],
             {
              "frame": {
               "duration": 0,
               "redraw": true
              },
              "fromcurrent": true,
              "mode": "immediate",
              "transition": {
               "duration": 0,
               "easing": "linear"
              }
             }
            ],
            "label": "2008",
            "method": "animate"
           },
           {
            "args": [
             [
              "2009"
             ],
             {
              "frame": {
               "duration": 0,
               "redraw": true
              },
              "fromcurrent": true,
              "mode": "immediate",
              "transition": {
               "duration": 0,
               "easing": "linear"
              }
             }
            ],
            "label": "2009",
            "method": "animate"
           },
           {
            "args": [
             [
              "2010"
             ],
             {
              "frame": {
               "duration": 0,
               "redraw": true
              },
              "fromcurrent": true,
              "mode": "immediate",
              "transition": {
               "duration": 0,
               "easing": "linear"
              }
             }
            ],
            "label": "2010",
            "method": "animate"
           },
           {
            "args": [
             [
              "2011"
             ],
             {
              "frame": {
               "duration": 0,
               "redraw": true
              },
              "fromcurrent": true,
              "mode": "immediate",
              "transition": {
               "duration": 0,
               "easing": "linear"
              }
             }
            ],
            "label": "2011",
            "method": "animate"
           },
           {
            "args": [
             [
              "2012"
             ],
             {
              "frame": {
               "duration": 0,
               "redraw": true
              },
              "fromcurrent": true,
              "mode": "immediate",
              "transition": {
               "duration": 0,
               "easing": "linear"
              }
             }
            ],
            "label": "2012",
            "method": "animate"
           },
           {
            "args": [
             [
              "2013"
             ],
             {
              "frame": {
               "duration": 0,
               "redraw": true
              },
              "fromcurrent": true,
              "mode": "immediate",
              "transition": {
               "duration": 0,
               "easing": "linear"
              }
             }
            ],
            "label": "2013",
            "method": "animate"
           },
           {
            "args": [
             [
              "2014"
             ],
             {
              "frame": {
               "duration": 0,
               "redraw": true
              },
              "fromcurrent": true,
              "mode": "immediate",
              "transition": {
               "duration": 0,
               "easing": "linear"
              }
             }
            ],
            "label": "2014",
            "method": "animate"
           },
           {
            "args": [
             [
              "2015"
             ],
             {
              "frame": {
               "duration": 0,
               "redraw": true
              },
              "fromcurrent": true,
              "mode": "immediate",
              "transition": {
               "duration": 0,
               "easing": "linear"
              }
             }
            ],
            "label": "2015",
            "method": "animate"
           },
           {
            "args": [
             [
              "2016"
             ],
             {
              "frame": {
               "duration": 0,
               "redraw": true
              },
              "fromcurrent": true,
              "mode": "immediate",
              "transition": {
               "duration": 0,
               "easing": "linear"
              }
             }
            ],
            "label": "2016",
            "method": "animate"
           },
           {
            "args": [
             [
              "2017"
             ],
             {
              "frame": {
               "duration": 0,
               "redraw": true
              },
              "fromcurrent": true,
              "mode": "immediate",
              "transition": {
               "duration": 0,
               "easing": "linear"
              }
             }
            ],
            "label": "2017",
            "method": "animate"
           }
          ],
          "x": 0.1,
          "xanchor": "left",
          "y": 0,
          "yanchor": "top"
         }
        ],
        "template": {
         "data": {
          "bar": [
           {
            "error_x": {
             "color": "#2a3f5f"
            },
            "error_y": {
             "color": "#2a3f5f"
            },
            "marker": {
             "line": {
              "color": "#E5ECF6",
              "width": 0.5
             },
             "pattern": {
              "fillmode": "overlay",
              "size": 10,
              "solidity": 0.2
             }
            },
            "type": "bar"
           }
          ],
          "barpolar": [
           {
            "marker": {
             "line": {
              "color": "#E5ECF6",
              "width": 0.5
             },
             "pattern": {
              "fillmode": "overlay",
              "size": 10,
              "solidity": 0.2
             }
            },
            "type": "barpolar"
           }
          ],
          "carpet": [
           {
            "aaxis": {
             "endlinecolor": "#2a3f5f",
             "gridcolor": "white",
             "linecolor": "white",
             "minorgridcolor": "white",
             "startlinecolor": "#2a3f5f"
            },
            "baxis": {
             "endlinecolor": "#2a3f5f",
             "gridcolor": "white",
             "linecolor": "white",
             "minorgridcolor": "white",
             "startlinecolor": "#2a3f5f"
            },
            "type": "carpet"
           }
          ],
          "choropleth": [
           {
            "colorbar": {
             "outlinewidth": 0,
             "ticks": ""
            },
            "type": "choropleth"
           }
          ],
          "contour": [
           {
            "colorbar": {
             "outlinewidth": 0,
             "ticks": ""
            },
            "colorscale": [
             [
              0,
              "#0d0887"
             ],
             [
              0.1111111111111111,
              "#46039f"
             ],
             [
              0.2222222222222222,
              "#7201a8"
             ],
             [
              0.3333333333333333,
              "#9c179e"
             ],
             [
              0.4444444444444444,
              "#bd3786"
             ],
             [
              0.5555555555555556,
              "#d8576b"
             ],
             [
              0.6666666666666666,
              "#ed7953"
             ],
             [
              0.7777777777777778,
              "#fb9f3a"
             ],
             [
              0.8888888888888888,
              "#fdca26"
             ],
             [
              1,
              "#f0f921"
             ]
            ],
            "type": "contour"
           }
          ],
          "contourcarpet": [
           {
            "colorbar": {
             "outlinewidth": 0,
             "ticks": ""
            },
            "type": "contourcarpet"
           }
          ],
          "heatmap": [
           {
            "colorbar": {
             "outlinewidth": 0,
             "ticks": ""
            },
            "colorscale": [
             [
              0,
              "#0d0887"
             ],
             [
              0.1111111111111111,
              "#46039f"
             ],
             [
              0.2222222222222222,
              "#7201a8"
             ],
             [
              0.3333333333333333,
              "#9c179e"
             ],
             [
              0.4444444444444444,
              "#bd3786"
             ],
             [
              0.5555555555555556,
              "#d8576b"
             ],
             [
              0.6666666666666666,
              "#ed7953"
             ],
             [
              0.7777777777777778,
              "#fb9f3a"
             ],
             [
              0.8888888888888888,
              "#fdca26"
             ],
             [
              1,
              "#f0f921"
             ]
            ],
            "type": "heatmap"
           }
          ],
          "heatmapgl": [
           {
            "colorbar": {
             "outlinewidth": 0,
             "ticks": ""
            },
            "colorscale": [
             [
              0,
              "#0d0887"
             ],
             [
              0.1111111111111111,
              "#46039f"
             ],
             [
              0.2222222222222222,
              "#7201a8"
             ],
             [
              0.3333333333333333,
              "#9c179e"
             ],
             [
              0.4444444444444444,
              "#bd3786"
             ],
             [
              0.5555555555555556,
              "#d8576b"
             ],
             [
              0.6666666666666666,
              "#ed7953"
             ],
             [
              0.7777777777777778,
              "#fb9f3a"
             ],
             [
              0.8888888888888888,
              "#fdca26"
             ],
             [
              1,
              "#f0f921"
             ]
            ],
            "type": "heatmapgl"
           }
          ],
          "histogram": [
           {
            "marker": {
             "pattern": {
              "fillmode": "overlay",
              "size": 10,
              "solidity": 0.2
             }
            },
            "type": "histogram"
           }
          ],
          "histogram2d": [
           {
            "colorbar": {
             "outlinewidth": 0,
             "ticks": ""
            },
            "colorscale": [
             [
              0,
              "#0d0887"
             ],
             [
              0.1111111111111111,
              "#46039f"
             ],
             [
              0.2222222222222222,
              "#7201a8"
             ],
             [
              0.3333333333333333,
              "#9c179e"
             ],
             [
              0.4444444444444444,
              "#bd3786"
             ],
             [
              0.5555555555555556,
              "#d8576b"
             ],
             [
              0.6666666666666666,
              "#ed7953"
             ],
             [
              0.7777777777777778,
              "#fb9f3a"
             ],
             [
              0.8888888888888888,
              "#fdca26"
             ],
             [
              1,
              "#f0f921"
             ]
            ],
            "type": "histogram2d"
           }
          ],
          "histogram2dcontour": [
           {
            "colorbar": {
             "outlinewidth": 0,
             "ticks": ""
            },
            "colorscale": [
             [
              0,
              "#0d0887"
             ],
             [
              0.1111111111111111,
              "#46039f"
             ],
             [
              0.2222222222222222,
              "#7201a8"
             ],
             [
              0.3333333333333333,
              "#9c179e"
             ],
             [
              0.4444444444444444,
              "#bd3786"
             ],
             [
              0.5555555555555556,
              "#d8576b"
             ],
             [
              0.6666666666666666,
              "#ed7953"
             ],
             [
              0.7777777777777778,
              "#fb9f3a"
             ],
             [
              0.8888888888888888,
              "#fdca26"
             ],
             [
              1,
              "#f0f921"
             ]
            ],
            "type": "histogram2dcontour"
           }
          ],
          "mesh3d": [
           {
            "colorbar": {
             "outlinewidth": 0,
             "ticks": ""
            },
            "type": "mesh3d"
           }
          ],
          "parcoords": [
           {
            "line": {
             "colorbar": {
              "outlinewidth": 0,
              "ticks": ""
             }
            },
            "type": "parcoords"
           }
          ],
          "pie": [
           {
            "automargin": true,
            "type": "pie"
           }
          ],
          "scatter": [
           {
            "marker": {
             "colorbar": {
              "outlinewidth": 0,
              "ticks": ""
             }
            },
            "type": "scatter"
           }
          ],
          "scatter3d": [
           {
            "line": {
             "colorbar": {
              "outlinewidth": 0,
              "ticks": ""
             }
            },
            "marker": {
             "colorbar": {
              "outlinewidth": 0,
              "ticks": ""
             }
            },
            "type": "scatter3d"
           }
          ],
          "scattercarpet": [
           {
            "marker": {
             "colorbar": {
              "outlinewidth": 0,
              "ticks": ""
             }
            },
            "type": "scattercarpet"
           }
          ],
          "scattergeo": [
           {
            "marker": {
             "colorbar": {
              "outlinewidth": 0,
              "ticks": ""
             }
            },
            "type": "scattergeo"
           }
          ],
          "scattergl": [
           {
            "marker": {
             "colorbar": {
              "outlinewidth": 0,
              "ticks": ""
             }
            },
            "type": "scattergl"
           }
          ],
          "scattermapbox": [
           {
            "marker": {
             "colorbar": {
              "outlinewidth": 0,
              "ticks": ""
             }
            },
            "type": "scattermapbox"
           }
          ],
          "scatterpolar": [
           {
            "marker": {
             "colorbar": {
              "outlinewidth": 0,
              "ticks": ""
             }
            },
            "type": "scatterpolar"
           }
          ],
          "scatterpolargl": [
           {
            "marker": {
             "colorbar": {
              "outlinewidth": 0,
              "ticks": ""
             }
            },
            "type": "scatterpolargl"
           }
          ],
          "scatterternary": [
           {
            "marker": {
             "colorbar": {
              "outlinewidth": 0,
              "ticks": ""
             }
            },
            "type": "scatterternary"
           }
          ],
          "surface": [
           {
            "colorbar": {
             "outlinewidth": 0,
             "ticks": ""
            },
            "colorscale": [
             [
              0,
              "#0d0887"
             ],
             [
              0.1111111111111111,
              "#46039f"
             ],
             [
              0.2222222222222222,
              "#7201a8"
             ],
             [
              0.3333333333333333,
              "#9c179e"
             ],
             [
              0.4444444444444444,
              "#bd3786"
             ],
             [
              0.5555555555555556,
              "#d8576b"
             ],
             [
              0.6666666666666666,
              "#ed7953"
             ],
             [
              0.7777777777777778,
              "#fb9f3a"
             ],
             [
              0.8888888888888888,
              "#fdca26"
             ],
             [
              1,
              "#f0f921"
             ]
            ],
            "type": "surface"
           }
          ],
          "table": [
           {
            "cells": {
             "fill": {
              "color": "#EBF0F8"
             },
             "line": {
              "color": "white"
             }
            },
            "header": {
             "fill": {
              "color": "#C8D4E3"
             },
             "line": {
              "color": "white"
             }
            },
            "type": "table"
           }
          ]
         },
         "layout": {
          "annotationdefaults": {
           "arrowcolor": "#2a3f5f",
           "arrowhead": 0,
           "arrowwidth": 1
          },
          "autotypenumbers": "strict",
          "coloraxis": {
           "colorbar": {
            "outlinewidth": 0,
            "ticks": ""
           }
          },
          "colorscale": {
           "diverging": [
            [
             0,
             "#8e0152"
            ],
            [
             0.1,
             "#c51b7d"
            ],
            [
             0.2,
             "#de77ae"
            ],
            [
             0.3,
             "#f1b6da"
            ],
            [
             0.4,
             "#fde0ef"
            ],
            [
             0.5,
             "#f7f7f7"
            ],
            [
             0.6,
             "#e6f5d0"
            ],
            [
             0.7,
             "#b8e186"
            ],
            [
             0.8,
             "#7fbc41"
            ],
            [
             0.9,
             "#4d9221"
            ],
            [
             1,
             "#276419"
            ]
           ],
           "sequential": [
            [
             0,
             "#0d0887"
            ],
            [
             0.1111111111111111,
             "#46039f"
            ],
            [
             0.2222222222222222,
             "#7201a8"
            ],
            [
             0.3333333333333333,
             "#9c179e"
            ],
            [
             0.4444444444444444,
             "#bd3786"
            ],
            [
             0.5555555555555556,
             "#d8576b"
            ],
            [
             0.6666666666666666,
             "#ed7953"
            ],
            [
             0.7777777777777778,
             "#fb9f3a"
            ],
            [
             0.8888888888888888,
             "#fdca26"
            ],
            [
             1,
             "#f0f921"
            ]
           ],
           "sequentialminus": [
            [
             0,
             "#0d0887"
            ],
            [
             0.1111111111111111,
             "#46039f"
            ],
            [
             0.2222222222222222,
             "#7201a8"
            ],
            [
             0.3333333333333333,
             "#9c179e"
            ],
            [
             0.4444444444444444,
             "#bd3786"
            ],
            [
             0.5555555555555556,
             "#d8576b"
            ],
            [
             0.6666666666666666,
             "#ed7953"
            ],
            [
             0.7777777777777778,
             "#fb9f3a"
            ],
            [
             0.8888888888888888,
             "#fdca26"
            ],
            [
             1,
             "#f0f921"
            ]
           ]
          },
          "colorway": [
           "#636efa",
           "#EF553B",
           "#00cc96",
           "#ab63fa",
           "#FFA15A",
           "#19d3f3",
           "#FF6692",
           "#B6E880",
           "#FF97FF",
           "#FECB52"
          ],
          "font": {
           "color": "#2a3f5f"
          },
          "geo": {
           "bgcolor": "white",
           "lakecolor": "white",
           "landcolor": "#E5ECF6",
           "showlakes": true,
           "showland": true,
           "subunitcolor": "white"
          },
          "hoverlabel": {
           "align": "left"
          },
          "hovermode": "closest",
          "mapbox": {
           "style": "light"
          },
          "paper_bgcolor": "white",
          "plot_bgcolor": "#E5ECF6",
          "polar": {
           "angularaxis": {
            "gridcolor": "white",
            "linecolor": "white",
            "ticks": ""
           },
           "bgcolor": "#E5ECF6",
           "radialaxis": {
            "gridcolor": "white",
            "linecolor": "white",
            "ticks": ""
           }
          },
          "scene": {
           "xaxis": {
            "backgroundcolor": "#E5ECF6",
            "gridcolor": "white",
            "gridwidth": 2,
            "linecolor": "white",
            "showbackground": true,
            "ticks": "",
            "zerolinecolor": "white"
           },
           "yaxis": {
            "backgroundcolor": "#E5ECF6",
            "gridcolor": "white",
            "gridwidth": 2,
            "linecolor": "white",
            "showbackground": true,
            "ticks": "",
            "zerolinecolor": "white"
           },
           "zaxis": {
            "backgroundcolor": "#E5ECF6",
            "gridcolor": "white",
            "gridwidth": 2,
            "linecolor": "white",
            "showbackground": true,
            "ticks": "",
            "zerolinecolor": "white"
           }
          },
          "shapedefaults": {
           "line": {
            "color": "#2a3f5f"
           }
          },
          "ternary": {
           "aaxis": {
            "gridcolor": "white",
            "linecolor": "white",
            "ticks": ""
           },
           "baxis": {
            "gridcolor": "white",
            "linecolor": "white",
            "ticks": ""
           },
           "bgcolor": "#E5ECF6",
           "caxis": {
            "gridcolor": "white",
            "linecolor": "white",
            "ticks": ""
           }
          },
          "title": {
           "x": 0.05
          },
          "xaxis": {
           "automargin": true,
           "gridcolor": "white",
           "linecolor": "white",
           "ticks": "",
           "title": {
            "standoff": 15
           },
           "zerolinecolor": "white",
           "zerolinewidth": 2
          },
          "yaxis": {
           "automargin": true,
           "gridcolor": "white",
           "linecolor": "white",
           "ticks": "",
           "title": {
            "standoff": 15
           },
           "zerolinecolor": "white",
           "zerolinewidth": 2
          }
         }
        },
        "xaxis": {
         "anchor": "y",
         "autorange": true,
         "categoryarray": [
          "politician",
          "cryptographer",
          "engineer",
          "director",
          "scientist",
          "sport",
          "programmer",
          "economist",
          "entrepreneur",
          "administrator",
          "businessperson",
          "journalist",
          "actor",
          "podcaster"
         ],
         "categoryorder": "total descending",
         "domain": [
          0,
          1
         ],
         "fixedrange": false,
         "title": {
          "text": "occupation"
         }
        },
        "yaxis": {
         "anchor": "x",
         "domain": [
          0,
          1
         ],
         "range": [
          0,
          2000
         ],
         "title": {
          "text": "sum of o"
         }
        }
       }
      },
      "text/html": [
       "<div>                            <div id=\"6bcc46b1-0474-4dd4-b732-ddf0f18d350f\" class=\"plotly-graph-div\" style=\"height:525px; width:100%;\"></div>            <script type=\"text/javascript\">                require([\"plotly\"], function(Plotly) {                    window.PLOTLYENV=window.PLOTLYENV || {};                                    if (document.getElementById(\"6bcc46b1-0474-4dd4-b732-ddf0f18d350f\")) {                    Plotly.newPlot(                        \"6bcc46b1-0474-4dd4-b732-ddf0f18d350f\",                        [{\"alignmentgroup\":\"True\",\"bingroup\":\"x\",\"histfunc\":\"sum\",\"hovertemplate\":\"occupation=%{x}<br>publish_year=2008<br>sum of o=%{y}<extra></extra>\",\"legendgroup\":\"politician\",\"marker\":{\"color\":\"#636efa\",\"pattern\":{\"shape\":\"\"}},\"name\":\"politician\",\"offsetgroup\":\"politician\",\"orientation\":\"v\",\"showlegend\":true,\"type\":\"histogram\",\"x\":[\"politician\"],\"xaxis\":\"x\",\"y\":[11],\"yaxis\":\"y\"},{\"alignmentgroup\":\"True\",\"bingroup\":\"x\",\"histfunc\":\"sum\",\"hovertemplate\":\"occupation=%{x}<br>publish_year=2008<br>sum of o=%{y}<extra></extra>\",\"legendgroup\":\"cryptographer\",\"marker\":{\"color\":\"#EF553B\",\"pattern\":{\"shape\":\"\"}},\"name\":\"cryptographer\",\"offsetgroup\":\"cryptographer\",\"orientation\":\"v\",\"showlegend\":true,\"type\":\"histogram\",\"x\":[\"cryptographer\"],\"xaxis\":\"x\",\"y\":[9],\"yaxis\":\"y\"},{\"alignmentgroup\":\"True\",\"bingroup\":\"x\",\"histfunc\":\"sum\",\"hovertemplate\":\"occupation=%{x}<br>publish_year=2008<br>sum of o=%{y}<extra></extra>\",\"legendgroup\":\"engineer\",\"marker\":{\"color\":\"#00cc96\",\"pattern\":{\"shape\":\"\"}},\"name\":\"engineer\",\"offsetgroup\":\"engineer\",\"orientation\":\"v\",\"showlegend\":true,\"type\":\"histogram\",\"x\":[\"engineer\"],\"xaxis\":\"x\",\"y\":[5],\"yaxis\":\"y\"},{\"alignmentgroup\":\"True\",\"bingroup\":\"x\",\"histfunc\":\"sum\",\"hovertemplate\":\"occupation=%{x}<br>publish_year=2008<br>sum of o=%{y}<extra></extra>\",\"legendgroup\":\"director\",\"marker\":{\"color\":\"#ab63fa\",\"pattern\":{\"shape\":\"\"}},\"name\":\"director\",\"offsetgroup\":\"director\",\"orientation\":\"v\",\"showlegend\":true,\"type\":\"histogram\",\"x\":[\"director\"],\"xaxis\":\"x\",\"y\":[2],\"yaxis\":\"y\"},{\"alignmentgroup\":\"True\",\"bingroup\":\"x\",\"histfunc\":\"sum\",\"hovertemplate\":\"occupation=%{x}<br>publish_year=2008<br>sum of o=%{y}<extra></extra>\",\"legendgroup\":\"scientist\",\"marker\":{\"color\":\"#FFA15A\",\"pattern\":{\"shape\":\"\"}},\"name\":\"scientist\",\"offsetgroup\":\"scientist\",\"orientation\":\"v\",\"showlegend\":true,\"type\":\"histogram\",\"x\":[\"scientist\"],\"xaxis\":\"x\",\"y\":[1],\"yaxis\":\"y\"}],                        {\"barmode\":\"relative\",\"legend\":{\"title\":{\"text\":\"occupation\"},\"tracegroupgap\":0},\"margin\":{\"t\":60},\"sliders\":[{\"active\":0,\"currentvalue\":{\"prefix\":\"publish_year=\"},\"len\":0.9,\"pad\":{\"b\":10,\"t\":60},\"steps\":[{\"args\":[[\"2008\"],{\"frame\":{\"duration\":0,\"redraw\":true},\"fromcurrent\":true,\"mode\":\"immediate\",\"transition\":{\"duration\":0,\"easing\":\"linear\"}}],\"label\":\"2008\",\"method\":\"animate\"},{\"args\":[[\"2009\"],{\"frame\":{\"duration\":0,\"redraw\":true},\"fromcurrent\":true,\"mode\":\"immediate\",\"transition\":{\"duration\":0,\"easing\":\"linear\"}}],\"label\":\"2009\",\"method\":\"animate\"},{\"args\":[[\"2010\"],{\"frame\":{\"duration\":0,\"redraw\":true},\"fromcurrent\":true,\"mode\":\"immediate\",\"transition\":{\"duration\":0,\"easing\":\"linear\"}}],\"label\":\"2010\",\"method\":\"animate\"},{\"args\":[[\"2011\"],{\"frame\":{\"duration\":0,\"redraw\":true},\"fromcurrent\":true,\"mode\":\"immediate\",\"transition\":{\"duration\":0,\"easing\":\"linear\"}}],\"label\":\"2011\",\"method\":\"animate\"},{\"args\":[[\"2012\"],{\"frame\":{\"duration\":0,\"redraw\":true},\"fromcurrent\":true,\"mode\":\"immediate\",\"transition\":{\"duration\":0,\"easing\":\"linear\"}}],\"label\":\"2012\",\"method\":\"animate\"},{\"args\":[[\"2013\"],{\"frame\":{\"duration\":0,\"redraw\":true},\"fromcurrent\":true,\"mode\":\"immediate\",\"transition\":{\"duration\":0,\"easing\":\"linear\"}}],\"label\":\"2013\",\"method\":\"animate\"},{\"args\":[[\"2014\"],{\"frame\":{\"duration\":0,\"redraw\":true},\"fromcurrent\":true,\"mode\":\"immediate\",\"transition\":{\"duration\":0,\"easing\":\"linear\"}}],\"label\":\"2014\",\"method\":\"animate\"},{\"args\":[[\"2015\"],{\"frame\":{\"duration\":0,\"redraw\":true},\"fromcurrent\":true,\"mode\":\"immediate\",\"transition\":{\"duration\":0,\"easing\":\"linear\"}}],\"label\":\"2015\",\"method\":\"animate\"},{\"args\":[[\"2016\"],{\"frame\":{\"duration\":0,\"redraw\":true},\"fromcurrent\":true,\"mode\":\"immediate\",\"transition\":{\"duration\":0,\"easing\":\"linear\"}}],\"label\":\"2016\",\"method\":\"animate\"},{\"args\":[[\"2017\"],{\"frame\":{\"duration\":0,\"redraw\":true},\"fromcurrent\":true,\"mode\":\"immediate\",\"transition\":{\"duration\":0,\"easing\":\"linear\"}}],\"label\":\"2017\",\"method\":\"animate\"}],\"x\":0.1,\"xanchor\":\"left\",\"y\":0,\"yanchor\":\"top\"}],\"template\":{\"data\":{\"bar\":[{\"error_x\":{\"color\":\"#2a3f5f\"},\"error_y\":{\"color\":\"#2a3f5f\"},\"marker\":{\"line\":{\"color\":\"#E5ECF6\",\"width\":0.5},\"pattern\":{\"fillmode\":\"overlay\",\"size\":10,\"solidity\":0.2}},\"type\":\"bar\"}],\"barpolar\":[{\"marker\":{\"line\":{\"color\":\"#E5ECF6\",\"width\":0.5},\"pattern\":{\"fillmode\":\"overlay\",\"size\":10,\"solidity\":0.2}},\"type\":\"barpolar\"}],\"carpet\":[{\"aaxis\":{\"endlinecolor\":\"#2a3f5f\",\"gridcolor\":\"white\",\"linecolor\":\"white\",\"minorgridcolor\":\"white\",\"startlinecolor\":\"#2a3f5f\"},\"baxis\":{\"endlinecolor\":\"#2a3f5f\",\"gridcolor\":\"white\",\"linecolor\":\"white\",\"minorgridcolor\":\"white\",\"startlinecolor\":\"#2a3f5f\"},\"type\":\"carpet\"}],\"choropleth\":[{\"colorbar\":{\"outlinewidth\":0,\"ticks\":\"\"},\"type\":\"choropleth\"}],\"contour\":[{\"colorbar\":{\"outlinewidth\":0,\"ticks\":\"\"},\"colorscale\":[[0.0,\"#0d0887\"],[0.1111111111111111,\"#46039f\"],[0.2222222222222222,\"#7201a8\"],[0.3333333333333333,\"#9c179e\"],[0.4444444444444444,\"#bd3786\"],[0.5555555555555556,\"#d8576b\"],[0.6666666666666666,\"#ed7953\"],[0.7777777777777778,\"#fb9f3a\"],[0.8888888888888888,\"#fdca26\"],[1.0,\"#f0f921\"]],\"type\":\"contour\"}],\"contourcarpet\":[{\"colorbar\":{\"outlinewidth\":0,\"ticks\":\"\"},\"type\":\"contourcarpet\"}],\"heatmap\":[{\"colorbar\":{\"outlinewidth\":0,\"ticks\":\"\"},\"colorscale\":[[0.0,\"#0d0887\"],[0.1111111111111111,\"#46039f\"],[0.2222222222222222,\"#7201a8\"],[0.3333333333333333,\"#9c179e\"],[0.4444444444444444,\"#bd3786\"],[0.5555555555555556,\"#d8576b\"],[0.6666666666666666,\"#ed7953\"],[0.7777777777777778,\"#fb9f3a\"],[0.8888888888888888,\"#fdca26\"],[1.0,\"#f0f921\"]],\"type\":\"heatmap\"}],\"heatmapgl\":[{\"colorbar\":{\"outlinewidth\":0,\"ticks\":\"\"},\"colorscale\":[[0.0,\"#0d0887\"],[0.1111111111111111,\"#46039f\"],[0.2222222222222222,\"#7201a8\"],[0.3333333333333333,\"#9c179e\"],[0.4444444444444444,\"#bd3786\"],[0.5555555555555556,\"#d8576b\"],[0.6666666666666666,\"#ed7953\"],[0.7777777777777778,\"#fb9f3a\"],[0.8888888888888888,\"#fdca26\"],[1.0,\"#f0f921\"]],\"type\":\"heatmapgl\"}],\"histogram\":[{\"marker\":{\"pattern\":{\"fillmode\":\"overlay\",\"size\":10,\"solidity\":0.2}},\"type\":\"histogram\"}],\"histogram2d\":[{\"colorbar\":{\"outlinewidth\":0,\"ticks\":\"\"},\"colorscale\":[[0.0,\"#0d0887\"],[0.1111111111111111,\"#46039f\"],[0.2222222222222222,\"#7201a8\"],[0.3333333333333333,\"#9c179e\"],[0.4444444444444444,\"#bd3786\"],[0.5555555555555556,\"#d8576b\"],[0.6666666666666666,\"#ed7953\"],[0.7777777777777778,\"#fb9f3a\"],[0.8888888888888888,\"#fdca26\"],[1.0,\"#f0f921\"]],\"type\":\"histogram2d\"}],\"histogram2dcontour\":[{\"colorbar\":{\"outlinewidth\":0,\"ticks\":\"\"},\"colorscale\":[[0.0,\"#0d0887\"],[0.1111111111111111,\"#46039f\"],[0.2222222222222222,\"#7201a8\"],[0.3333333333333333,\"#9c179e\"],[0.4444444444444444,\"#bd3786\"],[0.5555555555555556,\"#d8576b\"],[0.6666666666666666,\"#ed7953\"],[0.7777777777777778,\"#fb9f3a\"],[0.8888888888888888,\"#fdca26\"],[1.0,\"#f0f921\"]],\"type\":\"histogram2dcontour\"}],\"mesh3d\":[{\"colorbar\":{\"outlinewidth\":0,\"ticks\":\"\"},\"type\":\"mesh3d\"}],\"parcoords\":[{\"line\":{\"colorbar\":{\"outlinewidth\":0,\"ticks\":\"\"}},\"type\":\"parcoords\"}],\"pie\":[{\"automargin\":true,\"type\":\"pie\"}],\"scatter\":[{\"marker\":{\"colorbar\":{\"outlinewidth\":0,\"ticks\":\"\"}},\"type\":\"scatter\"}],\"scatter3d\":[{\"line\":{\"colorbar\":{\"outlinewidth\":0,\"ticks\":\"\"}},\"marker\":{\"colorbar\":{\"outlinewidth\":0,\"ticks\":\"\"}},\"type\":\"scatter3d\"}],\"scattercarpet\":[{\"marker\":{\"colorbar\":{\"outlinewidth\":0,\"ticks\":\"\"}},\"type\":\"scattercarpet\"}],\"scattergeo\":[{\"marker\":{\"colorbar\":{\"outlinewidth\":0,\"ticks\":\"\"}},\"type\":\"scattergeo\"}],\"scattergl\":[{\"marker\":{\"colorbar\":{\"outlinewidth\":0,\"ticks\":\"\"}},\"type\":\"scattergl\"}],\"scattermapbox\":[{\"marker\":{\"colorbar\":{\"outlinewidth\":0,\"ticks\":\"\"}},\"type\":\"scattermapbox\"}],\"scatterpolar\":[{\"marker\":{\"colorbar\":{\"outlinewidth\":0,\"ticks\":\"\"}},\"type\":\"scatterpolar\"}],\"scatterpolargl\":[{\"marker\":{\"colorbar\":{\"outlinewidth\":0,\"ticks\":\"\"}},\"type\":\"scatterpolargl\"}],\"scatterternary\":[{\"marker\":{\"colorbar\":{\"outlinewidth\":0,\"ticks\":\"\"}},\"type\":\"scatterternary\"}],\"surface\":[{\"colorbar\":{\"outlinewidth\":0,\"ticks\":\"\"},\"colorscale\":[[0.0,\"#0d0887\"],[0.1111111111111111,\"#46039f\"],[0.2222222222222222,\"#7201a8\"],[0.3333333333333333,\"#9c179e\"],[0.4444444444444444,\"#bd3786\"],[0.5555555555555556,\"#d8576b\"],[0.6666666666666666,\"#ed7953\"],[0.7777777777777778,\"#fb9f3a\"],[0.8888888888888888,\"#fdca26\"],[1.0,\"#f0f921\"]],\"type\":\"surface\"}],\"table\":[{\"cells\":{\"fill\":{\"color\":\"#EBF0F8\"},\"line\":{\"color\":\"white\"}},\"header\":{\"fill\":{\"color\":\"#C8D4E3\"},\"line\":{\"color\":\"white\"}},\"type\":\"table\"}]},\"layout\":{\"annotationdefaults\":{\"arrowcolor\":\"#2a3f5f\",\"arrowhead\":0,\"arrowwidth\":1},\"autotypenumbers\":\"strict\",\"coloraxis\":{\"colorbar\":{\"outlinewidth\":0,\"ticks\":\"\"}},\"colorscale\":{\"diverging\":[[0,\"#8e0152\"],[0.1,\"#c51b7d\"],[0.2,\"#de77ae\"],[0.3,\"#f1b6da\"],[0.4,\"#fde0ef\"],[0.5,\"#f7f7f7\"],[0.6,\"#e6f5d0\"],[0.7,\"#b8e186\"],[0.8,\"#7fbc41\"],[0.9,\"#4d9221\"],[1,\"#276419\"]],\"sequential\":[[0.0,\"#0d0887\"],[0.1111111111111111,\"#46039f\"],[0.2222222222222222,\"#7201a8\"],[0.3333333333333333,\"#9c179e\"],[0.4444444444444444,\"#bd3786\"],[0.5555555555555556,\"#d8576b\"],[0.6666666666666666,\"#ed7953\"],[0.7777777777777778,\"#fb9f3a\"],[0.8888888888888888,\"#fdca26\"],[1.0,\"#f0f921\"]],\"sequentialminus\":[[0.0,\"#0d0887\"],[0.1111111111111111,\"#46039f\"],[0.2222222222222222,\"#7201a8\"],[0.3333333333333333,\"#9c179e\"],[0.4444444444444444,\"#bd3786\"],[0.5555555555555556,\"#d8576b\"],[0.6666666666666666,\"#ed7953\"],[0.7777777777777778,\"#fb9f3a\"],[0.8888888888888888,\"#fdca26\"],[1.0,\"#f0f921\"]]},\"colorway\":[\"#636efa\",\"#EF553B\",\"#00cc96\",\"#ab63fa\",\"#FFA15A\",\"#19d3f3\",\"#FF6692\",\"#B6E880\",\"#FF97FF\",\"#FECB52\"],\"font\":{\"color\":\"#2a3f5f\"},\"geo\":{\"bgcolor\":\"white\",\"lakecolor\":\"white\",\"landcolor\":\"#E5ECF6\",\"showlakes\":true,\"showland\":true,\"subunitcolor\":\"white\"},\"hoverlabel\":{\"align\":\"left\"},\"hovermode\":\"closest\",\"mapbox\":{\"style\":\"light\"},\"paper_bgcolor\":\"white\",\"plot_bgcolor\":\"#E5ECF6\",\"polar\":{\"angularaxis\":{\"gridcolor\":\"white\",\"linecolor\":\"white\",\"ticks\":\"\"},\"bgcolor\":\"#E5ECF6\",\"radialaxis\":{\"gridcolor\":\"white\",\"linecolor\":\"white\",\"ticks\":\"\"}},\"scene\":{\"xaxis\":{\"backgroundcolor\":\"#E5ECF6\",\"gridcolor\":\"white\",\"gridwidth\":2,\"linecolor\":\"white\",\"showbackground\":true,\"ticks\":\"\",\"zerolinecolor\":\"white\"},\"yaxis\":{\"backgroundcolor\":\"#E5ECF6\",\"gridcolor\":\"white\",\"gridwidth\":2,\"linecolor\":\"white\",\"showbackground\":true,\"ticks\":\"\",\"zerolinecolor\":\"white\"},\"zaxis\":{\"backgroundcolor\":\"#E5ECF6\",\"gridcolor\":\"white\",\"gridwidth\":2,\"linecolor\":\"white\",\"showbackground\":true,\"ticks\":\"\",\"zerolinecolor\":\"white\"}},\"shapedefaults\":{\"line\":{\"color\":\"#2a3f5f\"}},\"ternary\":{\"aaxis\":{\"gridcolor\":\"white\",\"linecolor\":\"white\",\"ticks\":\"\"},\"baxis\":{\"gridcolor\":\"white\",\"linecolor\":\"white\",\"ticks\":\"\"},\"bgcolor\":\"#E5ECF6\",\"caxis\":{\"gridcolor\":\"white\",\"linecolor\":\"white\",\"ticks\":\"\"}},\"title\":{\"x\":0.05},\"xaxis\":{\"automargin\":true,\"gridcolor\":\"white\",\"linecolor\":\"white\",\"ticks\":\"\",\"title\":{\"standoff\":15},\"zerolinecolor\":\"white\",\"zerolinewidth\":2},\"yaxis\":{\"automargin\":true,\"gridcolor\":\"white\",\"linecolor\":\"white\",\"ticks\":\"\",\"title\":{\"standoff\":15},\"zerolinecolor\":\"white\",\"zerolinewidth\":2}}},\"xaxis\":{\"anchor\":\"y\",\"autorange\":true,\"categoryarray\":[\"politician\",\"cryptographer\",\"engineer\",\"director\",\"scientist\",\"sport\",\"programmer\",\"economist\",\"entrepreneur\",\"administrator\",\"businessperson\",\"journalist\",\"actor\",\"podcaster\"],\"categoryorder\":\"total descending\",\"domain\":[0.0,1.0],\"fixedrange\":false,\"title\":{\"text\":\"occupation\"}},\"yaxis\":{\"anchor\":\"x\",\"domain\":[0.0,1.0],\"range\":[0,2000],\"title\":{\"text\":\"sum of o\"}}},                        {\"responsive\": true}                    ).then(function(){\n",
       "                            Plotly.addFrames('6bcc46b1-0474-4dd4-b732-ddf0f18d350f', [{\"data\":[{\"alignmentgroup\":\"True\",\"bingroup\":\"x\",\"histfunc\":\"sum\",\"hovertemplate\":\"occupation=%{x}<br>publish_year=2008<br>sum of o=%{y}<extra></extra>\",\"legendgroup\":\"politician\",\"marker\":{\"color\":\"#636efa\",\"pattern\":{\"shape\":\"\"}},\"name\":\"politician\",\"offsetgroup\":\"politician\",\"orientation\":\"v\",\"showlegend\":true,\"type\":\"histogram\",\"x\":[\"politician\"],\"xaxis\":\"x\",\"y\":[11],\"yaxis\":\"y\"},{\"alignmentgroup\":\"True\",\"bingroup\":\"x\",\"histfunc\":\"sum\",\"hovertemplate\":\"occupation=%{x}<br>publish_year=2008<br>sum of o=%{y}<extra></extra>\",\"legendgroup\":\"cryptographer\",\"marker\":{\"color\":\"#EF553B\",\"pattern\":{\"shape\":\"\"}},\"name\":\"cryptographer\",\"offsetgroup\":\"cryptographer\",\"orientation\":\"v\",\"showlegend\":true,\"type\":\"histogram\",\"x\":[\"cryptographer\"],\"xaxis\":\"x\",\"y\":[9],\"yaxis\":\"y\"},{\"alignmentgroup\":\"True\",\"bingroup\":\"x\",\"histfunc\":\"sum\",\"hovertemplate\":\"occupation=%{x}<br>publish_year=2008<br>sum of o=%{y}<extra></extra>\",\"legendgroup\":\"engineer\",\"marker\":{\"color\":\"#00cc96\",\"pattern\":{\"shape\":\"\"}},\"name\":\"engineer\",\"offsetgroup\":\"engineer\",\"orientation\":\"v\",\"showlegend\":true,\"type\":\"histogram\",\"x\":[\"engineer\"],\"xaxis\":\"x\",\"y\":[5],\"yaxis\":\"y\"},{\"alignmentgroup\":\"True\",\"bingroup\":\"x\",\"histfunc\":\"sum\",\"hovertemplate\":\"occupation=%{x}<br>publish_year=2008<br>sum of o=%{y}<extra></extra>\",\"legendgroup\":\"director\",\"marker\":{\"color\":\"#ab63fa\",\"pattern\":{\"shape\":\"\"}},\"name\":\"director\",\"offsetgroup\":\"director\",\"orientation\":\"v\",\"showlegend\":true,\"type\":\"histogram\",\"x\":[\"director\"],\"xaxis\":\"x\",\"y\":[2],\"yaxis\":\"y\"},{\"alignmentgroup\":\"True\",\"bingroup\":\"x\",\"histfunc\":\"sum\",\"hovertemplate\":\"occupation=%{x}<br>publish_year=2008<br>sum of o=%{y}<extra></extra>\",\"legendgroup\":\"scientist\",\"marker\":{\"color\":\"#FFA15A\",\"pattern\":{\"shape\":\"\"}},\"name\":\"scientist\",\"offsetgroup\":\"scientist\",\"orientation\":\"v\",\"showlegend\":true,\"type\":\"histogram\",\"x\":[\"scientist\"],\"xaxis\":\"x\",\"y\":[1],\"yaxis\":\"y\"}],\"name\":\"2008\"},{\"data\":[{\"alignmentgroup\":\"True\",\"bingroup\":\"x\",\"histfunc\":\"sum\",\"hovertemplate\":\"occupation=%{x}<br>publish_year=2009<br>sum of o=%{y}<extra></extra>\",\"legendgroup\":\"politician\",\"marker\":{\"color\":\"#636efa\",\"pattern\":{\"shape\":\"\"}},\"name\":\"politician\",\"offsetgroup\":\"politician\",\"orientation\":\"v\",\"showlegend\":true,\"type\":\"histogram\",\"x\":[\"politician\"],\"xaxis\":\"x\",\"y\":[28],\"yaxis\":\"y\"},{\"alignmentgroup\":\"True\",\"bingroup\":\"x\",\"histfunc\":\"sum\",\"hovertemplate\":\"occupation=%{x}<br>publish_year=2009<br>sum of o=%{y}<extra></extra>\",\"legendgroup\":\"cryptographer\",\"marker\":{\"color\":\"#EF553B\",\"pattern\":{\"shape\":\"\"}},\"name\":\"cryptographer\",\"offsetgroup\":\"cryptographer\",\"orientation\":\"v\",\"showlegend\":true,\"type\":\"histogram\",\"x\":[\"cryptographer\"],\"xaxis\":\"x\",\"y\":[7],\"yaxis\":\"y\"},{\"alignmentgroup\":\"True\",\"bingroup\":\"x\",\"histfunc\":\"sum\",\"hovertemplate\":\"occupation=%{x}<br>publish_year=2009<br>sum of o=%{y}<extra></extra>\",\"legendgroup\":\"engineer\",\"marker\":{\"color\":\"#00cc96\",\"pattern\":{\"shape\":\"\"}},\"name\":\"engineer\",\"offsetgroup\":\"engineer\",\"orientation\":\"v\",\"showlegend\":true,\"type\":\"histogram\",\"x\":[\"engineer\"],\"xaxis\":\"x\",\"y\":[19],\"yaxis\":\"y\"},{\"alignmentgroup\":\"True\",\"bingroup\":\"x\",\"histfunc\":\"sum\",\"hovertemplate\":\"occupation=%{x}<br>publish_year=2009<br>sum of o=%{y}<extra></extra>\",\"legendgroup\":\"scientist\",\"marker\":{\"color\":\"#FFA15A\",\"pattern\":{\"shape\":\"\"}},\"name\":\"scientist\",\"offsetgroup\":\"scientist\",\"orientation\":\"v\",\"showlegend\":true,\"type\":\"histogram\",\"x\":[\"scientist\"],\"xaxis\":\"x\",\"y\":[8],\"yaxis\":\"y\"},{\"alignmentgroup\":\"True\",\"bingroup\":\"x\",\"histfunc\":\"sum\",\"hovertemplate\":\"occupation=%{x}<br>publish_year=2009<br>sum of o=%{y}<extra></extra>\",\"legendgroup\":\"sport\",\"marker\":{\"color\":\"#19d3f3\",\"pattern\":{\"shape\":\"\"}},\"name\":\"sport\",\"offsetgroup\":\"sport\",\"orientation\":\"v\",\"showlegend\":true,\"type\":\"histogram\",\"x\":[\"sport\"],\"xaxis\":\"x\",\"y\":[8],\"yaxis\":\"y\"}],\"name\":\"2009\"},{\"data\":[{\"alignmentgroup\":\"True\",\"bingroup\":\"x\",\"histfunc\":\"sum\",\"hovertemplate\":\"occupation=%{x}<br>publish_year=2010<br>sum of o=%{y}<extra></extra>\",\"legendgroup\":\"politician\",\"marker\":{\"color\":\"#636efa\",\"pattern\":{\"shape\":\"\"}},\"name\":\"politician\",\"offsetgroup\":\"politician\",\"orientation\":\"v\",\"showlegend\":true,\"type\":\"histogram\",\"x\":[\"politician\"],\"xaxis\":\"x\",\"y\":[54],\"yaxis\":\"y\"},{\"alignmentgroup\":\"True\",\"bingroup\":\"x\",\"histfunc\":\"sum\",\"hovertemplate\":\"occupation=%{x}<br>publish_year=2010<br>sum of o=%{y}<extra></extra>\",\"legendgroup\":\"cryptographer\",\"marker\":{\"color\":\"#EF553B\",\"pattern\":{\"shape\":\"\"}},\"name\":\"cryptographer\",\"offsetgroup\":\"cryptographer\",\"orientation\":\"v\",\"showlegend\":true,\"type\":\"histogram\",\"x\":[\"cryptographer\"],\"xaxis\":\"x\",\"y\":[19],\"yaxis\":\"y\"},{\"alignmentgroup\":\"True\",\"bingroup\":\"x\",\"histfunc\":\"sum\",\"hovertemplate\":\"occupation=%{x}<br>publish_year=2010<br>sum of o=%{y}<extra></extra>\",\"legendgroup\":\"scientist\",\"marker\":{\"color\":\"#FFA15A\",\"pattern\":{\"shape\":\"\"}},\"name\":\"scientist\",\"offsetgroup\":\"scientist\",\"orientation\":\"v\",\"showlegend\":true,\"type\":\"histogram\",\"x\":[\"scientist\"],\"xaxis\":\"x\",\"y\":[11],\"yaxis\":\"y\"},{\"alignmentgroup\":\"True\",\"bingroup\":\"x\",\"histfunc\":\"sum\",\"hovertemplate\":\"occupation=%{x}<br>publish_year=2010<br>sum of o=%{y}<extra></extra>\",\"legendgroup\":\"sport\",\"marker\":{\"color\":\"#19d3f3\",\"pattern\":{\"shape\":\"\"}},\"name\":\"sport\",\"offsetgroup\":\"sport\",\"orientation\":\"v\",\"showlegend\":true,\"type\":\"histogram\",\"x\":[\"sport\"],\"xaxis\":\"x\",\"y\":[13],\"yaxis\":\"y\"},{\"alignmentgroup\":\"True\",\"bingroup\":\"x\",\"histfunc\":\"sum\",\"hovertemplate\":\"occupation=%{x}<br>publish_year=2010<br>sum of o=%{y}<extra></extra>\",\"legendgroup\":\"programmer\",\"marker\":{\"color\":\"#FF6692\",\"pattern\":{\"shape\":\"\"}},\"name\":\"programmer\",\"offsetgroup\":\"programmer\",\"orientation\":\"v\",\"showlegend\":true,\"type\":\"histogram\",\"x\":[\"programmer\"],\"xaxis\":\"x\",\"y\":[14],\"yaxis\":\"y\"}],\"name\":\"2010\"},{\"data\":[{\"alignmentgroup\":\"True\",\"bingroup\":\"x\",\"histfunc\":\"sum\",\"hovertemplate\":\"occupation=%{x}<br>publish_year=2011<br>sum of o=%{y}<extra></extra>\",\"legendgroup\":\"politician\",\"marker\":{\"color\":\"#636efa\",\"pattern\":{\"shape\":\"\"}},\"name\":\"politician\",\"offsetgroup\":\"politician\",\"orientation\":\"v\",\"showlegend\":true,\"type\":\"histogram\",\"x\":[\"politician\"],\"xaxis\":\"x\",\"y\":[19],\"yaxis\":\"y\"},{\"alignmentgroup\":\"True\",\"bingroup\":\"x\",\"histfunc\":\"sum\",\"hovertemplate\":\"occupation=%{x}<br>publish_year=2011<br>sum of o=%{y}<extra></extra>\",\"legendgroup\":\"cryptographer\",\"marker\":{\"color\":\"#EF553B\",\"pattern\":{\"shape\":\"\"}},\"name\":\"cryptographer\",\"offsetgroup\":\"cryptographer\",\"orientation\":\"v\",\"showlegend\":true,\"type\":\"histogram\",\"x\":[\"cryptographer\"],\"xaxis\":\"x\",\"y\":[7],\"yaxis\":\"y\"},{\"alignmentgroup\":\"True\",\"bingroup\":\"x\",\"histfunc\":\"sum\",\"hovertemplate\":\"occupation=%{x}<br>publish_year=2011<br>sum of o=%{y}<extra></extra>\",\"legendgroup\":\"sport\",\"marker\":{\"color\":\"#19d3f3\",\"pattern\":{\"shape\":\"\"}},\"name\":\"sport\",\"offsetgroup\":\"sport\",\"orientation\":\"v\",\"showlegend\":true,\"type\":\"histogram\",\"x\":[\"sport\"],\"xaxis\":\"x\",\"y\":[36],\"yaxis\":\"y\"},{\"alignmentgroup\":\"True\",\"bingroup\":\"x\",\"histfunc\":\"sum\",\"hovertemplate\":\"occupation=%{x}<br>publish_year=2011<br>sum of o=%{y}<extra></extra>\",\"legendgroup\":\"programmer\",\"marker\":{\"color\":\"#FF6692\",\"pattern\":{\"shape\":\"\"}},\"name\":\"programmer\",\"offsetgroup\":\"programmer\",\"orientation\":\"v\",\"showlegend\":true,\"type\":\"histogram\",\"x\":[\"programmer\"],\"xaxis\":\"x\",\"y\":[35],\"yaxis\":\"y\"},{\"alignmentgroup\":\"True\",\"bingroup\":\"x\",\"histfunc\":\"sum\",\"hovertemplate\":\"occupation=%{x}<br>publish_year=2011<br>sum of o=%{y}<extra></extra>\",\"legendgroup\":\"economist\",\"marker\":{\"color\":\"#B6E880\",\"pattern\":{\"shape\":\"\"}},\"name\":\"economist\",\"offsetgroup\":\"economist\",\"orientation\":\"v\",\"showlegend\":true,\"type\":\"histogram\",\"x\":[\"economist\"],\"xaxis\":\"x\",\"y\":[27],\"yaxis\":\"y\"}],\"name\":\"2011\"},{\"data\":[{\"alignmentgroup\":\"True\",\"bingroup\":\"x\",\"histfunc\":\"sum\",\"hovertemplate\":\"occupation=%{x}<br>publish_year=2012<br>sum of o=%{y}<extra></extra>\",\"legendgroup\":\"politician\",\"marker\":{\"color\":\"#636efa\",\"pattern\":{\"shape\":\"\"}},\"name\":\"politician\",\"offsetgroup\":\"politician\",\"orientation\":\"v\",\"showlegend\":true,\"type\":\"histogram\",\"x\":[\"politician\"],\"xaxis\":\"x\",\"y\":[48],\"yaxis\":\"y\"},{\"alignmentgroup\":\"True\",\"bingroup\":\"x\",\"histfunc\":\"sum\",\"hovertemplate\":\"occupation=%{x}<br>publish_year=2012<br>sum of o=%{y}<extra></extra>\",\"legendgroup\":\"cryptographer\",\"marker\":{\"color\":\"#EF553B\",\"pattern\":{\"shape\":\"\"}},\"name\":\"cryptographer\",\"offsetgroup\":\"cryptographer\",\"orientation\":\"v\",\"showlegend\":true,\"type\":\"histogram\",\"x\":[\"cryptographer\"],\"xaxis\":\"x\",\"y\":[66],\"yaxis\":\"y\"},{\"alignmentgroup\":\"True\",\"bingroup\":\"x\",\"histfunc\":\"sum\",\"hovertemplate\":\"occupation=%{x}<br>publish_year=2012<br>sum of o=%{y}<extra></extra>\",\"legendgroup\":\"scientist\",\"marker\":{\"color\":\"#FFA15A\",\"pattern\":{\"shape\":\"\"}},\"name\":\"scientist\",\"offsetgroup\":\"scientist\",\"orientation\":\"v\",\"showlegend\":true,\"type\":\"histogram\",\"x\":[\"scientist\"],\"xaxis\":\"x\",\"y\":[27],\"yaxis\":\"y\"},{\"alignmentgroup\":\"True\",\"bingroup\":\"x\",\"histfunc\":\"sum\",\"hovertemplate\":\"occupation=%{x}<br>publish_year=2012<br>sum of o=%{y}<extra></extra>\",\"legendgroup\":\"programmer\",\"marker\":{\"color\":\"#FF6692\",\"pattern\":{\"shape\":\"\"}},\"name\":\"programmer\",\"offsetgroup\":\"programmer\",\"orientation\":\"v\",\"showlegend\":true,\"type\":\"histogram\",\"x\":[\"programmer\"],\"xaxis\":\"x\",\"y\":[51],\"yaxis\":\"y\"},{\"alignmentgroup\":\"True\",\"bingroup\":\"x\",\"histfunc\":\"sum\",\"hovertemplate\":\"occupation=%{x}<br>publish_year=2012<br>sum of o=%{y}<extra></extra>\",\"legendgroup\":\"entrepreneur\",\"marker\":{\"color\":\"#FF97FF\",\"pattern\":{\"shape\":\"\"}},\"name\":\"entrepreneur\",\"offsetgroup\":\"entrepreneur\",\"orientation\":\"v\",\"showlegend\":true,\"type\":\"histogram\",\"x\":[\"entrepreneur\"],\"xaxis\":\"x\",\"y\":[27],\"yaxis\":\"y\"}],\"name\":\"2012\"},{\"data\":[{\"alignmentgroup\":\"True\",\"bingroup\":\"x\",\"histfunc\":\"sum\",\"hovertemplate\":\"occupation=%{x}<br>publish_year=2013<br>sum of o=%{y}<extra></extra>\",\"legendgroup\":\"scientist\",\"marker\":{\"color\":\"#FFA15A\",\"pattern\":{\"shape\":\"\"}},\"name\":\"scientist\",\"offsetgroup\":\"scientist\",\"orientation\":\"v\",\"showlegend\":true,\"type\":\"histogram\",\"x\":[\"scientist\"],\"xaxis\":\"x\",\"y\":[166],\"yaxis\":\"y\"},{\"alignmentgroup\":\"True\",\"bingroup\":\"x\",\"histfunc\":\"sum\",\"hovertemplate\":\"occupation=%{x}<br>publish_year=2013<br>sum of o=%{y}<extra></extra>\",\"legendgroup\":\"programmer\",\"marker\":{\"color\":\"#FF6692\",\"pattern\":{\"shape\":\"\"}},\"name\":\"programmer\",\"offsetgroup\":\"programmer\",\"orientation\":\"v\",\"showlegend\":true,\"type\":\"histogram\",\"x\":[\"programmer\"],\"xaxis\":\"x\",\"y\":[100],\"yaxis\":\"y\"},{\"alignmentgroup\":\"True\",\"bingroup\":\"x\",\"histfunc\":\"sum\",\"hovertemplate\":\"occupation=%{x}<br>publish_year=2013<br>sum of o=%{y}<extra></extra>\",\"legendgroup\":\"economist\",\"marker\":{\"color\":\"#B6E880\",\"pattern\":{\"shape\":\"\"}},\"name\":\"economist\",\"offsetgroup\":\"economist\",\"orientation\":\"v\",\"showlegend\":true,\"type\":\"histogram\",\"x\":[\"economist\"],\"xaxis\":\"x\",\"y\":[214],\"yaxis\":\"y\"},{\"alignmentgroup\":\"True\",\"bingroup\":\"x\",\"histfunc\":\"sum\",\"hovertemplate\":\"occupation=%{x}<br>publish_year=2013<br>sum of o=%{y}<extra></extra>\",\"legendgroup\":\"entrepreneur\",\"marker\":{\"color\":\"#FF97FF\",\"pattern\":{\"shape\":\"\"}},\"name\":\"entrepreneur\",\"offsetgroup\":\"entrepreneur\",\"orientation\":\"v\",\"showlegend\":true,\"type\":\"histogram\",\"x\":[\"entrepreneur\"],\"xaxis\":\"x\",\"y\":[257],\"yaxis\":\"y\"},{\"alignmentgroup\":\"True\",\"bingroup\":\"x\",\"histfunc\":\"sum\",\"hovertemplate\":\"occupation=%{x}<br>publish_year=2013<br>sum of o=%{y}<extra></extra>\",\"legendgroup\":\"administrator\",\"marker\":{\"color\":\"#FECB52\",\"pattern\":{\"shape\":\"\"}},\"name\":\"administrator\",\"offsetgroup\":\"administrator\",\"orientation\":\"v\",\"showlegend\":true,\"type\":\"histogram\",\"x\":[\"administrator\"],\"xaxis\":\"x\",\"y\":[239],\"yaxis\":\"y\"}],\"name\":\"2013\"},{\"data\":[{\"alignmentgroup\":\"True\",\"bingroup\":\"x\",\"histfunc\":\"sum\",\"hovertemplate\":\"occupation=%{x}<br>publish_year=2014<br>sum of o=%{y}<extra></extra>\",\"legendgroup\":\"director\",\"marker\":{\"color\":\"#ab63fa\",\"pattern\":{\"shape\":\"\"}},\"name\":\"director\",\"offsetgroup\":\"director\",\"orientation\":\"v\",\"showlegend\":true,\"type\":\"histogram\",\"x\":[\"director\"],\"xaxis\":\"x\",\"y\":[380],\"yaxis\":\"y\"},{\"alignmentgroup\":\"True\",\"bingroup\":\"x\",\"histfunc\":\"sum\",\"hovertemplate\":\"occupation=%{x}<br>publish_year=2014<br>sum of o=%{y}<extra></extra>\",\"legendgroup\":\"economist\",\"marker\":{\"color\":\"#B6E880\",\"pattern\":{\"shape\":\"\"}},\"name\":\"economist\",\"offsetgroup\":\"economist\",\"orientation\":\"v\",\"showlegend\":true,\"type\":\"histogram\",\"x\":[\"economist\"],\"xaxis\":\"x\",\"y\":[378],\"yaxis\":\"y\"},{\"alignmentgroup\":\"True\",\"bingroup\":\"x\",\"histfunc\":\"sum\",\"hovertemplate\":\"occupation=%{x}<br>publish_year=2014<br>sum of o=%{y}<extra></extra>\",\"legendgroup\":\"entrepreneur\",\"marker\":{\"color\":\"#FF97FF\",\"pattern\":{\"shape\":\"\"}},\"name\":\"entrepreneur\",\"offsetgroup\":\"entrepreneur\",\"orientation\":\"v\",\"showlegend\":true,\"type\":\"histogram\",\"x\":[\"entrepreneur\"],\"xaxis\":\"x\",\"y\":[427],\"yaxis\":\"y\"},{\"alignmentgroup\":\"True\",\"bingroup\":\"x\",\"histfunc\":\"sum\",\"hovertemplate\":\"occupation=%{x}<br>publish_year=2014<br>sum of o=%{y}<extra></extra>\",\"legendgroup\":\"businessperson\",\"marker\":{\"color\":\"#636efa\",\"pattern\":{\"shape\":\"\"}},\"name\":\"businessperson\",\"offsetgroup\":\"businessperson\",\"orientation\":\"v\",\"showlegend\":true,\"type\":\"histogram\",\"x\":[\"businessperson\"],\"xaxis\":\"x\",\"y\":[973],\"yaxis\":\"y\"},{\"alignmentgroup\":\"True\",\"bingroup\":\"x\",\"histfunc\":\"sum\",\"hovertemplate\":\"occupation=%{x}<br>publish_year=2014<br>sum of o=%{y}<extra></extra>\",\"legendgroup\":\"journalist\",\"marker\":{\"color\":\"#EF553B\",\"pattern\":{\"shape\":\"\"}},\"name\":\"journalist\",\"offsetgroup\":\"journalist\",\"orientation\":\"v\",\"showlegend\":true,\"type\":\"histogram\",\"x\":[\"journalist\"],\"xaxis\":\"x\",\"y\":[545],\"yaxis\":\"y\"}],\"name\":\"2014\"},{\"data\":[{\"alignmentgroup\":\"True\",\"bingroup\":\"x\",\"histfunc\":\"sum\",\"hovertemplate\":\"occupation=%{x}<br>publish_year=2015<br>sum of o=%{y}<extra></extra>\",\"legendgroup\":\"scientist\",\"marker\":{\"color\":\"#FFA15A\",\"pattern\":{\"shape\":\"\"}},\"name\":\"scientist\",\"offsetgroup\":\"scientist\",\"orientation\":\"v\",\"showlegend\":true,\"type\":\"histogram\",\"x\":[\"scientist\"],\"xaxis\":\"x\",\"y\":[339],\"yaxis\":\"y\"},{\"alignmentgroup\":\"True\",\"bingroup\":\"x\",\"histfunc\":\"sum\",\"hovertemplate\":\"occupation=%{x}<br>publish_year=2015<br>sum of o=%{y}<extra></extra>\",\"legendgroup\":\"sport\",\"marker\":{\"color\":\"#19d3f3\",\"pattern\":{\"shape\":\"\"}},\"name\":\"sport\",\"offsetgroup\":\"sport\",\"orientation\":\"v\",\"showlegend\":true,\"type\":\"histogram\",\"x\":[\"sport\"],\"xaxis\":\"x\",\"y\":[197],\"yaxis\":\"y\"},{\"alignmentgroup\":\"True\",\"bingroup\":\"x\",\"histfunc\":\"sum\",\"hovertemplate\":\"occupation=%{x}<br>publish_year=2015<br>sum of o=%{y}<extra></extra>\",\"legendgroup\":\"entrepreneur\",\"marker\":{\"color\":\"#FF97FF\",\"pattern\":{\"shape\":\"\"}},\"name\":\"entrepreneur\",\"offsetgroup\":\"entrepreneur\",\"orientation\":\"v\",\"showlegend\":true,\"type\":\"histogram\",\"x\":[\"entrepreneur\"],\"xaxis\":\"x\",\"y\":[151],\"yaxis\":\"y\"},{\"alignmentgroup\":\"True\",\"bingroup\":\"x\",\"histfunc\":\"sum\",\"hovertemplate\":\"occupation=%{x}<br>publish_year=2015<br>sum of o=%{y}<extra></extra>\",\"legendgroup\":\"actor\",\"marker\":{\"color\":\"#00cc96\",\"pattern\":{\"shape\":\"\"}},\"name\":\"actor\",\"offsetgroup\":\"actor\",\"orientation\":\"v\",\"showlegend\":true,\"type\":\"histogram\",\"x\":[\"actor\"],\"xaxis\":\"x\",\"y\":[543],\"yaxis\":\"y\"},{\"alignmentgroup\":\"True\",\"bingroup\":\"x\",\"histfunc\":\"sum\",\"hovertemplate\":\"occupation=%{x}<br>publish_year=2015<br>sum of o=%{y}<extra></extra>\",\"legendgroup\":\"podcaster\",\"marker\":{\"color\":\"#ab63fa\",\"pattern\":{\"shape\":\"\"}},\"name\":\"podcaster\",\"offsetgroup\":\"podcaster\",\"orientation\":\"v\",\"showlegend\":true,\"type\":\"histogram\",\"x\":[\"podcaster\"],\"xaxis\":\"x\",\"y\":[254],\"yaxis\":\"y\"}],\"name\":\"2015\"},{\"data\":[{\"alignmentgroup\":\"True\",\"bingroup\":\"x\",\"histfunc\":\"sum\",\"hovertemplate\":\"occupation=%{x}<br>publish_year=2016<br>sum of o=%{y}<extra></extra>\",\"legendgroup\":\"engineer\",\"marker\":{\"color\":\"#00cc96\",\"pattern\":{\"shape\":\"\"}},\"name\":\"engineer\",\"offsetgroup\":\"engineer\",\"orientation\":\"v\",\"showlegend\":true,\"type\":\"histogram\",\"x\":[\"engineer\"],\"xaxis\":\"x\",\"y\":[232],\"yaxis\":\"y\"},{\"alignmentgroup\":\"True\",\"bingroup\":\"x\",\"histfunc\":\"sum\",\"hovertemplate\":\"occupation=%{x}<br>publish_year=2016<br>sum of o=%{y}<extra></extra>\",\"legendgroup\":\"director\",\"marker\":{\"color\":\"#ab63fa\",\"pattern\":{\"shape\":\"\"}},\"name\":\"director\",\"offsetgroup\":\"director\",\"orientation\":\"v\",\"showlegend\":true,\"type\":\"histogram\",\"x\":[\"director\"],\"xaxis\":\"x\",\"y\":[196],\"yaxis\":\"y\"},{\"alignmentgroup\":\"True\",\"bingroup\":\"x\",\"histfunc\":\"sum\",\"hovertemplate\":\"occupation=%{x}<br>publish_year=2016<br>sum of o=%{y}<extra></extra>\",\"legendgroup\":\"scientist\",\"marker\":{\"color\":\"#FFA15A\",\"pattern\":{\"shape\":\"\"}},\"name\":\"scientist\",\"offsetgroup\":\"scientist\",\"orientation\":\"v\",\"showlegend\":true,\"type\":\"histogram\",\"x\":[\"scientist\"],\"xaxis\":\"x\",\"y\":[509],\"yaxis\":\"y\"},{\"alignmentgroup\":\"True\",\"bingroup\":\"x\",\"histfunc\":\"sum\",\"hovertemplate\":\"occupation=%{x}<br>publish_year=2016<br>sum of o=%{y}<extra></extra>\",\"legendgroup\":\"programmer\",\"marker\":{\"color\":\"#FF6692\",\"pattern\":{\"shape\":\"\"}},\"name\":\"programmer\",\"offsetgroup\":\"programmer\",\"orientation\":\"v\",\"showlegend\":true,\"type\":\"histogram\",\"x\":[\"programmer\"],\"xaxis\":\"x\",\"y\":[191],\"yaxis\":\"y\"},{\"alignmentgroup\":\"True\",\"bingroup\":\"x\",\"histfunc\":\"sum\",\"hovertemplate\":\"occupation=%{x}<br>publish_year=2016<br>sum of o=%{y}<extra></extra>\",\"legendgroup\":\"entrepreneur\",\"marker\":{\"color\":\"#FF97FF\",\"pattern\":{\"shape\":\"\"}},\"name\":\"entrepreneur\",\"offsetgroup\":\"entrepreneur\",\"orientation\":\"v\",\"showlegend\":true,\"type\":\"histogram\",\"x\":[\"entrepreneur\"],\"xaxis\":\"x\",\"y\":[262],\"yaxis\":\"y\"}],\"name\":\"2016\"},{\"data\":[{\"alignmentgroup\":\"True\",\"bingroup\":\"x\",\"histfunc\":\"sum\",\"hovertemplate\":\"occupation=%{x}<br>publish_year=2017<br>sum of o=%{y}<extra></extra>\",\"legendgroup\":\"politician\",\"marker\":{\"color\":\"#636efa\",\"pattern\":{\"shape\":\"\"}},\"name\":\"politician\",\"offsetgroup\":\"politician\",\"orientation\":\"v\",\"showlegend\":true,\"type\":\"histogram\",\"x\":[\"politician\"],\"xaxis\":\"x\",\"y\":[996],\"yaxis\":\"y\"},{\"alignmentgroup\":\"True\",\"bingroup\":\"x\",\"histfunc\":\"sum\",\"hovertemplate\":\"occupation=%{x}<br>publish_year=2017<br>sum of o=%{y}<extra></extra>\",\"legendgroup\":\"scientist\",\"marker\":{\"color\":\"#FFA15A\",\"pattern\":{\"shape\":\"\"}},\"name\":\"scientist\",\"offsetgroup\":\"scientist\",\"orientation\":\"v\",\"showlegend\":true,\"type\":\"histogram\",\"x\":[\"scientist\"],\"xaxis\":\"x\",\"y\":[994],\"yaxis\":\"y\"},{\"alignmentgroup\":\"True\",\"bingroup\":\"x\",\"histfunc\":\"sum\",\"hovertemplate\":\"occupation=%{x}<br>publish_year=2017<br>sum of o=%{y}<extra></extra>\",\"legendgroup\":\"economist\",\"marker\":{\"color\":\"#B6E880\",\"pattern\":{\"shape\":\"\"}},\"name\":\"economist\",\"offsetgroup\":\"economist\",\"orientation\":\"v\",\"showlegend\":true,\"type\":\"histogram\",\"x\":[\"economist\"],\"xaxis\":\"x\",\"y\":[1904],\"yaxis\":\"y\"},{\"alignmentgroup\":\"True\",\"bingroup\":\"x\",\"histfunc\":\"sum\",\"hovertemplate\":\"occupation=%{x}<br>publish_year=2017<br>sum of o=%{y}<extra></extra>\",\"legendgroup\":\"entrepreneur\",\"marker\":{\"color\":\"#FF97FF\",\"pattern\":{\"shape\":\"\"}},\"name\":\"entrepreneur\",\"offsetgroup\":\"entrepreneur\",\"orientation\":\"v\",\"showlegend\":true,\"type\":\"histogram\",\"x\":[\"entrepreneur\"],\"xaxis\":\"x\",\"y\":[1200],\"yaxis\":\"y\"},{\"alignmentgroup\":\"True\",\"bingroup\":\"x\",\"histfunc\":\"sum\",\"hovertemplate\":\"occupation=%{x}<br>publish_year=2017<br>sum of o=%{y}<extra></extra>\",\"legendgroup\":\"businessperson\",\"marker\":{\"color\":\"#636efa\",\"pattern\":{\"shape\":\"\"}},\"name\":\"businessperson\",\"offsetgroup\":\"businessperson\",\"orientation\":\"v\",\"showlegend\":true,\"type\":\"histogram\",\"x\":[\"businessperson\"],\"xaxis\":\"x\",\"y\":[1279],\"yaxis\":\"y\"}],\"name\":\"2017\"}]);\n",
       "                        }).then(function(){\n",
       "                            \n",
       "var gd = document.getElementById('6bcc46b1-0474-4dd4-b732-ddf0f18d350f');\n",
       "var x = new MutationObserver(function (mutations, observer) {{\n",
       "        var display = window.getComputedStyle(gd).display;\n",
       "        if (!display || display === 'none') {{\n",
       "            console.log([gd, 'removed!']);\n",
       "            Plotly.purge(gd);\n",
       "            observer.disconnect();\n",
       "        }}\n",
       "}});\n",
       "\n",
       "// Listen for the removal of the full notebook cells\n",
       "var notebookContainer = gd.closest('#notebook-container');\n",
       "if (notebookContainer) {{\n",
       "    x.observe(notebookContainer, {childList: true});\n",
       "}}\n",
       "\n",
       "// Listen for the clearing of the current output cell\n",
       "var outputEl = gd.closest('.output');\n",
       "if (outputEl) {{\n",
       "    x.observe(outputEl, {childList: true});\n",
       "}}\n",
       "\n",
       "                        })                };                });            </script>        </div>"
      ]
     },
     "metadata": {},
     "output_type": "display_data"
    }
   ],
   "source": [
    "import plotly.express as px\n",
    "\n",
    "fig = px.histogram(df_grouped_top, \n",
    "                   x=\"occupation\",\n",
    "                   y=\"o\", \n",
    "                   animation_frame=\"publish_year\",\n",
    "                   color=\"occupation\",\n",
    "                   hover_name=\"publish_year\")\n",
    "\n",
    "fig[\"layout\"].pop(\"updatemenus\") # optional, drop animation buttons\n",
    "fig.update_xaxes(fixedrange=False)\n",
    "fig.update_xaxes(autorange=True)\n",
    "fig.update_xaxes(categoryorder='total descending')\n",
    "fig.update_yaxes(range=[0, 2000])\n",
    "fig.show()"
   ]
  },
  {
   "cell_type": "code",
   "execution_count": null,
   "id": "1f9be566",
   "metadata": {},
   "outputs": [],
   "source": []
  }
 ],
 "metadata": {
  "kernelspec": {
   "display_name": "Python 3 (ipykernel)",
   "language": "python",
   "name": "python3"
  },
  "language_info": {
   "codemirror_mode": {
    "name": "ipython",
    "version": 3
   },
   "file_extension": ".py",
   "mimetype": "text/x-python",
   "name": "python",
   "nbconvert_exporter": "python",
   "pygments_lexer": "ipython3",
   "version": "3.8.12"
  }
 },
 "nbformat": 4,
 "nbformat_minor": 5
}
